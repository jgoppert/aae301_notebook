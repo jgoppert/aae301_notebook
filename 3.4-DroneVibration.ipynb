{
 "cells": [
  {
   "cell_type": "markdown",
   "metadata": {},
   "source": [
    "In this demo we will analyze the mechanical vibration of a quadrotor during flight using publicly available logs.\n",
    "\n",
    "We obtain the logs from review.px4.io, https://review.px4.io/plot_app?log=8aa57955-db73-46d5-8800-17903bbc3575"
   ]
  },
  {
   "cell_type": "markdown",
   "metadata": {},
   "source": [
    "# Open the file"
   ]
  },
  {
   "cell_type": "code",
   "execution_count": 1,
   "metadata": {},
   "outputs": [
    {
     "name": "stdout",
     "output_type": "stream",
     "text": [
      "Populating the interactive namespace from numpy and matplotlib\n"
     ]
    }
   ],
   "source": [
    "%pylab inline\n",
    "\n",
    "import pyulog\n",
    "\n",
    "with open('data/8aa57955-db73-46d5-8800-17903bbc3575.ulg', 'rb') as f:\n",
    "    log = pyulog.ULog(f)"
   ]
  },
  {
   "cell_type": "markdown",
   "metadata": {},
   "source": [
    "# List the Data Topics"
   ]
  },
  {
   "cell_type": "code",
   "execution_count": 2,
   "metadata": {},
   "outputs": [
    {
     "name": "stdout",
     "output_type": "stream",
     "text": [
      "vehicle_local_position_setpoint\n",
      "vehicle_magnetometer\n",
      "vehicle_air_data\n",
      "ekf2_timestamps\n",
      "vehicle_status_flags\n",
      "vehicle_status\n",
      "vehicle_rates_setpoint\n",
      "vehicle_local_position\n",
      "vehicle_land_detected\n",
      "vehicle_gps_position\n",
      "vehicle_global_position\n",
      "vehicle_attitude_setpoint\n",
      "vehicle_attitude\n",
      "telemetry_status\n",
      "system_power\n",
      "sensor_preflight\n",
      "sensor_combined\n",
      "safety\n",
      "rate_ctrl_status\n",
      "manual_control_setpoint\n",
      "input_rc\n",
      "home_position\n",
      "estimator_status\n",
      "ekf2_innovations\n",
      "distance_sensor\n",
      "cpuload\n",
      "battery_status\n",
      "actuator_outputs\n",
      "actuator_outputs\n",
      "actuator_controls_0\n"
     ]
    }
   ],
   "source": [
    "for data in log.data_list:\n",
    "    print(data.name)"
   ]
  },
  {
   "cell_type": "code",
   "execution_count": 3,
   "metadata": {},
   "outputs": [
    {
     "data": {
      "text/plain": [
       "[<matplotlib.lines.Line2D at 0x7fd65a47fb20>]"
      ]
     },
     "execution_count": 3,
     "metadata": {},
     "output_type": "execute_result"
    },
    {
     "data": {
      "image/png": "[encoded data removed]",
      "text/plain": [
       "<Figure size 432x288 with 1 Axes>"
      ]
     },
     "metadata": {
      "needs_background": "light"
     },
     "output_type": "display_data"
    }
   ],
   "source": [
    "d = log.get_dataset('actuator_controls_0')\n",
    "plt.plot(d.data['control[1]'])"
   ]
  },
  {
   "cell_type": "code",
   "execution_count": 4,
   "metadata": {},
   "outputs": [
    {
     "name": "stdout",
     "output_type": "stream",
     "text": [
      "SDLOG_DIRS_MAX\n",
      "SDLOG_MODE\n",
      "SDLOG_PROFILE\n",
      "SDLOG_UTC_OFFSET\n",
      "SDLOG_UUID\n",
      "SYS_LOGGER\n"
     ]
    }
   ],
   "source": [
    "import re\n",
    "import sys\n",
    "\n",
    "search_term = sys.argv[1]\n",
    "f = sys.argv[2]\n",
    "\n",
    "for k in log.initial_parameters.keys():\n",
    "    if re.search('LOG', k):\n",
    "        print(k)"
   ]
  },
  {
   "cell_type": "code",
   "execution_count": 5,
   "metadata": {},
   "outputs": [
    {
     "data": {
      "text/plain": [
       "3"
      ]
     },
     "execution_count": 5,
     "metadata": {},
     "output_type": "execute_result"
    }
   ],
   "source": [
    "log.initial_parameters['SDLOG_PROFILE']"
   ]
  },
  {
   "cell_type": "code",
   "execution_count": 6,
   "metadata": {},
   "outputs": [
    {
     "data": {
      "text/plain": [
       "array([31.09646122, 31.41887646, 31.18762475, ..., 31.23145632,\n",
       "       34.59369703, 31.43467874])"
      ]
     },
     "execution_count": 6,
     "metadata": {},
     "output_type": "execute_result"
    }
   ],
   "source": [
    "1/(np.diff(log.get_dataset('vehicle_attitude').data['timestamp'])/1e6)"
   ]
  },
  {
   "cell_type": "code",
   "execution_count": 7,
   "metadata": {},
   "outputs": [
    {
     "name": "stdout",
     "output_type": "stream",
     "text": [
      "vehicle_local_position_setpoint\n",
      "\t timestamp\n",
      "\t x\n",
      "\t y\n",
      "\t z\n",
      "\t yaw\n",
      "\t yawspeed\n",
      "\t vx\n",
      "\t vy\n",
      "\t vz\n",
      "\t acc_x\n",
      "\t acc_y\n",
      "\t acc_z\n",
      "\t thrust[0]\n",
      "\t thrust[1]\n",
      "\t thrust[2]\n",
      "vehicle_magnetometer\n",
      "\t timestamp\n",
      "\t magnetometer_ga[0]\n",
      "\t magnetometer_ga[1]\n",
      "\t magnetometer_ga[2]\n",
      "vehicle_air_data\n",
      "\t timestamp\n",
      "\t baro_alt_meter\n",
      "\t baro_temp_celcius\n",
      "\t baro_pressure_pa\n",
      "\t rho\n",
      "ekf2_timestamps\n",
      "\t timestamp\n",
      "\t airspeed_timestamp_rel\n",
      "\t distance_sensor_timestamp_rel\n",
      "\t gps_timestamp_rel\n",
      "\t optical_flow_timestamp_rel\n",
      "\t vehicle_air_data_timestamp_rel\n",
      "\t vehicle_magnetometer_timestamp_rel\n",
      "\t vision_attitude_timestamp_rel\n",
      "\t vision_position_timestamp_rel\n",
      "vehicle_status_flags\n",
      "\t timestamp\n",
      "\t condition_calibration_enabled\n",
      "\t condition_system_sensors_initialized\n",
      "\t condition_system_hotplug_timeout\n",
      "\t condition_system_returned_to_home\n",
      "\t condition_auto_mission_available\n",
      "\t condition_global_position_valid\n",
      "\t condition_home_position_valid\n",
      "\t condition_local_position_valid\n",
      "\t condition_local_velocity_valid\n",
      "\t condition_local_altitude_valid\n",
      "\t condition_power_input_valid\n",
      "\t circuit_breaker_engaged_power_check\n",
      "\t circuit_breaker_engaged_airspd_check\n",
      "\t circuit_breaker_engaged_enginefailure_check\n",
      "\t circuit_breaker_engaged_gpsfailure_check\n",
      "\t circuit_breaker_flight_termination_disabled\n",
      "\t circuit_breaker_engaged_usb_check\n",
      "\t circuit_breaker_engaged_posfailure_check\n",
      "\t offboard_control_signal_found_once\n",
      "\t offboard_control_signal_lost\n",
      "\t offboard_control_set_by_command\n",
      "\t offboard_control_loss_timeout\n",
      "\t rc_signal_found_once\n",
      "\t rc_input_blocked\n",
      "\t rc_calibration_valid\n",
      "\t vtol_transition_failure\n",
      "\t usb_connected\n",
      "vehicle_status\n",
      "\t timestamp\n",
      "\t onboard_control_sensors_present\n",
      "\t onboard_control_sensors_enabled\n",
      "\t onboard_control_sensors_health\n",
      "\t nav_state\n",
      "\t arming_state\n",
      "\t hil_state\n",
      "\t failsafe\n",
      "\t system_type\n",
      "\t system_id\n",
      "\t component_id\n",
      "\t is_rotary_wing\n",
      "\t is_vtol\n",
      "\t vtol_fw_permanent_stab\n",
      "\t in_transition_mode\n",
      "\t in_transition_to_fw\n",
      "\t rc_signal_lost\n",
      "\t rc_input_mode\n",
      "\t data_link_lost\n",
      "\t high_latency_data_link_active\n",
      "\t data_link_lost_counter\n",
      "\t engine_failure\n",
      "\t mission_failure\n",
      "vehicle_rates_setpoint\n",
      "\t timestamp\n",
      "\t roll\n",
      "\t pitch\n",
      "\t yaw\n",
      "\t thrust\n",
      "vehicle_local_position\n",
      "\t timestamp\n",
      "\t ref_timestamp\n",
      "\t ref_lat\n",
      "\t ref_lon\n",
      "\t x\n",
      "\t y\n",
      "\t z\n",
      "\t delta_xy[0]\n",
      "\t delta_xy[1]\n",
      "\t delta_z\n",
      "\t vx\n",
      "\t vy\n",
      "\t vz\n",
      "\t z_deriv\n",
      "\t delta_vxy[0]\n",
      "\t delta_vxy[1]\n",
      "\t delta_vz\n",
      "\t ax\n",
      "\t ay\n",
      "\t az\n",
      "\t yaw\n",
      "\t ref_alt\n",
      "\t dist_bottom\n",
      "\t dist_bottom_rate\n",
      "\t eph\n",
      "\t epv\n",
      "\t evh\n",
      "\t evv\n",
      "\t vxy_max\n",
      "\t vz_max\n",
      "\t hagl_min\n",
      "\t hagl_max\n",
      "\t xy_valid\n",
      "\t z_valid\n",
      "\t v_xy_valid\n",
      "\t v_z_valid\n",
      "\t xy_reset_counter\n",
      "\t z_reset_counter\n",
      "\t vxy_reset_counter\n",
      "\t vz_reset_counter\n",
      "\t xy_global\n",
      "\t z_global\n",
      "\t dist_bottom_valid\n",
      "vehicle_land_detected\n",
      "\t timestamp\n",
      "\t alt_max\n",
      "\t landed\n",
      "\t freefall\n",
      "\t ground_contact\n",
      "\t maybe_landed\n",
      "vehicle_gps_position\n",
      "\t timestamp\n",
      "\t time_utc_usec\n",
      "\t lat\n",
      "\t lon\n",
      "\t alt\n",
      "\t alt_ellipsoid\n",
      "\t s_variance_m_s\n",
      "\t c_variance_rad\n",
      "\t eph\n",
      "\t epv\n",
      "\t hdop\n",
      "\t vdop\n",
      "\t noise_per_ms\n",
      "\t jamming_indicator\n",
      "\t vel_m_s\n",
      "\t vel_n_m_s\n",
      "\t vel_e_m_s\n",
      "\t vel_d_m_s\n",
      "\t cog_rad\n",
      "\t timestamp_time_relative\n",
      "\t fix_type\n",
      "\t vel_ned_valid\n",
      "\t satellites_used\n",
      "vehicle_global_position\n",
      "\t timestamp\n",
      "\t lat\n",
      "\t lon\n",
      "\t alt\n",
      "\t delta_alt\n",
      "\t vel_n\n",
      "\t vel_e\n",
      "\t vel_d\n",
      "\t yaw\n",
      "\t eph\n",
      "\t epv\n",
      "\t terrain_alt\n",
      "\t lat_lon_reset_counter\n",
      "\t alt_reset_counter\n",
      "\t terrain_alt_valid\n",
      "\t dead_reckoning\n",
      "vehicle_attitude_setpoint\n",
      "\t timestamp\n",
      "\t roll_body\n",
      "\t pitch_body\n",
      "\t yaw_body\n",
      "\t yaw_sp_move_rate\n",
      "\t q_d[0]\n",
      "\t q_d[1]\n",
      "\t q_d[2]\n",
      "\t q_d[3]\n",
      "\t thrust\n",
      "\t landing_gear\n",
      "\t q_d_valid\n",
      "\t roll_reset_integral\n",
      "\t pitch_reset_integral\n",
      "\t yaw_reset_integral\n",
      "\t fw_control_yaw\n",
      "\t disable_mc_yaw_control\n",
      "\t apply_flaps\n",
      "vehicle_attitude\n",
      "\t timestamp\n",
      "\t rollspeed\n",
      "\t pitchspeed\n",
      "\t yawspeed\n",
      "\t q[0]\n",
      "\t q[1]\n",
      "\t q[2]\n",
      "\t q[3]\n",
      "\t delta_q_reset[0]\n",
      "\t delta_q_reset[1]\n",
      "\t delta_q_reset[2]\n",
      "\t delta_q_reset[3]\n",
      "\t quat_reset_counter\n",
      "telemetry_status\n",
      "\t timestamp\n",
      "\t heartbeat_time\n",
      "\t telem_time\n",
      "\t rxerrors\n",
      "\t fixed\n",
      "\t type\n",
      "\t rssi\n",
      "\t remote_rssi\n",
      "\t noise\n",
      "\t remote_noise\n",
      "\t txbuf\n",
      "\t system_id\n",
      "\t component_id\n",
      "system_power\n",
      "\t timestamp\n",
      "\t voltage5V_v\n",
      "\t voltage3V3_v\n",
      "\t v3v3_valid\n",
      "\t usb_connected\n",
      "\t brick_valid\n",
      "\t usb_valid\n",
      "\t servo_valid\n",
      "\t periph_5V_OC\n",
      "\t hipower_5V_OC\n",
      "sensor_preflight\n",
      "\t timestamp\n",
      "\t accel_inconsistency_m_s_s\n",
      "\t gyro_inconsistency_rad_s\n",
      "\t mag_inconsistency_ga\n",
      "sensor_combined\n",
      "\t timestamp\n",
      "\t gyro_rad[0]\n",
      "\t gyro_rad[1]\n",
      "\t gyro_rad[2]\n",
      "\t gyro_integral_dt\n",
      "\t accelerometer_timestamp_relative\n",
      "\t accelerometer_m_s2[0]\n",
      "\t accelerometer_m_s2[1]\n",
      "\t accelerometer_m_s2[2]\n",
      "\t accelerometer_integral_dt\n",
      "safety\n",
      "\t timestamp\n",
      "\t safety_switch_available\n",
      "\t safety_off\n",
      "\t override_available\n",
      "\t override_enabled\n",
      "rate_ctrl_status\n",
      "\t timestamp\n",
      "\t rollspeed\n",
      "\t pitchspeed\n",
      "\t yawspeed\n",
      "\t rollspeed_integ\n",
      "\t pitchspeed_integ\n",
      "\t yawspeed_integ\n",
      "\t additional_integ1\n",
      "manual_control_setpoint\n",
      "\t timestamp\n",
      "\t x\n",
      "\t y\n",
      "\t z\n",
      "\t r\n",
      "\t flaps\n",
      "\t aux1\n",
      "\t aux2\n",
      "\t aux3\n",
      "\t aux4\n",
      "\t aux5\n",
      "\t mode_switch\n",
      "\t return_switch\n",
      "\t rattitude_switch\n",
      "\t posctl_switch\n",
      "\t loiter_switch\n",
      "\t acro_switch\n",
      "\t offboard_switch\n",
      "\t kill_switch\n",
      "\t arm_switch\n",
      "\t transition_switch\n",
      "\t gear_switch\n",
      "\t mode_slot\n",
      "\t data_source\n",
      "\t stab_switch\n",
      "\t man_switch\n",
      "input_rc\n",
      "\t timestamp\n",
      "\t timestamp_last_signal\n",
      "\t channel_count\n",
      "\t rssi\n",
      "\t rc_lost_frame_count\n",
      "\t rc_total_frame_count\n",
      "\t rc_ppm_frame_length\n",
      "\t values[0]\n",
      "\t values[1]\n",
      "\t values[2]\n",
      "\t values[3]\n",
      "\t values[4]\n",
      "\t values[5]\n",
      "\t values[6]\n",
      "\t values[7]\n",
      "\t values[8]\n",
      "\t values[9]\n",
      "\t values[10]\n",
      "\t values[11]\n",
      "\t values[12]\n",
      "\t values[13]\n",
      "\t values[14]\n",
      "\t values[15]\n",
      "\t values[16]\n",
      "\t values[17]\n",
      "\t rc_failsafe\n",
      "\t rc_lost\n",
      "\t input_source\n",
      "home_position\n",
      "\t timestamp\n",
      "\t lat\n",
      "\t lon\n",
      "\t alt\n",
      "\t x\n",
      "\t y\n",
      "\t z\n",
      "\t yaw\n",
      "\t valid_alt\n",
      "\t valid_hpos\n",
      "\t manual_home\n",
      "estimator_status\n",
      "\t timestamp\n",
      "\t states[0]\n",
      "\t states[1]\n",
      "\t states[2]\n",
      "\t states[3]\n",
      "\t states[4]\n",
      "\t states[5]\n",
      "\t states[6]\n",
      "\t states[7]\n",
      "\t states[8]\n",
      "\t states[9]\n",
      "\t states[10]\n",
      "\t states[11]\n",
      "\t states[12]\n",
      "\t states[13]\n",
      "\t states[14]\n",
      "\t states[15]\n",
      "\t states[16]\n",
      "\t states[17]\n",
      "\t states[18]\n",
      "\t states[19]\n",
      "\t states[20]\n",
      "\t states[21]\n",
      "\t states[22]\n",
      "\t states[23]\n",
      "\t n_states\n",
      "\t vibe[0]\n",
      "\t vibe[1]\n",
      "\t vibe[2]\n",
      "\t covariances[0]\n",
      "\t covariances[1]\n",
      "\t covariances[2]\n",
      "\t covariances[3]\n",
      "\t covariances[4]\n",
      "\t covariances[5]\n",
      "\t covariances[6]\n",
      "\t covariances[7]\n",
      "\t covariances[8]\n",
      "\t covariances[9]\n",
      "\t covariances[10]\n",
      "\t covariances[11]\n",
      "\t covariances[12]\n",
      "\t covariances[13]\n",
      "\t covariances[14]\n",
      "\t covariances[15]\n",
      "\t covariances[16]\n",
      "\t covariances[17]\n",
      "\t covariances[18]\n",
      "\t covariances[19]\n",
      "\t covariances[20]\n",
      "\t covariances[21]\n",
      "\t covariances[22]\n",
      "\t covariances[23]\n",
      "\t control_mode_flags\n",
      "\t pos_horiz_accuracy\n",
      "\t pos_vert_accuracy\n",
      "\t mag_test_ratio\n",
      "\t vel_test_ratio\n",
      "\t pos_test_ratio\n",
      "\t hgt_test_ratio\n",
      "\t tas_test_ratio\n",
      "\t hagl_test_ratio\n",
      "\t beta_test_ratio\n",
      "\t time_slip\n",
      "\t gps_check_fail_flags\n",
      "\t filter_fault_flags\n",
      "\t innovation_check_flags\n",
      "\t solution_status_flags\n",
      "\t nan_flags\n",
      "\t health_flags\n",
      "\t timeout_flags\n",
      "\t pre_flt_fail\n",
      "ekf2_innovations\n",
      "\t timestamp\n",
      "\t vel_pos_innov[0]\n",
      "\t vel_pos_innov[1]\n",
      "\t vel_pos_innov[2]\n",
      "\t vel_pos_innov[3]\n",
      "\t vel_pos_innov[4]\n",
      "\t vel_pos_innov[5]\n",
      "\t mag_innov[0]\n",
      "\t mag_innov[1]\n",
      "\t mag_innov[2]\n",
      "\t heading_innov\n",
      "\t airspeed_innov\n",
      "\t beta_innov\n",
      "\t flow_innov[0]\n",
      "\t flow_innov[1]\n",
      "\t hagl_innov\n",
      "\t vel_pos_innov_var[0]\n",
      "\t vel_pos_innov_var[1]\n",
      "\t vel_pos_innov_var[2]\n",
      "\t vel_pos_innov_var[3]\n",
      "\t vel_pos_innov_var[4]\n",
      "\t vel_pos_innov_var[5]\n",
      "\t mag_innov_var[0]\n",
      "\t mag_innov_var[1]\n",
      "\t mag_innov_var[2]\n",
      "\t heading_innov_var\n",
      "\t airspeed_innov_var\n",
      "\t beta_innov_var\n",
      "\t flow_innov_var[0]\n",
      "\t flow_innov_var[1]\n",
      "\t hagl_innov_var\n",
      "\t output_tracking_error[0]\n",
      "\t output_tracking_error[1]\n",
      "\t output_tracking_error[2]\n",
      "\t drag_innov[0]\n",
      "\t drag_innov[1]\n",
      "\t drag_innov_var[0]\n",
      "\t drag_innov_var[1]\n",
      "\t aux_vel_innov[0]\n",
      "\t aux_vel_innov[1]\n",
      "distance_sensor\n",
      "\t timestamp\n",
      "\t min_distance\n",
      "\t max_distance\n",
      "\t current_distance\n",
      "\t covariance\n",
      "\t type\n",
      "\t id\n",
      "\t orientation\n",
      "cpuload\n",
      "\t timestamp\n",
      "\t load\n",
      "\t ram_usage\n",
      "battery_status\n",
      "\t timestamp\n",
      "\t voltage_v\n",
      "\t voltage_filtered_v\n",
      "\t current_a\n",
      "\t current_filtered_a\n",
      "\t average_current_a\n",
      "\t discharged_mah\n",
      "\t remaining\n",
      "\t scale\n",
      "\t temperature\n",
      "\t cell_count\n",
      "\t capacity\n",
      "\t cycle_count\n",
      "\t run_time_to_empty\n",
      "\t average_time_to_empty\n",
      "\t serial_number\n",
      "\t connected\n",
      "\t system_source\n",
      "\t priority\n",
      "\t is_powering_off\n",
      "\t warning\n",
      "actuator_outputs\n",
      "\t timestamp\n",
      "\t noutputs\n",
      "\t output[0]\n",
      "\t output[1]\n",
      "\t output[2]\n",
      "\t output[3]\n",
      "\t output[4]\n",
      "\t output[5]\n",
      "\t output[6]\n",
      "\t output[7]\n",
      "\t output[8]\n",
      "\t output[9]\n",
      "\t output[10]\n",
      "\t output[11]\n",
      "\t output[12]\n",
      "\t output[13]\n",
      "\t output[14]\n",
      "\t output[15]\n",
      "actuator_outputs\n",
      "\t timestamp\n",
      "\t noutputs\n",
      "\t output[0]\n",
      "\t output[1]\n",
      "\t output[2]\n",
      "\t output[3]\n",
      "\t output[4]\n",
      "\t output[5]\n",
      "\t output[6]\n",
      "\t output[7]\n",
      "\t output[8]\n",
      "\t output[9]\n",
      "\t output[10]\n",
      "\t output[11]\n",
      "\t output[12]\n",
      "\t output[13]\n",
      "\t output[14]\n",
      "\t output[15]\n",
      "actuator_controls_0\n",
      "\t timestamp\n",
      "\t timestamp_sample\n",
      "\t control[0]\n",
      "\t control[1]\n",
      "\t control[2]\n",
      "\t control[3]\n",
      "\t control[4]\n",
      "\t control[5]\n",
      "\t control[6]\n",
      "\t control[7]\n"
     ]
    }
   ],
   "source": [
    "for topic in log.data_list:\n",
    "    print(topic.name)\n",
    "    for k in log.get_dataset(topic.name).data.keys():\n",
    "        print('\\t', k)"
   ]
  },
  {
   "cell_type": "code",
   "execution_count": 8,
   "metadata": {},
   "outputs": [
    {
     "data": {
      "text/plain": [
       "[<matplotlib.lines.Line2D at 0x7fd65a388220>]"
      ]
     },
     "execution_count": 8,
     "metadata": {},
     "output_type": "execute_result"
    },
    {
     "data": {
      "image/png": "[encoded data removed]",
      "text/plain": [
       "<Figure size 432x288 with 1 Axes>"
      ]
     },
     "metadata": {
      "needs_background": "light"
     },
     "output_type": "display_data"
    }
   ],
   "source": [
    "ld = log.get_dataset('vehicle_land_detected').data\n",
    "plt.plot(ld['timestamp']/1e6, ld['landed'])"
   ]
  },
  {
   "cell_type": "code",
   "execution_count": 9,
   "metadata": {},
   "outputs": [
    {
     "data": {
      "text/plain": [
       "dict_keys(['timestamp', 'onboard_control_sensors_present', 'onboard_control_sensors_enabled', 'onboard_control_sensors_health', 'nav_state', 'arming_state', 'hil_state', 'failsafe', 'system_type', 'system_id', 'component_id', 'is_rotary_wing', 'is_vtol', 'vtol_fw_permanent_stab', 'in_transition_mode', 'in_transition_to_fw', 'rc_signal_lost', 'rc_input_mode', 'data_link_lost', 'high_latency_data_link_active', 'data_link_lost_counter', 'engine_failure', 'mission_failure'])"
      ]
     },
     "execution_count": 9,
     "metadata": {},
     "output_type": "execute_result"
    }
   ],
   "source": [
    "log.get_dataset('vehicle_status').data.keys()"
   ]
  },
  {
   "cell_type": "markdown",
   "metadata": {},
   "source": [
    "# Plot the raw x acceleration, about the aircraft roll axis"
   ]
  },
  {
   "cell_type": "code",
   "execution_count": 10,
   "metadata": {},
   "outputs": [],
   "source": [
    "sensor = log.get_dataset('sensor_combined')"
   ]
  },
  {
   "cell_type": "code",
   "execution_count": 11,
   "metadata": {},
   "outputs": [
    {
     "data": {
      "text/plain": [
       "Text(0, 0.5, 'accel m/s^2')"
      ]
     },
     "execution_count": 11,
     "metadata": {},
     "output_type": "execute_result"
    },
    {
     "data": {
      "image/png": "[encoded data removed]",
      "text/plain": [
       "<Figure size 720x360 with 1 Axes>"
      ]
     },
     "metadata": {
      "needs_background": "light"
     },
     "output_type": "display_data"
    }
   ],
   "source": [
    "accx = sensor.data['accelerometer_m_s2[0]']\n",
    "t = sensor.data['timestamp']/1.0e6\n",
    "plt.figure(figsize=(10, 5))\n",
    "plt.plot(t, accx)\n",
    "plt.gca().set_ylim(-10, 10)\n",
    "plt.grid()\n",
    "plt.xlabel('t, sec')\n",
    "plt.ylabel('accel m/s^2')"
   ]
  },
  {
   "cell_type": "markdown",
   "metadata": {},
   "source": [
    "## Compute the Sample Time"
   ]
  },
  {
   "cell_type": "code",
   "execution_count": 12,
   "metadata": {},
   "outputs": [
    {
     "data": {
      "text/plain": [
       "(0.004021126940387619, 248.68650376493818)"
      ]
     },
     "execution_count": 12,
     "metadata": {},
     "output_type": "execute_result"
    },
    {
     "data": {
      "image/png": "[encoded data removed]",
      "text/plain": [
       "<Figure size 432x288 with 1 Axes>"
      ]
     },
     "metadata": {
      "needs_background": "light"
     },
     "output_type": "display_data"
    }
   ],
   "source": [
    "plt.plot(np.diff(t))\n",
    "Ts = np.mean(np.diff(t))\n",
    "Ts, 1/Ts"
   ]
  },
  {
   "cell_type": "markdown",
   "metadata": {},
   "source": [
    "## Find the Vibrational Frequencies"
   ]
  },
  {
   "cell_type": "code",
   "execution_count": 13,
   "metadata": {},
   "outputs": [
    {
     "data": {
      "text/plain": [
       "[<matplotlib.lines.Line2D at 0x7fd651a50a60>]"
      ]
     },
     "execution_count": 13,
     "metadata": {},
     "output_type": "execute_result"
    },
    {
     "data": {
      "image/png": "[encoded data removed]",
      "text/plain": [
       "<Figure size 432x288 with 1 Axes>"
      ]
     },
     "metadata": {
      "needs_background": "light"
     },
     "output_type": "display_data"
    }
   ],
   "source": [
    "plot(accx)"
   ]
  },
  {
   "cell_type": "code",
   "execution_count": 14,
   "metadata": {},
   "outputs": [
    {
     "data": {
      "text/plain": [
       "(0.01587309348631112+0.06375614616420029j)"
      ]
     },
     "execution_count": 14,
     "metadata": {},
     "output_type": "execute_result"
    },
    {
     "data": {
      "image/png": "[encoded data removed]",
      "text/plain": [
       "<Figure size 432x288 with 1 Axes>"
      ]
     },
     "metadata": {
      "needs_background": "light"
     },
     "output_type": "display_data"
    }
   ],
   "source": [
    "ak = fft.ifft(accx)\n",
    "plot(abs(ak)**2)\n",
    "ak[1]"
   ]
  },
  {
   "cell_type": "code",
   "execution_count": 15,
   "metadata": {},
   "outputs": [],
   "source": [
    "def power_spectrum(t, y, dB=False):\n",
    "    n = len(y)\n",
    "    ak = np.fft.ifft(y)\n",
    "    n_half = int(np.ceil(n/2))\n",
    "    freq = np.fft.fftfreq(n, Ts)\n",
    "    \n",
    "    if dB:\n",
    "        amp_dB = 20*np.log10(np.abs(ak[:n_half]))\n",
    "        plt.plot(freq[:n_half], amp_dB)\n",
    "        plt.ylabel('dB')\n",
    "    else:\n",
    "        amp_power = np.abs(np.abs(ak[:n_half]))**2\n",
    "        plt.plot(freq[:n_half], amp_power)\n",
    "        plt.ylabel('power')\n",
    "    \n",
    "    plt.xlabel('freq, Hz')\n",
    "    plt.title('power spectrum')\n",
    "    plt.grid()"
   ]
  },
  {
   "cell_type": "code",
   "execution_count": 16,
   "metadata": {},
   "outputs": [
    {
     "data": {
      "image/png": "[encoded data removed]",
      "text/plain": [
       "<Figure size 432x288 with 1 Axes>"
      ]
     },
     "metadata": {
      "needs_background": "light"
     },
     "output_type": "display_data"
    }
   ],
   "source": [
    "power_spectrum(t, accx)"
   ]
  },
  {
   "cell_type": "code",
   "execution_count": 17,
   "metadata": {},
   "outputs": [
    {
     "data": {
      "image/png": "[encoded data removed]",
      "text/plain": [
       "<Figure size 432x288 with 1 Axes>"
      ]
     },
     "metadata": {
      "needs_background": "light"
     },
     "output_type": "display_data"
    }
   ],
   "source": [
    "power_spectrum(t, accx, dB=True)"
   ]
  },
  {
   "cell_type": "code",
   "execution_count": 18,
   "metadata": {},
   "outputs": [
    {
     "data": {
      "image/png": "[encoded data removed]",
      "text/plain": [
       "<Figure size 432x288 with 1 Axes>"
      ]
     },
     "metadata": {
      "needs_background": "light"
     },
     "output_type": "display_data"
    }
   ],
   "source": [
    "test_sig = 0.5 + np.sin(2*np.pi*20*t) + np.sin(2*np.pi*10*t)\n",
    "power_spectrum(t, test_sig)"
   ]
  },
  {
   "cell_type": "code",
   "execution_count": 19,
   "metadata": {},
   "outputs": [
    {
     "data": {
      "text/plain": [
       "array([0.3286899 , 0.30519062, 0.10277385, ..., 0.9753689 , 1.071429  ,\n",
       "       0.94860506], dtype=float32)"
      ]
     },
     "execution_count": 19,
     "metadata": {},
     "output_type": "execute_result"
    }
   ],
   "source": [
    "accx"
   ]
  },
  {
   "cell_type": "code",
   "execution_count": 22,
   "metadata": {},
   "outputs": [
    {
     "data": {
      "text/plain": [
       "[<matplotlib.lines.Line2D at 0x7fd651bb95b0>]"
      ]
     },
     "execution_count": 22,
     "metadata": {},
     "output_type": "execute_result"
    },
    {
     "data": {
      "image/png": "[encoded data removed]",
      "text/plain": [
       "<Figure size 432x288 with 1 Axes>"
      ]
     },
     "metadata": {
      "needs_background": "light"
     },
     "output_type": "display_data"
    }
   ],
   "source": [
    "plt.plot(np.diff(t))"
   ]
  },
  {
   "cell_type": "code",
   "execution_count": 23,
   "metadata": {},
   "outputs": [
    {
     "data": {
      "text/plain": [
       "0.004021126940387619"
      ]
     },
     "execution_count": 23,
     "metadata": {},
     "output_type": "execute_result"
    }
   ],
   "source": [
    "np.mean(np.diff(t))"
   ]
  },
  {
   "cell_type": "code",
   "execution_count": 32,
   "metadata": {},
   "outputs": [
    {
     "data": {
      "text/plain": [
       "[<matplotlib.lines.Line2D at 0x7fd65085e340>]"
      ]
     },
     "execution_count": 32,
     "metadata": {},
     "output_type": "execute_result"
    },
    {
     "data": {
      "image/png": "[encoded data removed]",
      "text/plain": [
       "<Figure size 432x288 with 1 Axes>"
      ]
     },
     "metadata": {
      "needs_background": "light"
     },
     "output_type": "display_data"
    }
   ],
   "source": [
    "dt = np.mean(np.diff(t))\n",
    "rel_time_diff = abs(np.diff(t) - dt)/dt\n",
    "plot(100*rel_time_diff[:100])"
   ]
  },
  {
   "cell_type": "code",
   "execution_count": 33,
   "metadata": {},
   "outputs": [
    {
     "data": {
      "text/plain": [
       "0.004021126940387619"
      ]
     },
     "execution_count": 33,
     "metadata": {},
     "output_type": "execute_result"
    }
   ],
   "source": [
    "dt"
   ]
  },
  {
   "cell_type": "code",
   "execution_count": 36,
   "metadata": {},
   "outputs": [
    {
     "data": {
      "text/plain": [
       "0.004021126940387619"
      ]
     },
     "execution_count": 36,
     "metadata": {},
     "output_type": "execute_result"
    }
   ],
   "source": [
    "tau = t[-1] - t[0]  # last t - first t\n",
    "nu = len(t)\n",
    "dt2 = tau/(nu - 1)\n",
    "dt2"
   ]
  },
  {
   "cell_type": "code",
   "execution_count": 37,
   "metadata": {},
   "outputs": [
    {
     "data": {
      "text/plain": [
       "[<matplotlib.lines.Line2D at 0x7fd65088a640>]"
      ]
     },
     "execution_count": 37,
     "metadata": {},
     "output_type": "execute_result"
    },
    {
     "data": {
      "image/png": "[encoded data removed]",
      "text/plain": [
       "<Figure size 432x288 with 1 Axes>"
      ]
     },
     "metadata": {
      "needs_background": "light"
     },
     "output_type": "display_data"
    }
   ],
   "source": [
    "plot(t, accx)"
   ]
  },
  {
   "cell_type": "code",
   "execution_count": 38,
   "metadata": {},
   "outputs": [
    {
     "data": {
      "text/plain": [
       "175.11203600000005"
      ]
     },
     "execution_count": 38,
     "metadata": {},
     "output_type": "execute_result"
    }
   ],
   "source": [
    "tau"
   ]
  },
  {
   "cell_type": "code",
   "execution_count": 42,
   "metadata": {},
   "outputs": [],
   "source": [
    "freq = fftfreq(nu, dt)"
   ]
  },
  {
   "cell_type": "code",
   "execution_count": null,
   "metadata": {},
   "outputs": [],
   "source": []
  }
 ],
 "metadata": {
  "kernelspec": {
   "display_name": "Python 3",
   "language": "python",
   "name": "python3"
  },
  "language_info": {
   "codemirror_mode": {
    "name": "ipython",
    "version": 3
   },
   "file_extension": ".py",
   "mimetype": "text/x-python",
   "name": "python",
   "nbconvert_exporter": "python",
   "pygments_lexer": "ipython3",
   "version": "3.8.6"
  }
 },
 "nbformat": 4,
 "nbformat_minor": 4
}
