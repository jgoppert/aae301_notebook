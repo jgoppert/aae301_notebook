{
 "cells": [
  {
   "cell_type": "markdown",
   "metadata": {},
   "source": [
    "# Inner Product Example\n",
    "\n",
    "We will find the optimal approximation, $\\hat{f}(t)$, of a function $f(t)$ using the set of functions F, with coefficients C. It will be optimal in terms of the integral of the absolute value of the error squared.\n",
    "\n",
    "$\\DeclareMathOperator*{\\argmax}{argmax}$\n",
    "\n",
    "F is a vector of functions.\n",
    "\n",
    "$F \\triangleq \\left[ f_0(t),\\ f_1(t),\\ f_2(t), \\ldots \\right]^T$\n",
    "\n",
    "C is a vector of complex coefficients.\n",
    "\n",
    "$C \\triangleq \\left[ c_0, c_1, c_2, \\ldots, c_{\\nu - 1}\\right]^T, \\ c_i \\in \\mathbb{C},\\ C \\in \\mathbb{C}^{\\nu}$\n",
    "\n",
    "$\\hat{f}(t)$ is the approximation of $f$.\n",
    "\n",
    "$\\hat{f}(t) \\triangleq C^TF$\n",
    "\n",
    "$C^*$ is the optimal coefficients of the approximating function.\n",
    "\n",
    "$C^* = \\argmax\\limits_{C \\in \\mathbb{C}^{\\nu}} \\int_0^\\tau |f(t)- C^TF|^2 dt$"
   ]
  },
  {
   "cell_type": "code",
   "execution_count": 1,
   "metadata": {},
   "outputs": [],
   "source": [
    "import sympy\n",
    "sympy.init_printing()\n",
    "import matplotlib.pyplot as plt\n",
    "import numpy as np"
   ]
  },
  {
   "cell_type": "code",
   "execution_count": 2,
   "metadata": {},
   "outputs": [],
   "source": [
    "class L2:\n",
    "    \"\"\"\n",
    "    Defines an inner product space, Lebesgue space, for functions\n",
    "    whose 2nd-power of the absolute value is Lebesque integrable.\n",
    "    \n",
    "    L2 is the only Hilbert space among Lebesgue spaces.\n",
    "    Hilbert space have the concept of angle and distance and are complete\n",
    "    so that the stadard notions of calculus can be applied.\n",
    "    \n",
    "    https://en.wikipedia.org/wiki/Lp_space\n",
    "    \"\"\"\n",
    "    \n",
    "    def __init__(self, a, b):\n",
    "        self.a = a\n",
    "        self.b = b\n",
    "\n",
    "    def inner_product(self, f, g):\n",
    "        t = sympy.symbols('t', real=True)\n",
    "        a = self.a\n",
    "        b = self.b\n",
    "        return sympy.integrate(f*sympy.conjugate(g), (t, a, b))/(b - a)\n",
    "    \n",
    "    def norm(self, f):\n",
    "        return self.inner_product(f, f)\n",
    "    \n",
    "    def distance(self, f, g):\n",
    "        return self.norm(f - g)\n",
    "\n",
    "    def compute_G(self, F):\n",
    "        return sympy.Matrix([\n",
    "            [self.inner_product(F[i], F[j])\n",
    "            for i in range(len(F))]\n",
    "            for j in range(len(F))\n",
    "        ])"
   ]
  },
  {
   "cell_type": "code",
   "execution_count": 3,
   "metadata": {},
   "outputs": [],
   "source": [
    "def project(S, G, F, f):\n",
    "    \"\"\"\n",
    "    Computes the optimal projection of f, onto the Lebesgue space, S, spanned by the function in F,\n",
    "    with a Grahm matrix G.\n",
    "    \n",
    "    see: https://engineering.purdue.edu/AAECourses/aae567/2016/probability.pdf\n",
    "    for details on the math, Theorem 4.3.2\n",
    "    pg. 129\n",
    "    \"\"\"\n",
    "    X = sympy.Matrix([[S.inner_product(F[i], f) for i in range(len(F))]])\n",
    "    C = sympy.N(X*G.inv())\n",
    "    f_approx = (C*F.T)[0]\n",
    "    return f_approx"
   ]
  },
  {
   "cell_type": "code",
   "execution_count": 4,
   "metadata": {},
   "outputs": [],
   "source": [
    "def plotting(f, f_approx, t0, tf):\n",
    "    t_eval = np.linspace(t0, tf)\n",
    "    \n",
    "    def sym_eval(f, t_eval):\n",
    "        return sympy.lambdify((t), (sympy.N(f)))(t_eval)\n",
    " \n",
    "    plt.figure()\n",
    "    plt.title('approximation')\n",
    "    plt.plot(sym_eval(f_approx, t_eval))\n",
    "    plt.plot(sym_eval(f, t_eval), 'o', alpha=0.5)\n",
    "    plt.grid()\n",
    "    \n",
    "    plt.figure()\n",
    "    plt.title('error')\n",
    "    plt.plot(sym_eval(f - f_approx, t_eval))\n",
    "    plt.grid()"
   ]
  },
  {
   "cell_type": "markdown",
   "metadata": {},
   "source": [
    "# Our Function to Approximate"
   ]
  },
  {
   "cell_type": "code",
   "execution_count": 5,
   "metadata": {},
   "outputs": [
    {
     "data": {
      "image/png": "[encoded data removed]",
      "text/plain": [
       "<Figure size 432x288 with 1 Axes>"
      ]
     },
     "metadata": {
      "needs_background": "light"
     },
     "output_type": "display_data"
    },
    {
     "data": {
      "text/plain": [
       "<sympy.plotting.plot.Plot at 0x7fdd54bdf850>"
      ]
     },
     "execution_count": 5,
     "metadata": {},
     "output_type": "execute_result"
    }
   ],
   "source": [
    "t = sympy.symbols('t', real=True)\n",
    "f = sympy.Piecewise(\n",
    "    (0, t < sympy.pi),\n",
    "    (1, t >= sympy.pi )\n",
    ")\n",
    "sympy.plot(f, (t, 0, 2*sympy.pi))"
   ]
  },
  {
   "cell_type": "markdown",
   "metadata": {},
   "source": [
    "# The Optimal Approximation of f by the functions in F"
   ]
  },
  {
   "cell_type": "code",
   "execution_count": 10,
   "metadata": {},
   "outputs": [],
   "source": [
    "# define our Lebesgue space, L2(0,1)\n",
    "def compute_approx(f, F):\n",
    "    Space = L2(0, 2*sympy.pi)\n",
    "    G = sympy.N(Space.compute_G(F))\n",
    "    return project(Space, G, F, f), G\n",
    "\n",
    "def get_approx():\n",
    "    t = sympy.symbols('t', real=True)\n",
    "    F = sympy.Matrix([\n",
    "        1,\n",
    "        sympy.sin(t),\n",
    "        sympy.cos(t),\n",
    "        sympy.sin(2*t),\n",
    "        sympy.cos(2*t),\n",
    "        sympy.sin(3*t),\n",
    "        sympy.cos(3*t),\n",
    "        sympy.sin(4*t),\n",
    "        sympy.cos(4*t),\n",
    "        sympy.sin(5*t),\n",
    "        sympy.cos(5*t),\n",
    "        sympy.sin(6*t),\n",
    "        sympy.cos(6*t)\n",
    "    ]).T\n",
    "    f_approx, G = compute_approx(f, F)\n",
    "    return f_approx, G"
   ]
  },
  {
   "cell_type": "code",
   "execution_count": 11,
   "metadata": {},
   "outputs": [
    {
     "data": {
      "image/png": "[encoded data removed]",
      "text/latex": [
       "$\\displaystyle - 0.636619772367581 \\sin{\\left(t \\right)} - 0.212206590789194 \\sin{\\left(3 t \\right)} - 0.127323954473516 \\sin{\\left(5 t \\right)} + 0.5$"
      ],
      "text/plain": [
       "-0.636619772367581⋅sin(t) - 0.212206590789194⋅sin(3⋅t) - 0.127323954473516⋅sin\n",
       "(5⋅t) + 0.5"
      ]
     },
     "execution_count": 11,
     "metadata": {},
     "output_type": "execute_result"
    }
   ],
   "source": [
    "f_approx, G = get_approx()\n",
    "f_approx"
   ]
  },
  {
   "cell_type": "code",
   "execution_count": 12,
   "metadata": {},
   "outputs": [
    {
     "data": {
      "text/latex": [
       "$\\displaystyle \\left[\\begin{array}{ccccccccccccc}1.0 & 0 & 0 & 0 & 0 & 0 & 0 & 0 & 0 & 0 & 0 & 0 & 0\\\\0 & 0.5 & 0 & 0 & 0 & 0 & 0 & 0 & 0 & 0 & 0 & 0 & 0\\\\0 & 0 & 0.5 & 0 & 0 & 0 & 0 & 0 & 0 & 0 & 0 & 0 & 0\\\\0 & 0 & 0 & 0.5 & 0 & 0 & 0 & 0 & 0 & 0 & 0 & 0 & 0\\\\0 & 0 & 0 & 0 & 0.5 & 0 & 0 & 0 & 0 & 0 & 0 & 0 & 0\\\\0 & 0 & 0 & 0 & 0 & 0.5 & 0 & 0 & 0 & 0 & 0 & 0 & 0\\\\0 & 0 & 0 & 0 & 0 & 0 & 0.5 & 0 & 0 & 0 & 0 & 0 & 0\\\\0 & 0 & 0 & 0 & 0 & 0 & 0 & 0.5 & 0 & 0 & 0 & 0 & 0\\\\0 & 0 & 0 & 0 & 0 & 0 & 0 & 0 & 0.5 & 0 & 0 & 0 & 0\\\\0 & 0 & 0 & 0 & 0 & 0 & 0 & 0 & 0 & 0.5 & 0 & 0 & 0\\\\0 & 0 & 0 & 0 & 0 & 0 & 0 & 0 & 0 & 0 & 0.5 & 0 & 0\\\\0 & 0 & 0 & 0 & 0 & 0 & 0 & 0 & 0 & 0 & 0 & 0.5 & 0\\\\0 & 0 & 0 & 0 & 0 & 0 & 0 & 0 & 0 & 0 & 0 & 0 & 0.5\\end{array}\\right]$"
      ],
      "text/plain": [
       "⎡1.0   0    0    0    0    0    0    0    0    0    0    0    0 ⎤\n",
       "⎢                                                               ⎥\n",
       "⎢ 0   0.5   0    0    0    0    0    0    0    0    0    0    0 ⎥\n",
       "⎢                                                               ⎥\n",
       "⎢ 0    0   0.5   0    0    0    0    0    0    0    0    0    0 ⎥\n",
       "⎢                                                               ⎥\n",
       "⎢ 0    0    0   0.5   0    0    0    0    0    0    0    0    0 ⎥\n",
       "⎢                                                               ⎥\n",
       "⎢ 0    0    0    0   0.5   0    0    0    0    0    0    0    0 ⎥\n",
       "⎢                                                               ⎥\n",
       "⎢ 0    0    0    0    0   0.5   0    0    0    0    0    0    0 ⎥\n",
       "⎢                                                               ⎥\n",
       "⎢ 0    0    0    0    0    0   0.5   0    0    0    0    0    0 ⎥\n",
       "⎢                                                               ⎥\n",
       "⎢ 0    0    0    0    0    0    0   0.5   0    0    0    0    0 ⎥\n",
       "⎢                                                               ⎥\n",
       "⎢ 0    0    0    0    0    0    0    0   0.5   0    0    0    0 ⎥\n",
       "⎢                                                               ⎥\n",
       "⎢ 0    0    0    0    0    0    0    0    0   0.5   0    0    0 ⎥\n",
       "⎢                                                               ⎥\n",
       "⎢ 0    0    0    0    0    0    0    0    0    0   0.5   0    0 ⎥\n",
       "⎢                                                               ⎥\n",
       "⎢ 0    0    0    0    0    0    0    0    0    0    0   0.5   0 ⎥\n",
       "⎢                                                               ⎥\n",
       "⎣ 0    0    0    0    0    0    0    0    0    0    0    0   0.5⎦"
      ]
     },
     "execution_count": 12,
     "metadata": {},
     "output_type": "execute_result"
    }
   ],
   "source": [
    "G"
   ]
  },
  {
   "cell_type": "code",
   "execution_count": 13,
   "metadata": {},
   "outputs": [
    {
     "data": {
      "image/png": "[encoded data removed]",
      "text/plain": [
       "<Figure size 432x288 with 1 Axes>"
      ]
     },
     "metadata": {
      "needs_background": "light"
     },
     "output_type": "display_data"
    },
    {
     "data": {
      "image/png": "[encoded data removed]",
      "text/plain": [
       "<Figure size 432x288 with 1 Axes>"
      ]
     },
     "metadata": {
      "needs_background": "light"
     },
     "output_type": "display_data"
    }
   ],
   "source": [
    "plotting(f, f_approx, 0.0, float(2*sympy.pi))"
   ]
  },
  {
   "cell_type": "code",
   "execution_count": null,
   "metadata": {},
   "outputs": [],
   "source": []
  }
 ],
 "metadata": {
  "kernelspec": {
   "display_name": "Python 3",
   "language": "python",
   "name": "python3"
  },
  "language_info": {
   "codemirror_mode": {
    "name": "ipython",
    "version": 3
   },
   "file_extension": ".py",
   "mimetype": "text/x-python",
   "name": "python",
   "nbconvert_exporter": "python",
   "pygments_lexer": "ipython3",
   "version": "3.8.3"
  }
 },
 "nbformat": 4,
 "nbformat_minor": 4
}
