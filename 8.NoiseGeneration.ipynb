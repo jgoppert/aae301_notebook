{
 "cells": [
  {
   "cell_type": "code",
   "execution_count": 1,
   "metadata": {},
   "outputs": [],
   "source": [
    "import control\n",
    "import numpy as np\n",
    "\n",
    "import matplotlib.pyplot as plt\n",
    "plt.rcParams['figure.figsize'] = (10, 5)\n",
    "\n",
    "def power_spectrum(t, d, fmin=0, fmax=30, width=0.5, n=8):\n",
    "    T = t[-1] - t[0]\n",
    "    ak = np.fft.ifft(d);\n",
    "    dt = T/len(d)\n",
    "    k = np.arange(0, len(d)//n)\n",
    "    freq = k/T\n",
    "    plt.bar(freq, np.abs(ak[k]), width=width)\n",
    "    plt.ylabel('|ak|')\n",
    "    plt.xlabel('Hz')\n",
    "    plt.grid()\n",
    "    plt.title('disturbance power spectrum')\n",
    "    ax = plt.gca().set_xlim(fmin, fmax)\n",
    "    return ak, freq"
   ]
  },
  {
   "cell_type": "code",
   "execution_count": 2,
   "metadata": {},
   "outputs": [],
   "source": [
    "def gen_noise(filename, amps, freqs, phases, plot=False):\n",
    "    dt = 0.001\n",
    "    tf = 5\n",
    "    t = np.arange(0, tf, dt)\n",
    "    d = np.random.randn(len(t))*dt**(0.5)\n",
    "    for amp, freq, phase in zip(amps, freqs, phases):\n",
    "        d += amp*np.cos(2*np.pi*freq*t - phase)\n",
    "    np.savetxt(filename, np.vstack([t, d]).T, delimiter=',', header='t, d',  fmt='%g')\n",
    "    \n",
    "    if plot:\n",
    "        plt.figure()\n",
    "        plt.plot(t, d)\n",
    "        plt.grid()\n",
    "        plt.xlabel('t, sec')\n",
    "        plt.ylabel('y')\n",
    "        plt.title(filename)\n",
    "\n",
    "        plt.figure()\n",
    "        power_spectrum(t, d)\n",
    "        plt.title(filename + ' power_spectrum')"
   ]
  }
 ],
 "metadata": {
  "kernelspec": {
   "display_name": "Python 3 (ipykernel)",
   "language": "python",
   "name": "python3"
  },
  "language_info": {
   "codemirror_mode": {
    "name": "ipython",
    "version": 3
   },
   "file_extension": ".py",
   "mimetype": "text/x-python",
   "name": "python",
   "nbconvert_exporter": "python",
   "pygments_lexer": "ipython3",
   "version": "3.8.8"
  }
 },
 "nbformat": 4,
 "nbformat_minor": 4
}
