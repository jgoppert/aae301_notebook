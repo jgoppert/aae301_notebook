{
 "cells": [
  {
   "cell_type": "code",
   "execution_count": 1,
   "id": "specialized-charter",
   "metadata": {},
   "outputs": [],
   "source": [
    "import sympy"
   ]
  },
  {
   "cell_type": "code",
   "execution_count": 2,
   "id": "bored-paris",
   "metadata": {},
   "outputs": [],
   "source": [
    "t = sympy.symbols('t', real=True)"
   ]
  },
  {
   "cell_type": "code",
   "execution_count": 26,
   "id": "silver-glass",
   "metadata": {},
   "outputs": [],
   "source": [
    "A = sympy.Matrix([\n",
    "    [0, 1],\n",
    "    [-2, -3]\n",
    "])"
   ]
  },
  {
   "cell_type": "code",
   "execution_count": 27,
   "id": "8e8bbee6-2b26-4ba1-bd75-190351db66c4",
   "metadata": {},
   "outputs": [
    {
     "data": {
      "text/latex": [
       "$\\displaystyle \\left[\\begin{matrix}0 & 1\\\\-2 & -3\\end{matrix}\\right]$"
      ],
      "text/plain": [
       "Matrix([\n",
       "[ 0,  1],\n",
       "[-2, -3]])"
      ]
     },
     "execution_count": 27,
     "metadata": {},
     "output_type": "execute_result"
    }
   ],
   "source": [
    "A"
   ]
  },
  {
   "cell_type": "code",
   "execution_count": 28,
   "id": "egyptian-blood",
   "metadata": {},
   "outputs": [
    {
     "data": {
      "text/latex": [
       "$\\displaystyle \\left[\\begin{matrix}\\left(2 e^{t} - 1\\right) e^{- 2 t} & \\left(e^{t} - 1\\right) e^{- 2 t}\\\\2 \\cdot \\left(1 - e^{t}\\right) e^{- 2 t} & \\left(2 - e^{t}\\right) e^{- 2 t}\\end{matrix}\\right]$"
      ],
      "text/plain": [
       "Matrix([\n",
       "[(2*exp(t) - 1)*exp(-2*t), (exp(t) - 1)*exp(-2*t)],\n",
       "[2*(1 - exp(t))*exp(-2*t), (2 - exp(t))*exp(-2*t)]])"
      ]
     },
     "execution_count": 28,
     "metadata": {},
     "output_type": "execute_result"
    }
   ],
   "source": [
    "sympy.exp(A*t).expand(complex=True).simplify()"
   ]
  },
  {
   "cell_type": "code",
   "execution_count": 29,
   "id": "spoken-firmware",
   "metadata": {},
   "outputs": [
    {
     "data": {
      "text/latex": [
       "$\\displaystyle \\left[\\begin{matrix}-1 & -1\\\\2 & 1\\end{matrix}\\right]$"
      ],
      "text/plain": [
       "Matrix([\n",
       "[-1, -1],\n",
       "[ 2,  1]])"
      ]
     },
     "execution_count": 29,
     "metadata": {},
     "output_type": "execute_result"
    }
   ],
   "source": [
    "T, D = sympy.Matrix.diagonalize(A)\n",
    "T"
   ]
  },
  {
   "cell_type": "code",
   "execution_count": 32,
   "id": "e970273f-6ce7-446d-bf7e-ede9a0a9d79a",
   "metadata": {},
   "outputs": [
    {
     "data": {
      "text/latex": [
       "$\\displaystyle \\left[\\begin{matrix}-2 & 0\\\\0 & -1\\end{matrix}\\right]$"
      ],
      "text/plain": [
       "Matrix([\n",
       "[-2,  0],\n",
       "[ 0, -1]])"
      ]
     },
     "execution_count": 32,
     "metadata": {},
     "output_type": "execute_result"
    }
   ],
   "source": [
    "D"
   ]
  },
  {
   "cell_type": "code",
   "execution_count": 35,
   "id": "diagnostic-bibliography",
   "metadata": {},
   "outputs": [
    {
     "data": {
      "text/latex": [
       "$\\displaystyle \\left[\\begin{matrix}2 e^{- t} - e^{- 2 t} & e^{- t} - e^{- 2 t}\\\\- 2 e^{- t} + 2 e^{- 2 t} & - e^{- t} + 2 e^{- 2 t}\\end{matrix}\\right]$"
      ],
      "text/plain": [
       "Matrix([\n",
       "[   2*exp(-t) - exp(-2*t),    exp(-t) - exp(-2*t)],\n",
       "[-2*exp(-t) + 2*exp(-2*t), -exp(-t) + 2*exp(-2*t)]])"
      ]
     },
     "execution_count": 35,
     "metadata": {},
     "output_type": "execute_result"
    }
   ],
   "source": [
    "(T*sympy.exp(D*t)*T.inv()).expand(complex=True)"
   ]
  },
  {
   "cell_type": "code",
   "execution_count": 36,
   "id": "stainless-transparency",
   "metadata": {},
   "outputs": [
    {
     "data": {
      "text/latex": [
       "$\\displaystyle \\left[\\begin{matrix}\\frac{s + 3}{s^{2} + 3 s + 2} & - \\frac{2}{- 2 s^{2} - 6 s - 4}\\\\\\frac{2}{- s^{2} - 3 s - 2} & \\frac{s}{s^{2} + 3 s + 2}\\end{matrix}\\right]$"
      ],
      "text/plain": [
       "Matrix([\n",
       "[(s + 3)/(s**2 + 3*s + 2), -2/(-2*s**2 - 6*s - 4)],\n",
       "[     2/(-s**2 - 3*s - 2),     s/(s**2 + 3*s + 2)]])"
      ]
     },
     "execution_count": 36,
     "metadata": {},
     "output_type": "execute_result"
    }
   ],
   "source": [
    "s = sympy.symbols('s')\n",
    "M = (s*sympy.eye(2) - A).inv()\n",
    "M"
   ]
  },
  {
   "cell_type": "code",
   "execution_count": 37,
   "id": "worse-restaurant",
   "metadata": {},
   "outputs": [
    {
     "data": {
      "text/latex": [
       "$\\displaystyle \\left[\\begin{matrix}- \\frac{1}{s + 2} + \\frac{2}{s + 1} & - \\frac{1}{s + 2} + \\frac{1}{s + 1}\\\\\\frac{2}{s + 2} - \\frac{2}{s + 1} & \\frac{2}{s + 2} - \\frac{1}{s + 1}\\end{matrix}\\right]$"
      ],
      "text/plain": [
       "Matrix([\n",
       "[-1/(s + 2) + 2/(s + 1), -1/(s + 2) + 1/(s + 1)],\n",
       "[ 2/(s + 2) - 2/(s + 1),  2/(s + 2) - 1/(s + 1)]])"
      ]
     },
     "execution_count": 37,
     "metadata": {},
     "output_type": "execute_result"
    }
   ],
   "source": [
    "M_apart = M.applyfunc(lambda x: x.apart())\n",
    "M_apart"
   ]
  },
  {
   "cell_type": "markdown",
   "id": "stone-regression",
   "metadata": {},
   "source": [
    "Warning: this will take a long time."
   ]
  },
  {
   "cell_type": "code",
   "execution_count": 38,
   "id": "incomplete-saver",
   "metadata": {},
   "outputs": [
    {
     "data": {
      "text/latex": [
       "$\\displaystyle \\left[\\begin{matrix}\\left(2 e^{t} - 1\\right) e^{- 2 t} \\theta\\left(t\\right) & \\left(e^{t} - 1\\right) e^{- 2 t} \\theta\\left(t\\right)\\\\2 \\cdot \\left(1 - e^{t}\\right) e^{- 2 t} \\theta\\left(t\\right) & \\left(2 - e^{t}\\right) e^{- 2 t} \\theta\\left(t\\right)\\end{matrix}\\right]$"
      ],
      "text/plain": [
       "Matrix([\n",
       "[(2*exp(t) - 1)*exp(-2*t)*Heaviside(t), (exp(t) - 1)*exp(-2*t)*Heaviside(t)],\n",
       "[2*(1 - exp(t))*exp(-2*t)*Heaviside(t), (2 - exp(t))*exp(-2*t)*Heaviside(t)]])"
      ]
     },
     "execution_count": 38,
     "metadata": {},
     "output_type": "execute_result"
    }
   ],
   "source": [
    "sympy.inverse_laplace_transform(M_apart, s, t)"
   ]
  },
  {
   "cell_type": "markdown",
   "id": "amino-approach",
   "metadata": {},
   "source": [
    "Note that $\\Theta(t)$ is the Heaviside unit step function and represents that the output is zero before time zero,due to the nature of the Laplace transform."
   ]
  }
 ],
 "metadata": {
  "kernelspec": {
   "display_name": "Python 3 (ipykernel)",
   "language": "python",
   "name": "python3"
  },
  "language_info": {
   "codemirror_mode": {
    "name": "ipython",
    "version": 3
   },
   "file_extension": ".py",
   "mimetype": "text/x-python",
   "name": "python",
   "nbconvert_exporter": "python",
   "pygments_lexer": "ipython3",
   "version": "3.9.13"
  }
 },
 "nbformat": 4,
 "nbformat_minor": 5
}
