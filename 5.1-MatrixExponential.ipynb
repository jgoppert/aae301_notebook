{
 "cells": [
  {
   "cell_type": "code",
   "execution_count": 1,
   "id": "outer-clock",
   "metadata": {},
   "outputs": [],
   "source": [
    "import sympy"
   ]
  },
  {
   "cell_type": "code",
   "execution_count": 2,
   "id": "japanese-obligation",
   "metadata": {},
   "outputs": [],
   "source": [
    "t = sympy.symbols('t', real=True)"
   ]
  },
  {
   "cell_type": "code",
   "execution_count": 32,
   "id": "naval-massage",
   "metadata": {},
   "outputs": [],
   "source": [
    "A = sympy.Matrix([\n",
    "    [0, 1, -1],\n",
    "    [-1, 0, 1],\n",
    "    [1, -1, 0]\n",
    "])"
   ]
  },
  {
   "cell_type": "code",
   "execution_count": 33,
   "id": "american-istanbul",
   "metadata": {},
   "outputs": [
    {
     "data": {
      "text/latex": [
       "$\\displaystyle \\left[\\begin{matrix}\\frac{2 \\cos{\\left(\\sqrt{3} t \\right)}}{3} + \\frac{1}{3} & \\frac{\\sqrt{3} \\sin{\\left(\\sqrt{3} t \\right)}}{3} - \\frac{\\cos{\\left(\\sqrt{3} t \\right)}}{3} + \\frac{1}{3} & - \\frac{\\sqrt{3} \\sin{\\left(\\sqrt{3} t \\right)}}{3} - \\frac{\\cos{\\left(\\sqrt{3} t \\right)}}{3} + \\frac{1}{3}\\\\- \\frac{\\sqrt{3} \\sin{\\left(\\sqrt{3} t \\right)}}{3} - \\frac{\\cos{\\left(\\sqrt{3} t \\right)}}{3} + \\frac{1}{3} & \\frac{2 \\cos{\\left(\\sqrt{3} t \\right)}}{3} + \\frac{1}{3} & \\frac{\\sqrt{3} \\sin{\\left(\\sqrt{3} t \\right)}}{3} - \\frac{\\cos{\\left(\\sqrt{3} t \\right)}}{3} + \\frac{1}{3}\\\\\\frac{\\sqrt{3} \\sin{\\left(\\sqrt{3} t \\right)}}{3} - \\frac{\\cos{\\left(\\sqrt{3} t \\right)}}{3} + \\frac{1}{3} & - \\frac{\\sqrt{3} \\sin{\\left(\\sqrt{3} t \\right)}}{3} - \\frac{\\cos{\\left(\\sqrt{3} t \\right)}}{3} + \\frac{1}{3} & \\frac{2 \\cos{\\left(\\sqrt{3} t \\right)}}{3} + \\frac{1}{3}\\end{matrix}\\right]$"
      ],
      "text/plain": [
       "Matrix([\n",
       "[                          2*cos(sqrt(3)*t)/3 + 1/3,  sqrt(3)*sin(sqrt(3)*t)/3 - cos(sqrt(3)*t)/3 + 1/3, -sqrt(3)*sin(sqrt(3)*t)/3 - cos(sqrt(3)*t)/3 + 1/3],\n",
       "[-sqrt(3)*sin(sqrt(3)*t)/3 - cos(sqrt(3)*t)/3 + 1/3,                           2*cos(sqrt(3)*t)/3 + 1/3,  sqrt(3)*sin(sqrt(3)*t)/3 - cos(sqrt(3)*t)/3 + 1/3],\n",
       "[ sqrt(3)*sin(sqrt(3)*t)/3 - cos(sqrt(3)*t)/3 + 1/3, -sqrt(3)*sin(sqrt(3)*t)/3 - cos(sqrt(3)*t)/3 + 1/3,                           2*cos(sqrt(3)*t)/3 + 1/3]])"
      ]
     },
     "execution_count": 33,
     "metadata": {},
     "output_type": "execute_result"
    }
   ],
   "source": [
    "sympy.exp(A*t).expand(complex=True)"
   ]
  },
  {
   "cell_type": "code",
   "execution_count": 34,
   "id": "joint-tulsa",
   "metadata": {},
   "outputs": [
    {
     "data": {
      "text/latex": [
       "$\\displaystyle \\left[\\begin{matrix}1 & - \\frac{1}{2} - \\frac{\\sqrt{3} i}{2} & - \\frac{1}{2} + \\frac{\\sqrt{3} i}{2}\\\\1 & - \\frac{1}{2} + \\frac{\\sqrt{3} i}{2} & - \\frac{1}{2} - \\frac{\\sqrt{3} i}{2}\\\\1 & 1 & 1\\end{matrix}\\right]$"
      ],
      "text/plain": [
       "Matrix([\n",
       "[1, -1/2 - sqrt(3)*I/2, -1/2 + sqrt(3)*I/2],\n",
       "[1, -1/2 + sqrt(3)*I/2, -1/2 - sqrt(3)*I/2],\n",
       "[1,                  1,                  1]])"
      ]
     },
     "execution_count": 34,
     "metadata": {},
     "output_type": "execute_result"
    }
   ],
   "source": [
    "T, D = sympy.Matrix.diagonalize(A)\n",
    "T"
   ]
  },
  {
   "cell_type": "code",
   "execution_count": 35,
   "id": "inappropriate-afghanistan",
   "metadata": {},
   "outputs": [
    {
     "data": {
      "text/latex": [
       "$\\displaystyle \\left[\\begin{matrix}0 & 0 & 0\\\\0 & - \\sqrt{3} i & 0\\\\0 & 0 & \\sqrt{3} i\\end{matrix}\\right]$"
      ],
      "text/plain": [
       "Matrix([\n",
       "[0,          0,         0],\n",
       "[0, -sqrt(3)*I,         0],\n",
       "[0,          0, sqrt(3)*I]])"
      ]
     },
     "execution_count": 35,
     "metadata": {},
     "output_type": "execute_result"
    }
   ],
   "source": [
    "D"
   ]
  },
  {
   "cell_type": "code",
   "execution_count": 36,
   "id": "governing-guest",
   "metadata": {},
   "outputs": [
    {
     "data": {
      "text/latex": [
       "$\\displaystyle \\left[\\begin{matrix}\\frac{2 \\cos{\\left(\\sqrt{3} t \\right)}}{3} + \\frac{1}{3} & \\frac{\\sqrt{3} \\sin{\\left(\\sqrt{3} t \\right)}}{3} - \\frac{\\cos{\\left(\\sqrt{3} t \\right)}}{3} + \\frac{1}{3} & - \\frac{\\sqrt{3} \\sin{\\left(\\sqrt{3} t \\right)}}{3} - \\frac{\\cos{\\left(\\sqrt{3} t \\right)}}{3} + \\frac{1}{3}\\\\- \\frac{\\sqrt{3} \\sin{\\left(\\sqrt{3} t \\right)}}{3} - \\frac{\\cos{\\left(\\sqrt{3} t \\right)}}{3} + \\frac{1}{3} & \\frac{2 \\cos{\\left(\\sqrt{3} t \\right)}}{3} + \\frac{1}{3} & \\frac{\\sqrt{3} \\sin{\\left(\\sqrt{3} t \\right)}}{3} - \\frac{\\cos{\\left(\\sqrt{3} t \\right)}}{3} + \\frac{1}{3}\\\\\\frac{\\sqrt{3} \\sin{\\left(\\sqrt{3} t \\right)}}{3} - \\frac{\\cos{\\left(\\sqrt{3} t \\right)}}{3} + \\frac{1}{3} & - \\frac{\\sqrt{3} \\sin{\\left(\\sqrt{3} t \\right)}}{3} - \\frac{\\cos{\\left(\\sqrt{3} t \\right)}}{3} + \\frac{1}{3} & \\frac{2 \\cos{\\left(\\sqrt{3} t \\right)}}{3} + \\frac{1}{3}\\end{matrix}\\right]$"
      ],
      "text/plain": [
       "Matrix([\n",
       "[                          2*cos(sqrt(3)*t)/3 + 1/3,  sqrt(3)*sin(sqrt(3)*t)/3 - cos(sqrt(3)*t)/3 + 1/3, -sqrt(3)*sin(sqrt(3)*t)/3 - cos(sqrt(3)*t)/3 + 1/3],\n",
       "[-sqrt(3)*sin(sqrt(3)*t)/3 - cos(sqrt(3)*t)/3 + 1/3,                           2*cos(sqrt(3)*t)/3 + 1/3,  sqrt(3)*sin(sqrt(3)*t)/3 - cos(sqrt(3)*t)/3 + 1/3],\n",
       "[ sqrt(3)*sin(sqrt(3)*t)/3 - cos(sqrt(3)*t)/3 + 1/3, -sqrt(3)*sin(sqrt(3)*t)/3 - cos(sqrt(3)*t)/3 + 1/3,                           2*cos(sqrt(3)*t)/3 + 1/3]])"
      ]
     },
     "execution_count": 36,
     "metadata": {},
     "output_type": "execute_result"
    }
   ],
   "source": [
    "(T*sympy.exp(D*t)*T.inv()).expand(complex=True)"
   ]
  },
  {
   "cell_type": "code",
   "execution_count": 37,
   "id": "posted-genre",
   "metadata": {},
   "outputs": [
    {
     "data": {
      "text/latex": [
       "$\\displaystyle \\left[\\begin{matrix}\\frac{s^{2} + 1}{s^{3} + 3 s} & \\frac{s + 1}{s^{3} + 3 s} & \\frac{1 - s}{s^{3} + 3 s}\\\\\\frac{1 - s}{s^{3} + 3 s} & \\frac{s^{2} + 1}{s^{3} + 3 s} & \\frac{s + 1}{s^{3} + 3 s}\\\\\\frac{s + 1}{s^{3} + 3 s} & \\frac{1 - s}{s^{3} + 3 s} & \\frac{s^{2} + 1}{s^{3} + 3 s}\\end{matrix}\\right]$"
      ],
      "text/plain": [
       "Matrix([\n",
       "[(s**2 + 1)/(s**3 + 3*s),    (s + 1)/(s**3 + 3*s),    (1 - s)/(s**3 + 3*s)],\n",
       "[   (1 - s)/(s**3 + 3*s), (s**2 + 1)/(s**3 + 3*s),    (s + 1)/(s**3 + 3*s)],\n",
       "[   (s + 1)/(s**3 + 3*s),    (1 - s)/(s**3 + 3*s), (s**2 + 1)/(s**3 + 3*s)]])"
      ]
     },
     "execution_count": 37,
     "metadata": {},
     "output_type": "execute_result"
    }
   ],
   "source": [
    "s = sympy.symbols('s')\n",
    "M = (s*sympy.eye(3) - A).inv()\n",
    "M"
   ]
  },
  {
   "cell_type": "code",
   "execution_count": 38,
   "id": "unexpected-bracelet",
   "metadata": {},
   "outputs": [
    {
     "data": {
      "text/latex": [
       "$\\displaystyle \\left[\\begin{matrix}\\frac{2 s}{3 \\left(s^{2} + 3\\right)} + \\frac{1}{3 s} & - \\frac{s - 3}{3 \\left(s^{2} + 3\\right)} + \\frac{1}{3 s} & - \\frac{s + 3}{3 \\left(s^{2} + 3\\right)} + \\frac{1}{3 s}\\\\- \\frac{s + 3}{3 \\left(s^{2} + 3\\right)} + \\frac{1}{3 s} & \\frac{2 s}{3 \\left(s^{2} + 3\\right)} + \\frac{1}{3 s} & - \\frac{s - 3}{3 \\left(s^{2} + 3\\right)} + \\frac{1}{3 s}\\\\- \\frac{s - 3}{3 \\left(s^{2} + 3\\right)} + \\frac{1}{3 s} & - \\frac{s + 3}{3 \\left(s^{2} + 3\\right)} + \\frac{1}{3 s} & \\frac{2 s}{3 \\left(s^{2} + 3\\right)} + \\frac{1}{3 s}\\end{matrix}\\right]$"
      ],
      "text/plain": [
       "Matrix([\n",
       "[     2*s/(3*(s**2 + 3)) + 1/(3*s), -(s - 3)/(3*(s**2 + 3)) + 1/(3*s), -(s + 3)/(3*(s**2 + 3)) + 1/(3*s)],\n",
       "[-(s + 3)/(3*(s**2 + 3)) + 1/(3*s),      2*s/(3*(s**2 + 3)) + 1/(3*s), -(s - 3)/(3*(s**2 + 3)) + 1/(3*s)],\n",
       "[-(s - 3)/(3*(s**2 + 3)) + 1/(3*s), -(s + 3)/(3*(s**2 + 3)) + 1/(3*s),      2*s/(3*(s**2 + 3)) + 1/(3*s)]])"
      ]
     },
     "execution_count": 38,
     "metadata": {},
     "output_type": "execute_result"
    }
   ],
   "source": [
    "M_apart = M.applyfunc(lambda x: x.apart())\n",
    "M_apart"
   ]
  },
  {
   "cell_type": "markdown",
   "id": "public-round",
   "metadata": {},
   "source": [
    "Warning: this will take a long time."
   ]
  },
  {
   "cell_type": "code",
   "execution_count": 41,
   "id": "limiting-slovenia",
   "metadata": {},
   "outputs": [
    {
     "data": {
      "text/latex": [
       "$\\displaystyle \\left[\\begin{matrix}\\frac{\\left(2 \\cos{\\left(\\sqrt{3} t \\right)} + 1\\right) \\theta\\left(t\\right)}{3} & \\frac{\\left(\\sqrt{3} \\sin{\\left(\\sqrt{3} t \\right)} - \\cos{\\left(\\sqrt{3} t \\right)} + 1\\right) \\theta\\left(t\\right)}{3} & - \\frac{\\left(\\sqrt{3} \\sin{\\left(\\sqrt{3} t \\right)} + \\cos{\\left(\\sqrt{3} t \\right)} - 1\\right) \\theta\\left(t\\right)}{3}\\\\- \\frac{\\left(\\sqrt{3} \\sin{\\left(\\sqrt{3} t \\right)} + \\cos{\\left(\\sqrt{3} t \\right)} - 1\\right) \\theta\\left(t\\right)}{3} & \\frac{\\left(2 \\cos{\\left(\\sqrt{3} t \\right)} + 1\\right) \\theta\\left(t\\right)}{3} & \\frac{\\left(\\sqrt{3} \\sin{\\left(\\sqrt{3} t \\right)} - \\cos{\\left(\\sqrt{3} t \\right)} + 1\\right) \\theta\\left(t\\right)}{3}\\\\\\frac{\\left(\\sqrt{3} \\sin{\\left(\\sqrt{3} t \\right)} - \\cos{\\left(\\sqrt{3} t \\right)} + 1\\right) \\theta\\left(t\\right)}{3} & - \\frac{\\left(\\sqrt{3} \\sin{\\left(\\sqrt{3} t \\right)} + \\cos{\\left(\\sqrt{3} t \\right)} - 1\\right) \\theta\\left(t\\right)}{3} & \\frac{\\left(2 \\cos{\\left(\\sqrt{3} t \\right)} + 1\\right) \\theta\\left(t\\right)}{3}\\end{matrix}\\right]$"
      ],
      "text/plain": [
       "Matrix([\n",
       "[                        (2*cos(sqrt(3)*t) + 1)*Heaviside(t)/3,  (sqrt(3)*sin(sqrt(3)*t) - cos(sqrt(3)*t) + 1)*Heaviside(t)/3, -(sqrt(3)*sin(sqrt(3)*t) + cos(sqrt(3)*t) - 1)*Heaviside(t)/3],\n",
       "[-(sqrt(3)*sin(sqrt(3)*t) + cos(sqrt(3)*t) - 1)*Heaviside(t)/3,                         (2*cos(sqrt(3)*t) + 1)*Heaviside(t)/3,  (sqrt(3)*sin(sqrt(3)*t) - cos(sqrt(3)*t) + 1)*Heaviside(t)/3],\n",
       "[ (sqrt(3)*sin(sqrt(3)*t) - cos(sqrt(3)*t) + 1)*Heaviside(t)/3, -(sqrt(3)*sin(sqrt(3)*t) + cos(sqrt(3)*t) - 1)*Heaviside(t)/3,                         (2*cos(sqrt(3)*t) + 1)*Heaviside(t)/3]])"
      ]
     },
     "execution_count": 41,
     "metadata": {},
     "output_type": "execute_result"
    }
   ],
   "source": [
    "sympy.inverse_laplace_transform(M_apart, s, t)"
   ]
  },
  {
   "cell_type": "markdown",
   "id": "bigger-shelf",
   "metadata": {},
   "source": [
    "Note that $\\Theta(t)$ is the Heaviside unit step function and represents that the output is zero before time zero,due to the nature of the Laplace transform."
   ]
  }
 ],
 "metadata": {
  "kernelspec": {
   "display_name": "Python 3",
   "language": "python",
   "name": "python3"
  },
  "language_info": {
   "codemirror_mode": {
    "name": "ipython",
    "version": 3
   },
   "file_extension": ".py",
   "mimetype": "text/x-python",
   "name": "python",
   "nbconvert_exporter": "python",
   "pygments_lexer": "ipython3",
   "version": "3.8.8"
  }
 },
 "nbformat": 4,
 "nbformat_minor": 5
}
