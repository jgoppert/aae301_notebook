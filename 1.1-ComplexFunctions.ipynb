{
 "cells": [
  {
   "cell_type": "markdown",
   "metadata": {},
   "source": [
    "## Overview\n",
    "\n",
    "* Relevant Chapter: 1.1\n",
    "* This notebook introduces the concept of complex functions. Note that when plotting a complex function it cannot be plotted as a surface plot such as f(x, y), since there are two components of a complex number, either when the output is plotted in polar form or cartesian form."
   ]
  },
  {
   "cell_type": "code",
   "execution_count": 1,
   "metadata": {},
   "outputs": [
    {
     "name": "stdout",
     "output_type": "stream",
     "text": [
      "%pylab is deprecated, use %matplotlib inline and import the required libraries.\n",
      "Populating the interactive namespace from numpy and matplotlib\n"
     ]
    }
   ],
   "source": [
    "%pylab inline\n",
    "import sympy\n",
    "sympy.init_printing()"
   ]
  },
  {
   "cell_type": "code",
   "execution_count": 28,
   "metadata": {},
   "outputs": [],
   "source": [
    "def plot_complex_function(Y, sigma_min, sigma_max, omega_max, log_omega, plot_conj):\n",
    "    sigma_eval=np.linspace(sigma_min, sigma_max, 200)\n",
    "    \n",
    "    # constants\n",
    "    omega_min = 1e-3\n",
    "    nlevels = 20  # levels of contour\n",
    "    nlevels_outline = 10  # levels of contour\n",
    "\n",
    "    # validate input\n",
    "    assert np.all(omega_max > 0)\n",
    "    \n",
    "    # symbolic function\n",
    "    sigma, omega = sympy.symbols('sigma, omega', real=True, positive=True)\n",
    "    s_binomial = sigma + sympy.I*omega\n",
    "    Y_arg = sympy.arg(Y.subs(s, s_binomial))\n",
    "    Y_mag = sympy.Abs(Y.subs(s, s_binomial))\n",
    "    f_Y_euler = sympy.lambdify((sigma, omega), (Y_arg, Y_mag))\n",
    "    \n",
    "    # compute poles and zeros\n",
    "    poles = sympy.solve(sympy.denom(Y))\n",
    "    zeros = sympy.solve(sympy.numer(Y))\n",
    "    print(np.real(poles))\n",
    "    \n",
    "    re_poles = np.array(poles.as_real_imag()[0], dtype=float)\n",
    "    im_poles = np.array(poles.as_real_imag()[1], dtype=float)\n",
    "    re_zeros = np.array(zeros.as_real_imag()[0], dtype=float)\n",
    "    im_zeros = np.array(zeros.as_real_imag()[1], dtype=float)\n",
    "\n",
    "    # evaluate\n",
    "    if log_omega:\n",
    "        omega_eval=np.logspace(np.log10(omega_min), np.log10(omega_max), 200)\n",
    "        yplot = plt.semilogy\n",
    "        xplot = plt.semilogx\n",
    "        im_zeros = np.where(im_zeros < omega_min, omega_min, im_zeros)\n",
    "        im_poles = np.where(im_poles < omega_min, omega_min, im_poles)\n",
    "    else:\n",
    "        omega_eval=np.linspace(omega_min, omega_max, 100)\n",
    "        omega_both = np.concatenate([-np.flip(omega_eval), omega_eval])\n",
    "        yplot = plt.plot\n",
    "        xplot = plt.plot\n",
    "    \n",
    "    if plot_conj and not log_omega:\n",
    "        Sigma, Omega = np.meshgrid(sigma_eval, omega_both)\n",
    "    else:\n",
    "        Sigma, Omega = np.meshgrid(sigma_eval, omega_eval)\n",
    "\n",
    "    Z = f_Y_euler(Sigma, Omega)\n",
    "    angle = np.rad2deg(Z[0])\n",
    "    mag = 20*np.log10(np.abs(Z[1]))\n",
    "    \n",
    "    # angle G(jw)\n",
    "    Z_jw = f_Y_euler(0, omega_eval)\n",
    "    angle_jw = np.rad2deg(Z_jw[0])\n",
    "    mag_jw = 20*np.log10(np.abs(Z_jw[1]))\n",
    "    \n",
    "    # figures\n",
    "    fig = plt.figure(figsize=(20, 10))\n",
    "    \n",
    "    # angle of G(S)\n",
    "    ax = plt.subplot(221)\n",
    "    CS = ax.contourf(Sigma, Omega, angle, nlevels,cmap=plt.cm.hsv)\n",
    "    cbar = plt.colorbar(CS)\n",
    "    CS = ax.contour(Sigma, Omega, angle, nlevels_outline, colors='k', linestyles='--')\n",
    "    cbar.add_lines(CS)\n",
    "    ax.set_title(r'$\\angle G(s),\\ deg$');\n",
    "    ax.set_xlabel(r'$\\sigma$')\n",
    "    ax.set_ylabel(r'$\\omega,\\ rad/s$')\n",
    "    pole_props = {'marker':'x', 'color':'white', 'markeredgewidth':3, 'markersize':20, 'markerfacecolor':'none'}\n",
    "    zero_props = {'marker':'o', 'color':'white', 'markeredgewidth':3, 'markersize':20, 'markerfacecolor':'none'}\n",
    "    h_pole = yplot(re_poles, im_poles, **pole_props)\n",
    "    h_zero = yplot(re_zeros, im_zeros, **zero_props)\n",
    "    h_jw = yplot(0*omega_eval, omega_eval, 'g-', linewidth=5, alpha=0.5)\n",
    "    plt.legend([h_zero[0], h_pole[0], h_jw[0]], ['zero', 'pole', 'jw'], loc='best', ncol=3)\n",
    "    plt.grid()\n",
    "    \n",
    "    # mag of G(S)\n",
    "    ax = plt.subplot(222)\n",
    "    CS2 = ax.contourf(Sigma, Omega, mag, nlevels, cmap=plt.cm.coolwarm)\n",
    "    cbar = plt.colorbar(CS2)\n",
    "    CS2 = ax.contour(Sigma, Omega, mag, nlevels_outline, colors='k', linestyles='--')\n",
    "    cbar.add_lines(CS2)\n",
    "    ax.set_title(r'$|G(s)|,\\ dB$');\n",
    "    ax.set_xlabel(r'$\\sigma$')\n",
    "    ax.set_ylabel(r'$\\omega,\\ rad/s$')\n",
    "    h_pole = yplot(re_poles, im_poles, **pole_props)\n",
    "    h_zero = yplot(re_zeros, im_zeros, **zero_props)\n",
    "    h_jw = yplot(0*omega_eval, omega_eval, 'g-', linewidth=5, alpha=0.5)\n",
    "    plt.legend([h_zero[0], h_pole[0], h_jw[0]], ['zero', 'pole', 'jw'], loc='best', ncol=3)\n",
    "    plt.grid()\n",
    "    \n",
    "    # magnitude of G(jw)\n",
    "    ax = plt.subplot(223)\n",
    "    ax.set_title(r'$\\angle G(j\\omega),\\ deg$');\n",
    "    ax.set_xlabel(r'$\\omega,\\ rad/s$')\n",
    "    xplot(omega_eval, angle_jw)\n",
    "    xplot(omega_eval, angle_jw)\n",
    "    ax.set_ylabel(r'$\\angle G(j\\omega),\\ deg$');\n",
    "    plt.grid()\n",
    "\n",
    "    ax = plt.subplot(224)\n",
    "    ax.set_title(r'$|G(j\\omega)|,\\ dB$');\n",
    "    ax.set_xlabel(r'$\\omega,\\ rad/s$')\n",
    "    xplot(omega_eval, mag_jw)\n",
    "    xplot(omega_eval, mag_jw)\n",
    "    ax.set_ylabel(r'$|G(j\\omega)|,\\ dB$');\n",
    "    plt.grid()"
   ]
  },
  {
   "cell_type": "code",
   "execution_count": 30,
   "metadata": {},
   "outputs": [
    {
     "data": {
      "image/png": "[encoded data removed]",
      "text/latex": [
       "$\\displaystyle \\frac{6.125}{s^{2} + 2.47487373415292 s + 6.125}$"
      ],
      "text/plain": [
       "             6.125             \n",
       "───────────────────────────────\n",
       " 2                             \n",
       "s  + 2.47487373415292⋅s + 6.125"
      ]
     },
     "execution_count": 30,
     "metadata": {},
     "output_type": "execute_result"
    }
   ],
   "source": [
    "t, sigma, omgega = sympy.symbols('t, sigma, omega')\n",
    "s = sympy.symbols('s', complex=True)\n",
    "\n",
    "g = 9.8\n",
    "l = 1.6\n",
    "zeta = 0.5\n",
    "wn = np.sqrt(g/l)\n",
    "G = wn**2/(s**2 + 2*zeta*wn*s + wn**2)\n",
    "G"
   ]
  },
  {
   "cell_type": "code",
   "execution_count": 31,
   "metadata": {},
   "outputs": [
    {
     "name": "stdout",
     "output_type": "stream",
     "text": [
      "[-1.23743686707646 - 2.14330352493528*I\n",
      " -1.23743686707646 + 2.14330352493528*I]\n"
     ]
    },
    {
     "ename": "AttributeError",
     "evalue": "'list' object has no attribute 'as_real_imag'",
     "output_type": "error",
     "traceback": [
      "\u001b[0;31m---------------------------------------------------------------------------\u001b[0m",
      "\u001b[0;31mAttributeError\u001b[0m                            Traceback (most recent call last)",
      "Input \u001b[0;32mIn [31]\u001b[0m, in \u001b[0;36m<cell line: 1>\u001b[0;34m()\u001b[0m\n\u001b[0;32m----> 1\u001b[0m \u001b[43mplot_complex_function\u001b[49m\u001b[43m(\u001b[49m\u001b[43mG\u001b[49m\u001b[43m,\u001b[49m\u001b[43m \u001b[49m\u001b[43msigma_min\u001b[49m\u001b[38;5;241;43m=\u001b[39;49m\u001b[38;5;241;43m-\u001b[39;49m\u001b[38;5;241;43m5\u001b[39;49m\u001b[43m,\u001b[49m\u001b[43m \u001b[49m\u001b[43msigma_max\u001b[49m\u001b[38;5;241;43m=\u001b[39;49m\u001b[38;5;241;43m1\u001b[39;49m\u001b[43m,\u001b[49m\u001b[43m \u001b[49m\u001b[43momega_max\u001b[49m\u001b[38;5;241;43m=\u001b[39;49m\u001b[38;5;241;43m100\u001b[39;49m\u001b[43m,\u001b[49m\u001b[43m \u001b[49m\u001b[43mlog_omega\u001b[49m\u001b[38;5;241;43m=\u001b[39;49m\u001b[38;5;28;43;01mTrue\u001b[39;49;00m\u001b[43m,\u001b[49m\u001b[43m \u001b[49m\u001b[43mplot_conj\u001b[49m\u001b[38;5;241;43m=\u001b[39;49m\u001b[38;5;28;43;01mTrue\u001b[39;49;00m\u001b[43m)\u001b[49m\n",
      "Input \u001b[0;32mIn [28]\u001b[0m, in \u001b[0;36mplot_complex_function\u001b[0;34m(Y, sigma_min, sigma_max, omega_max, log_omega, plot_conj)\u001b[0m\n\u001b[1;32m     21\u001b[0m zeros \u001b[38;5;241m=\u001b[39m sympy\u001b[38;5;241m.\u001b[39msolve(sympy\u001b[38;5;241m.\u001b[39mnumer(Y))\n\u001b[1;32m     22\u001b[0m \u001b[38;5;28mprint\u001b[39m(np\u001b[38;5;241m.\u001b[39mreal(poles))\n\u001b[0;32m---> 24\u001b[0m re_poles \u001b[38;5;241m=\u001b[39m np\u001b[38;5;241m.\u001b[39marray(\u001b[43mpoles\u001b[49m\u001b[38;5;241;43m.\u001b[39;49m\u001b[43mas_real_imag\u001b[49m()[\u001b[38;5;241m0\u001b[39m], dtype\u001b[38;5;241m=\u001b[39m\u001b[38;5;28mfloat\u001b[39m)\n\u001b[1;32m     25\u001b[0m im_poles \u001b[38;5;241m=\u001b[39m np\u001b[38;5;241m.\u001b[39marray(poles\u001b[38;5;241m.\u001b[39mas_real_imag()[\u001b[38;5;241m1\u001b[39m], dtype\u001b[38;5;241m=\u001b[39m\u001b[38;5;28mfloat\u001b[39m)\n\u001b[1;32m     26\u001b[0m re_zeros \u001b[38;5;241m=\u001b[39m np\u001b[38;5;241m.\u001b[39marray(zeros\u001b[38;5;241m.\u001b[39mas_real_imag()[\u001b[38;5;241m0\u001b[39m], dtype\u001b[38;5;241m=\u001b[39m\u001b[38;5;28mfloat\u001b[39m)\n",
      "\u001b[0;31mAttributeError\u001b[0m: 'list' object has no attribute 'as_real_imag'"
     ]
    }
   ],
   "source": [
    "plot_complex_function(G, sigma_min=-5, sigma_max=1, omega_max=100, log_omega=True, plot_conj=True)"
   ]
  },
  {
   "cell_type": "code",
   "execution_count": 14,
   "metadata": {},
   "outputs": [
    {
     "data": {
      "image/png": "[encoded data removed]",
      "text/latex": [
       "$\\displaystyle 20.0$"
      ],
      "text/plain": [
       "20.0"
      ]
     },
     "execution_count": 14,
     "metadata": {},
     "output_type": "execute_result"
    }
   ],
   "source": [
    "mag = 10\n",
    "mag_dB = 20*np.log10(mag)\n",
    "mag_dB"
   ]
  },
  {
   "cell_type": "code",
   "execution_count": null,
   "metadata": {},
   "outputs": [],
   "source": []
  }
 ],
 "metadata": {
  "kernelspec": {
   "display_name": "Python 3 (ipykernel)",
   "language": "python",
   "name": "python3"
  },
  "language_info": {
   "codemirror_mode": {
    "name": "ipython",
    "version": 3
   },
   "file_extension": ".py",
   "mimetype": "text/x-python",
   "name": "python",
   "nbconvert_exporter": "python",
   "pygments_lexer": "ipython3",
   "version": "3.9.13"
  }
 },
 "nbformat": 4,
 "nbformat_minor": 4
}
