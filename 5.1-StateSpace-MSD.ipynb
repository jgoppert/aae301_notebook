{
 "cells": [
  {
   "cell_type": "markdown",
   "metadata": {},
   "source": [
    "# Mass Spring Damper Example\n",
    "<img src=\"fig/msd.png\" alt=\"Drawing\" style=\"width: 500px;\" align=\"center\"/>\n",
    "\n",
    "The equation of motion is given as:\n",
    "\n",
    "$m \\ddot{x}(t) + c \\dot{x}(t) + k x(t) = u(t)$\n",
    "\n",
    "You are given the following physical parameters.\n",
    "* c=2 N/(m/s)\n",
    "* k=2 N/m\n",
    "* m=1 kg"
   ]
  },
  {
   "cell_type": "markdown",
   "metadata": {},
   "source": [
    "## Laplace Method for Matrix Exponential"
   ]
  },
  {
   "cell_type": "code",
   "execution_count": 4,
   "metadata": {},
   "outputs": [
    {
     "data": {
      "image/png": "[encoded data removed]",
      "text/latex": [
       "$\\displaystyle \\left( \\left[\\begin{matrix}0 & 1\\\\-1 & -1\\end{matrix}\\right], \\  \\left[\\begin{matrix}0\\\\1\\end{matrix}\\right], \\  \\left[\\begin{matrix}1 & 0\\end{matrix}\\right], \\  \\left[\\begin{matrix}0\\end{matrix}\\right]\\right)$"
      ],
      "text/plain": [
       "⎛⎡0   1 ⎤  ⎡0⎤             ⎞\n",
       "⎜⎢      ⎥, ⎢ ⎥, [1  0], [0]⎟\n",
       "⎝⎣-1  -1⎦  ⎣1⎦             ⎠"
      ]
     },
     "execution_count": 4,
     "metadata": {},
     "output_type": "execute_result"
    }
   ],
   "source": [
    "import matplotlib.pyplot as plt\n",
    "%matplotlib inline\n",
    "import sympy\n",
    "\n",
    "sympy.init_printing()\n",
    "t = sympy.symbols('t', real=True)\n",
    "eps = 1e-10  # where to start plotting, since we assume positive t\n",
    "s = sympy.symbols('s')\n",
    "c = 1\n",
    "k = 1\n",
    "\n",
    "A = sympy.Matrix([[0, 1], [-k, -c]])\n",
    "B = sympy.Matrix([[0], [1]])\n",
    "C = sympy.Matrix([[1, 0]])\n",
    "D = sympy.Matrix([[0]])\n",
    "(A, B, C, D)"
   ]
  },
  {
   "cell_type": "markdown",
   "metadata": {},
   "source": [
    "$G(s) = C(sI - A)^{-1}B + D$"
   ]
  },
  {
   "cell_type": "code",
   "execution_count": 6,
   "metadata": {},
   "outputs": [
    {
     "data": {
      "image/png": "[encoded data removed]",
      "text/latex": [
       "$\\displaystyle \\frac{1}{s^{2} + s + 1}$"
      ],
      "text/plain": [
       "    1     \n",
       "──────────\n",
       " 2        \n",
       "s  + s + 1"
      ]
     },
     "execution_count": 6,
     "metadata": {},
     "output_type": "execute_result"
    }
   ],
   "source": [
    "N = (s*sympy.eye(2) - A).inv()\n",
    "G = (C*N*B + D).expand()\n",
    "G.simplify()\n",
    "G = G[0]\n",
    "G"
   ]
  },
  {
   "cell_type": "markdown",
   "metadata": {},
   "source": [
    "Remember from the Laplace table:\n",
    "\n",
    "$\\mathcal{L}^{-1}\\left[ \\dfrac{1}{s - a} \\right] = e^{at}$\n",
    "\n",
    "The same is true for the matrix version of this Laplace transform:\n",
    "\n",
    "$\\mathcal{L}^{-1}\\left[ (sI- A)^{-1} \\right] = e^{At}$"
   ]
  },
  {
   "cell_type": "code",
   "execution_count": 7,
   "metadata": {},
   "outputs": [
    {
     "data": {
      "image/png": "[encoded data removed]",
      "text/latex": [
       "$\\displaystyle \\left[\\begin{matrix}\\frac{\\sqrt{3} \\left(\\sin{\\left(\\frac{\\sqrt{3} t}{2} \\right)} + \\sqrt{3} \\cos{\\left(\\frac{\\sqrt{3} t}{2} \\right)}\\right) e^{- \\frac{t}{2}} \\theta\\left(t\\right)}{3} & \\frac{2 \\sqrt{3} e^{- \\frac{t}{2}} \\sin{\\left(\\frac{\\sqrt{3} t}{2} \\right)} \\theta\\left(t\\right)}{3}\\\\- \\frac{2 \\sqrt{3} e^{- \\frac{t}{2}} \\sin{\\left(\\frac{\\sqrt{3} t}{2} \\right)} \\theta\\left(t\\right)}{3} & \\frac{\\sqrt{3} \\left(- \\sin{\\left(\\frac{\\sqrt{3} t}{2} \\right)} + \\sqrt{3} \\cos{\\left(\\frac{\\sqrt{3} t}{2} \\right)}\\right) e^{- \\frac{t}{2}} \\theta\\left(t\\right)}{3}\\end{matrix}\\right]$"
      ],
      "text/plain": [
       "⎡                               -t                      -t                    \n",
       "⎢                               ───                     ───                   \n",
       "⎢   ⎛   ⎛√3⋅t⎞         ⎛√3⋅t⎞⎞   2                       2     ⎛√3⋅t⎞         \n",
       "⎢√3⋅⎜sin⎜────⎟ + √3⋅cos⎜────⎟⎟⋅ℯ   ⋅θ(t)          2⋅√3⋅ℯ   ⋅sin⎜────⎟⋅θ(t)    \n",
       "⎢   ⎝   ⎝ 2  ⎠         ⎝ 2  ⎠⎠                                 ⎝ 2  ⎠         \n",
       "⎢───────────────────────────────────────          ────────────────────────    \n",
       "⎢                   3                                        3                \n",
       "⎢                                                                             \n",
       "⎢             -t                                                           -t \n",
       "⎢             ───                                                          ───\n",
       "⎢              2     ⎛√3⋅t⎞                  ⎛     ⎛√3⋅t⎞         ⎛√3⋅t⎞⎞   2 \n",
       "⎢      -2⋅√3⋅ℯ   ⋅sin⎜────⎟⋅θ(t)          √3⋅⎜- sin⎜────⎟ + √3⋅cos⎜────⎟⎟⋅ℯ   \n",
       "⎢                    ⎝ 2  ⎠                  ⎝     ⎝ 2  ⎠         ⎝ 2  ⎠⎠     \n",
       "⎢      ──────────────────────────         ────────────────────────────────────\n",
       "⎣                  3                                          3               \n",
       "\n",
       "     ⎤\n",
       "     ⎥\n",
       "     ⎥\n",
       "     ⎥\n",
       "     ⎥\n",
       "     ⎥\n",
       "     ⎥\n",
       "     ⎥\n",
       "     ⎥\n",
       "     ⎥\n",
       "     ⎥\n",
       "⋅θ(t)⎥\n",
       "     ⎥\n",
       "─────⎥\n",
       "     ⎦"
      ]
     },
     "execution_count": 7,
     "metadata": {},
     "output_type": "execute_result"
    }
   ],
   "source": [
    "eAt = sympy.inverse_laplace_transform((s*sympy.eye(2) - A).inv(), s, t)\n",
    "eAt"
   ]
  },
  {
   "cell_type": "code",
   "execution_count": 8,
   "metadata": {},
   "outputs": [
    {
     "data": {
      "image/png": "[encoded data removed]",
      "text/plain": [
       "<Figure size 432x288 with 1 Axes>"
      ]
     },
     "metadata": {
      "needs_background": "light"
     },
     "output_type": "display_data"
    },
    {
     "data": {
      "text/plain": [
       "<sympy.plotting.plot.Plot at 0x7f6f912b36a0>"
      ]
     },
     "execution_count": 8,
     "metadata": {},
     "output_type": "execute_result"
    }
   ],
   "source": [
    "sympy.plot(sympy.Heaviside(t), (t, -1, 1))"
   ]
  },
  {
   "cell_type": "markdown",
   "metadata": {},
   "source": [
    "## Spectral Method for Matrix Exponential\n",
    "\n",
    "The approach here will be to use the diagonalization of A."
   ]
  },
  {
   "cell_type": "code",
   "execution_count": 9,
   "metadata": {},
   "outputs": [
    {
     "data": {
      "image/png": "[encoded data removed]",
      "text/latex": [
       "$\\displaystyle \\left[\\begin{matrix}0 & 1\\\\-1 & -1\\end{matrix}\\right]$"
      ],
      "text/plain": [
       "⎡0   1 ⎤\n",
       "⎢      ⎥\n",
       "⎣-1  -1⎦"
      ]
     },
     "execution_count": 9,
     "metadata": {},
     "output_type": "execute_result"
    }
   ],
   "source": [
    "A"
   ]
  },
  {
   "cell_type": "code",
   "execution_count": 10,
   "metadata": {},
   "outputs": [
    {
     "data": {
      "image/png": "[encoded data removed]",
      "text/latex": [
       "$\\displaystyle \\left[ \\left( - \\frac{1}{2} - \\frac{\\sqrt{3} i}{2}, \\  1, \\  \\left[ \\left[\\begin{matrix}- \\frac{2}{1 + \\sqrt{3} i}\\\\1\\end{matrix}\\right]\\right]\\right), \\  \\left( - \\frac{1}{2} + \\frac{\\sqrt{3} i}{2}, \\  1, \\  \\left[ \\left[\\begin{matrix}- \\frac{2}{1 - \\sqrt{3} i}\\\\1\\end{matrix}\\right]\\right]\\right)\\right]$"
      ],
      "text/plain": [
       "⎡⎛               ⎡⎡  -2    ⎤⎤⎞  ⎛               ⎡⎡  -2    ⎤⎤⎞⎤\n",
       "⎢⎜  1   √3⋅ⅈ     ⎢⎢────────⎥⎥⎟  ⎜  1   √3⋅ⅈ     ⎢⎢────────⎥⎥⎟⎥\n",
       "⎢⎜- ─ - ────, 1, ⎢⎢1 + √3⋅ⅈ⎥⎥⎟, ⎜- ─ + ────, 1, ⎢⎢1 - √3⋅ⅈ⎥⎥⎟⎥\n",
       "⎢⎜  2    2       ⎢⎢        ⎥⎥⎟  ⎜  2    2       ⎢⎢        ⎥⎥⎟⎥\n",
       "⎣⎝               ⎣⎣   1    ⎦⎦⎠  ⎝               ⎣⎣   1    ⎦⎦⎠⎦"
      ]
     },
     "execution_count": 10,
     "metadata": {},
     "output_type": "execute_result"
    }
   ],
   "source": [
    "evects = sympy.Matrix.eigenvects(A)\n",
    "evects"
   ]
  },
  {
   "cell_type": "markdown",
   "metadata": {},
   "source": [
    "$T = \\left[ \\xi_1 \\xi_2 \\right]$\n",
    "\n",
    "Diagonolization:\n",
    "\n",
    "$ A = T diag(\\lambda_1, \\lambda_2) T^{-1}$"
   ]
  },
  {
   "cell_type": "code",
   "execution_count": 12,
   "metadata": {},
   "outputs": [
    {
     "data": {
      "image/png": "[encoded data removed]",
      "text/latex": [
       "$\\displaystyle \\left[\\begin{matrix}- \\frac{2}{1 + \\sqrt{3} i} & - \\frac{2}{1 - \\sqrt{3} i}\\\\1 & 1\\end{matrix}\\right]$"
      ],
      "text/plain": [
       "⎡  -2        -2    ⎤\n",
       "⎢────────  ────────⎥\n",
       "⎢1 + √3⋅ⅈ  1 - √3⋅ⅈ⎥\n",
       "⎢                  ⎥\n",
       "⎣   1         1    ⎦"
      ]
     },
     "execution_count": 12,
     "metadata": {},
     "output_type": "execute_result"
    }
   ],
   "source": [
    "T = sympy.Matrix.hstack(evects[0][2][0], evects[1][2][0])\n",
    "T"
   ]
  },
  {
   "cell_type": "code",
   "execution_count": 13,
   "metadata": {},
   "outputs": [
    {
     "data": {
      "image/png": "[encoded data removed]",
      "text/latex": [
       "$\\displaystyle \\left[\\begin{matrix}\\frac{\\frac{\\sqrt{3}}{3} - i}{\\sqrt{3} + i} & \\frac{1}{2} - \\frac{\\sqrt{3} i}{6}\\\\\\frac{\\sqrt{3} i}{3} & \\frac{1}{2} + \\frac{\\sqrt{3} i}{6}\\end{matrix}\\right]$"
      ],
      "text/plain": [
       "⎡√3              ⎤\n",
       "⎢── - ⅈ          ⎥\n",
       "⎢3       1   √3⋅ⅈ⎥\n",
       "⎢──────  ─ - ────⎥\n",
       "⎢√3 + ⅈ  2    6  ⎥\n",
       "⎢                ⎥\n",
       "⎢ √3⋅ⅈ   1   √3⋅ⅈ⎥\n",
       "⎢ ────   ─ + ────⎥\n",
       "⎣  3     2    6  ⎦"
      ]
     },
     "execution_count": 13,
     "metadata": {},
     "output_type": "execute_result"
    }
   ],
   "source": [
    "T_inv = T.inv()\n",
    "T_inv.simplify()\n",
    "T_inv"
   ]
  },
  {
   "cell_type": "code",
   "execution_count": 16,
   "metadata": {},
   "outputs": [
    {
     "data": {
      "image/png": "[encoded data removed]",
      "text/latex": [
       "$\\displaystyle \\left[\\begin{matrix}- \\frac{1}{2} - \\frac{\\sqrt{3} i}{2} & 0\\\\0 & - \\frac{1}{2} + \\frac{\\sqrt{3} i}{2}\\end{matrix}\\right]$"
      ],
      "text/plain": [
       "⎡  1   √3⋅ⅈ            ⎤\n",
       "⎢- ─ - ────      0     ⎥\n",
       "⎢  2    2              ⎥\n",
       "⎢                      ⎥\n",
       "⎢              1   √3⋅ⅈ⎥\n",
       "⎢    0       - ─ + ────⎥\n",
       "⎣              2    2  ⎦"
      ]
     },
     "execution_count": 16,
     "metadata": {},
     "output_type": "execute_result"
    }
   ],
   "source": [
    "Lambda = sympy.diag(evects[0][0], evects[1][0])\n",
    "Lambda"
   ]
  },
  {
   "cell_type": "markdown",
   "metadata": {},
   "source": [
    "Let's check that our diagonalization of A worked as expected."
   ]
  },
  {
   "cell_type": "code",
   "execution_count": 17,
   "metadata": {},
   "outputs": [
    {
     "data": {
      "image/png": "[encoded data removed]",
      "text/latex": [
       "$\\displaystyle \\left( \\left[\\begin{matrix}0 & 1\\\\-1 & -1\\end{matrix}\\right], \\  \\left[\\begin{matrix}0 & 1\\\\-1 & -1\\end{matrix}\\right]\\right)$"
      ],
      "text/plain": [
       "⎛⎡0   1 ⎤  ⎡0   1 ⎤⎞\n",
       "⎜⎢      ⎥, ⎢      ⎥⎟\n",
       "⎝⎣-1  -1⎦  ⎣-1  -1⎦⎠"
      ]
     },
     "execution_count": 17,
     "metadata": {},
     "output_type": "execute_result"
    }
   ],
   "source": [
    "A_check = (T*Lambda*T.inv())\n",
    "sympy.expand(A_check, complex=True), A"
   ]
  },
  {
   "cell_type": "markdown",
   "metadata": {},
   "source": [
    "We can calculate the exponential of the diagonal matrix containing the eigen values, it is just the exponential of each element of the diagonal."
   ]
  },
  {
   "cell_type": "code",
   "execution_count": 18,
   "metadata": {},
   "outputs": [
    {
     "data": {
      "image/png": "[encoded data removed]",
      "text/latex": [
       "$\\displaystyle \\left[\\begin{matrix}e^{t \\left(- \\frac{1}{2} - \\frac{\\sqrt{3} i}{2}\\right)} & 0\\\\0 & e^{t \\left(- \\frac{1}{2} + \\frac{\\sqrt{3} i}{2}\\right)}\\end{matrix}\\right]$"
      ],
      "text/plain": [
       "⎡   ⎛  1   √3⋅ⅈ⎞                 ⎤\n",
       "⎢ t⋅⎜- ─ - ────⎟                 ⎥\n",
       "⎢   ⎝  2    2  ⎠                 ⎥\n",
       "⎢ℯ                       0       ⎥\n",
       "⎢                                ⎥\n",
       "⎢                    ⎛  1   √3⋅ⅈ⎞⎥\n",
       "⎢                  t⋅⎜- ─ + ────⎟⎥\n",
       "⎢                    ⎝  2    2  ⎠⎥\n",
       "⎣       0         ℯ              ⎦"
      ]
     },
     "execution_count": 18,
     "metadata": {},
     "output_type": "execute_result"
    }
   ],
   "source": [
    "LambdaExp = sympy.diag(sympy.exp(evects[0][0]*t), sympy.exp(evects[1][0]*t))\n",
    "LambdaExp"
   ]
  },
  {
   "cell_type": "code",
   "execution_count": 21,
   "metadata": {},
   "outputs": [
    {
     "data": {
      "image/png": "[encoded data removed]",
      "text/latex": [
       "$\\displaystyle \\left[\\begin{matrix}\\left(\\frac{\\sqrt{3} e^{- \\frac{t}{2}} \\sin{\\left(\\frac{\\sqrt{3} t}{2} \\right)}}{3} + e^{- \\frac{t}{2}} \\cos{\\left(\\frac{\\sqrt{3} t}{2} \\right)}\\right) \\theta\\left(t\\right) & \\frac{2 \\sqrt{3} e^{- \\frac{t}{2}} \\sin{\\left(\\frac{\\sqrt{3} t}{2} \\right)} \\theta\\left(t\\right)}{3}\\\\- \\frac{2 \\sqrt{3} e^{- \\frac{t}{2}} \\sin{\\left(\\frac{\\sqrt{3} t}{2} \\right)} \\theta\\left(t\\right)}{3} & \\left(- \\frac{\\sqrt{3} e^{- \\frac{t}{2}} \\sin{\\left(\\frac{\\sqrt{3} t}{2} \\right)}}{3} + e^{- \\frac{t}{2}} \\cos{\\left(\\frac{\\sqrt{3} t}{2} \\right)}\\right) \\theta\\left(t\\right)\\end{matrix}\\right]$"
      ],
      "text/plain": [
       "⎡⎛    -t                            ⎞                      -t                 \n",
       "⎢⎜    ───                           ⎟                      ───                \n",
       "⎢⎜     2     ⎛√3⋅t⎞    -t           ⎟                       2     ⎛√3⋅t⎞      \n",
       "⎢⎜√3⋅ℯ   ⋅sin⎜────⎟    ───          ⎟                2⋅√3⋅ℯ   ⋅sin⎜────⎟⋅θ(t) \n",
       "⎢⎜           ⎝ 2  ⎠     2     ⎛√3⋅t⎞⎟                             ⎝ 2  ⎠      \n",
       "⎢⎜───────────────── + ℯ   ⋅cos⎜────⎟⎟⋅θ(t)           ──────────────────────── \n",
       "⎢⎝        3                   ⎝ 2  ⎠⎠                           3             \n",
       "⎢                                                                             \n",
       "⎢              -t                           ⎛      -t                         \n",
       "⎢              ───                          ⎜      ───                        \n",
       "⎢               2     ⎛√3⋅t⎞                ⎜       2     ⎛√3⋅t⎞    -t        \n",
       "⎢       -2⋅√3⋅ℯ   ⋅sin⎜────⎟⋅θ(t)           ⎜  √3⋅ℯ   ⋅sin⎜────⎟    ───       \n",
       "⎢                     ⎝ 2  ⎠                ⎜             ⎝ 2  ⎠     2     ⎛√3\n",
       "⎢       ──────────────────────────          ⎜- ───────────────── + ℯ   ⋅cos⎜──\n",
       "⎣                   3                       ⎝          3                   ⎝ 2\n",
       "\n",
       "         ⎤\n",
       "         ⎥\n",
       "         ⎥\n",
       "         ⎥\n",
       "         ⎥\n",
       "         ⎥\n",
       "         ⎥\n",
       "         ⎥\n",
       "   ⎞     ⎥\n",
       "   ⎟     ⎥\n",
       "   ⎟     ⎥\n",
       "   ⎟     ⎥\n",
       "⋅t⎞⎟     ⎥\n",
       "──⎟⎟⋅θ(t)⎥\n",
       "  ⎠⎠     ⎦"
      ]
     },
     "execution_count": 21,
     "metadata": {},
     "output_type": "execute_result"
    }
   ],
   "source": [
    "eAt_spec = (T*LambdaExp*T_inv).expand(complex=True)*sympy.Heaviside(t)\n",
    "eAt_spec"
   ]
  },
  {
   "cell_type": "code",
   "execution_count": 22,
   "metadata": {},
   "outputs": [
    {
     "data": {
      "image/png": "[encoded data removed]",
      "text/latex": [
       "$\\displaystyle \\left[\\begin{matrix}\\frac{\\sqrt{3} \\left(\\sin{\\left(\\frac{\\sqrt{3} t}{2} \\right)} + \\sqrt{3} \\cos{\\left(\\frac{\\sqrt{3} t}{2} \\right)}\\right) e^{- \\frac{t}{2}} \\theta\\left(t\\right)}{3} & \\frac{2 \\sqrt{3} e^{- \\frac{t}{2}} \\sin{\\left(\\frac{\\sqrt{3} t}{2} \\right)} \\theta\\left(t\\right)}{3}\\\\- \\frac{2 \\sqrt{3} e^{- \\frac{t}{2}} \\sin{\\left(\\frac{\\sqrt{3} t}{2} \\right)} \\theta\\left(t\\right)}{3} & \\frac{\\sqrt{3} \\left(- \\sin{\\left(\\frac{\\sqrt{3} t}{2} \\right)} + \\sqrt{3} \\cos{\\left(\\frac{\\sqrt{3} t}{2} \\right)}\\right) e^{- \\frac{t}{2}} \\theta\\left(t\\right)}{3}\\end{matrix}\\right]$"
      ],
      "text/plain": [
       "⎡                               -t                      -t                    \n",
       "⎢                               ───                     ───                   \n",
       "⎢   ⎛   ⎛√3⋅t⎞         ⎛√3⋅t⎞⎞   2                       2     ⎛√3⋅t⎞         \n",
       "⎢√3⋅⎜sin⎜────⎟ + √3⋅cos⎜────⎟⎟⋅ℯ   ⋅θ(t)          2⋅√3⋅ℯ   ⋅sin⎜────⎟⋅θ(t)    \n",
       "⎢   ⎝   ⎝ 2  ⎠         ⎝ 2  ⎠⎠                                 ⎝ 2  ⎠         \n",
       "⎢───────────────────────────────────────          ────────────────────────    \n",
       "⎢                   3                                        3                \n",
       "⎢                                                                             \n",
       "⎢             -t                                                           -t \n",
       "⎢             ───                                                          ───\n",
       "⎢              2     ⎛√3⋅t⎞                  ⎛     ⎛√3⋅t⎞         ⎛√3⋅t⎞⎞   2 \n",
       "⎢      -2⋅√3⋅ℯ   ⋅sin⎜────⎟⋅θ(t)          √3⋅⎜- sin⎜────⎟ + √3⋅cos⎜────⎟⎟⋅ℯ   \n",
       "⎢                    ⎝ 2  ⎠                  ⎝     ⎝ 2  ⎠         ⎝ 2  ⎠⎠     \n",
       "⎢      ──────────────────────────         ────────────────────────────────────\n",
       "⎣                  3                                          3               \n",
       "\n",
       "     ⎤\n",
       "     ⎥\n",
       "     ⎥\n",
       "     ⎥\n",
       "     ⎥\n",
       "     ⎥\n",
       "     ⎥\n",
       "     ⎥\n",
       "     ⎥\n",
       "     ⎥\n",
       "     ⎥\n",
       "⋅θ(t)⎥\n",
       "     ⎥\n",
       "─────⎥\n",
       "     ⎦"
      ]
     },
     "execution_count": 22,
     "metadata": {},
     "output_type": "execute_result"
    }
   ],
   "source": [
    "eAt"
   ]
  },
  {
   "cell_type": "markdown",
   "metadata": {},
   "source": [
    "## Response given initial conditions\n",
    "\n",
    "$\\vec{x} = \\begin{bmatrix}x  \\\\ \\dot{x} \\end{bmatrix}$\n",
    "\n",
    "$\\vec{x}(t) = e^{At}\\vec{x}(0) + \\int_0^t e^{A(t - \\tau)}  B u(\\tau) d\\tau$\n",
    "\n",
    "$\\vec{y}(t) = C \\vec{x}(t) + D\\vec{u}(t)$"
   ]
  },
  {
   "cell_type": "code",
   "execution_count": 23,
   "metadata": {},
   "outputs": [
    {
     "data": {
      "image/png": "[encoded data removed]",
      "text/latex": [
       "$\\displaystyle \\left[\\begin{matrix}1\\\\0\\end{matrix}\\right]$"
      ],
      "text/plain": [
       "⎡1⎤\n",
       "⎢ ⎥\n",
       "⎣0⎦"
      ]
     },
     "execution_count": 23,
     "metadata": {},
     "output_type": "execute_result"
    }
   ],
   "source": [
    "x0 = sympy.Matrix([1, 0])\n",
    "x0"
   ]
  },
  {
   "cell_type": "code",
   "execution_count": 24,
   "metadata": {},
   "outputs": [
    {
     "data": {
      "image/png": "[encoded data removed]",
      "text/latex": [
       "$\\displaystyle \\left[\\begin{matrix}\\frac{\\sqrt{3} \\left(\\sin{\\left(\\frac{\\sqrt{3} t}{2} \\right)} + \\sqrt{3} \\cos{\\left(\\frac{\\sqrt{3} t}{2} \\right)}\\right) e^{- \\frac{t}{2}} \\theta\\left(t\\right)}{3}\\\\- \\frac{2 \\sqrt{3} e^{- \\frac{t}{2}} \\sin{\\left(\\frac{\\sqrt{3} t}{2} \\right)} \\theta\\left(t\\right)}{3}\\end{matrix}\\right]$"
      ],
      "text/plain": [
       "⎡                               -t      ⎤\n",
       "⎢                               ───     ⎥\n",
       "⎢   ⎛   ⎛√3⋅t⎞         ⎛√3⋅t⎞⎞   2      ⎥\n",
       "⎢√3⋅⎜sin⎜────⎟ + √3⋅cos⎜────⎟⎟⋅ℯ   ⋅θ(t)⎥\n",
       "⎢   ⎝   ⎝ 2  ⎠         ⎝ 2  ⎠⎠          ⎥\n",
       "⎢───────────────────────────────────────⎥\n",
       "⎢                   3                   ⎥\n",
       "⎢                                       ⎥\n",
       "⎢             -t                        ⎥\n",
       "⎢             ───                       ⎥\n",
       "⎢              2     ⎛√3⋅t⎞             ⎥\n",
       "⎢      -2⋅√3⋅ℯ   ⋅sin⎜────⎟⋅θ(t)        ⎥\n",
       "⎢                    ⎝ 2  ⎠             ⎥\n",
       "⎢      ──────────────────────────       ⎥\n",
       "⎣                  3                    ⎦"
      ]
     },
     "execution_count": 24,
     "metadata": {},
     "output_type": "execute_result"
    }
   ],
   "source": [
    "x = eAt*x0\n",
    "x"
   ]
  },
  {
   "cell_type": "code",
   "execution_count": 25,
   "metadata": {},
   "outputs": [
    {
     "data": {
      "image/png": "[encoded data removed]",
      "text/plain": [
       "<Figure size 432x288 with 1 Axes>"
      ]
     },
     "metadata": {
      "needs_background": "light"
     },
     "output_type": "display_data"
    },
    {
     "data": {
      "text/plain": [
       "<sympy.plotting.plot.Plot at 0x7f6f797d0a60>"
      ]
     },
     "execution_count": 25,
     "metadata": {},
     "output_type": "execute_result"
    }
   ],
   "source": [
    "sympy.plot(x[0], (t, eps, 10))"
   ]
  },
  {
   "cell_type": "code",
   "execution_count": 26,
   "metadata": {},
   "outputs": [
    {
     "data": {
      "image/png": "[encoded data removed]",
      "text/plain": [
       "<Figure size 432x288 with 1 Axes>"
      ]
     },
     "metadata": {
      "needs_background": "light"
     },
     "output_type": "display_data"
    },
    {
     "data": {
      "text/plain": [
       "<sympy.plotting.plot.Plot at 0x7f6f795d4250>"
      ]
     },
     "execution_count": 26,
     "metadata": {},
     "output_type": "execute_result"
    }
   ],
   "source": [
    "sympy.plot(x[1])"
   ]
  },
  {
   "cell_type": "markdown",
   "metadata": {},
   "source": [
    "# Final Value Theorem\n",
    "\n",
    "$G(s) = Y(s)/U(s)$\n",
    "\n",
    "$\\lim\\limits_{t \\rightarrow \\infty} x(t) = \\lim\\limits_{s \\rightarrow 0} s X(s)$"
   ]
  },
  {
   "cell_type": "code",
   "execution_count": 27,
   "metadata": {},
   "outputs": [
    {
     "data": {
      "image/png": "[encoded data removed]",
      "text/latex": [
       "$\\displaystyle \\frac{1}{s^{2} + s + 1}$"
      ],
      "text/plain": [
       "    1     \n",
       "──────────\n",
       " 2        \n",
       "s  + s + 1"
      ]
     },
     "execution_count": 27,
     "metadata": {},
     "output_type": "execute_result"
    }
   ],
   "source": [
    "G"
   ]
  },
  {
   "cell_type": "markdown",
   "metadata": {},
   "source": [
    "## Unit step of magnitude  3\n",
    "\n",
    "$ X = G\\cdot U$\n",
    "\n",
    "$ X = (X/U)\\cdot U$"
   ]
  },
  {
   "cell_type": "code",
   "execution_count": 28,
   "metadata": {},
   "outputs": [
    {
     "data": {
      "image/png": "[encoded data removed]",
      "text/latex": [
       "$\\displaystyle \\frac{3}{s \\left(s^{2} + s + 1\\right)}$"
      ],
      "text/plain": [
       "      3       \n",
       "──────────────\n",
       "  ⎛ 2        ⎞\n",
       "s⋅⎝s  + s + 1⎠"
      ]
     },
     "execution_count": 28,
     "metadata": {},
     "output_type": "execute_result"
    }
   ],
   "source": [
    "U1 = 3/s\n",
    "X1 = G*U1\n",
    "X1"
   ]
  },
  {
   "cell_type": "code",
   "execution_count": 29,
   "metadata": {},
   "outputs": [
    {
     "data": {
      "image/png": "[encoded data removed]",
      "text/latex": [
       "$\\displaystyle 3 \\theta\\left(t\\right)$"
      ],
      "text/plain": [
       "3⋅θ(t)"
      ]
     },
     "execution_count": 29,
     "metadata": {},
     "output_type": "execute_result"
    }
   ],
   "source": [
    "u1 = sympy.inverse_laplace_transform(U1, s, t)\n",
    "u1"
   ]
  },
  {
   "cell_type": "code",
   "execution_count": 30,
   "metadata": {},
   "outputs": [
    {
     "data": {
      "image/png": "[encoded data removed]",
      "text/latex": [
       "$\\displaystyle 3$"
      ],
      "text/plain": [
       "3"
      ]
     },
     "execution_count": 30,
     "metadata": {},
     "output_type": "execute_result"
    }
   ],
   "source": [
    "x1_final = sympy.simplify(s*X1).subs(s, 0)\n",
    "x1_final"
   ]
  },
  {
   "cell_type": "code",
   "execution_count": 31,
   "metadata": {},
   "outputs": [
    {
     "data": {
      "image/png": "[encoded data removed]",
      "text/latex": [
       "$\\displaystyle 3 \\theta\\left(t\\right) - 2 \\sqrt{3} e^{- \\frac{t}{2}} \\sin{\\left(\\frac{\\sqrt{3} t}{2} + \\frac{\\pi}{3} \\right)} \\theta\\left(t\\right)$"
      ],
      "text/plain": [
       "               -t                    \n",
       "               ───                   \n",
       "                2     ⎛√3⋅t   π⎞     \n",
       "3⋅θ(t) - 2⋅√3⋅ℯ   ⋅sin⎜──── + ─⎟⋅θ(t)\n",
       "                      ⎝ 2     3⎠     "
      ]
     },
     "execution_count": 31,
     "metadata": {},
     "output_type": "execute_result"
    }
   ],
   "source": [
    "x1 = sympy.inverse_laplace_transform(sympy.apart(X1, full=True), s, t)\n",
    "x1"
   ]
  },
  {
   "cell_type": "code",
   "execution_count": 32,
   "metadata": {},
   "outputs": [
    {
     "data": {
      "image/png": "[encoded data removed]",
      "text/plain": [
       "<Figure size 432x288 with 1 Axes>"
      ]
     },
     "metadata": {
      "needs_background": "light"
     },
     "output_type": "display_data"
    },
    {
     "data": {
      "text/plain": [
       "<sympy.plotting.plot.Plot at 0x7f6f79645dc0>"
      ]
     },
     "execution_count": 32,
     "metadata": {},
     "output_type": "execute_result"
    }
   ],
   "source": [
    "sympy.plot(x1, x1_final, (t, eps, 10))"
   ]
  },
  {
   "cell_type": "markdown",
   "metadata": {},
   "source": [
    "## Impulse of magnitude 2"
   ]
  },
  {
   "cell_type": "code",
   "execution_count": 33,
   "metadata": {},
   "outputs": [
    {
     "data": {
      "image/png": "[encoded data removed]",
      "text/latex": [
       "$\\displaystyle \\frac{2}{s^{2} + s + 1}$"
      ],
      "text/plain": [
       "    2     \n",
       "──────────\n",
       " 2        \n",
       "s  + s + 1"
      ]
     },
     "execution_count": 33,
     "metadata": {},
     "output_type": "execute_result"
    }
   ],
   "source": [
    "U2 = 2\n",
    "X2 = G*U2\n",
    "X2"
   ]
  },
  {
   "cell_type": "code",
   "execution_count": 34,
   "metadata": {},
   "outputs": [
    {
     "data": {
      "image/png": "[encoded data removed]",
      "text/latex": [
       "$\\displaystyle 2 \\delta\\left(t\\right)$"
      ],
      "text/plain": [
       "2⋅δ(t)"
      ]
     },
     "execution_count": 34,
     "metadata": {},
     "output_type": "execute_result"
    }
   ],
   "source": [
    "u2 = sympy.inverse_laplace_transform(U2, s, t)\n",
    "u2"
   ]
  },
  {
   "cell_type": "code",
   "execution_count": 35,
   "metadata": {},
   "outputs": [
    {
     "data": {
      "image/png": "[encoded data removed]",
      "text/latex": [
       "$\\displaystyle 0$"
      ],
      "text/plain": [
       "0"
      ]
     },
     "execution_count": 35,
     "metadata": {},
     "output_type": "execute_result"
    }
   ],
   "source": [
    "x2_final = (s*X2).subs(s, 0)\n",
    "x2_final"
   ]
  },
  {
   "cell_type": "code",
   "execution_count": 36,
   "metadata": {},
   "outputs": [
    {
     "data": {
      "image/png": "[encoded data removed]",
      "text/latex": [
       "$\\displaystyle \\frac{2 s}{s^{2} + s + 1}$"
      ],
      "text/plain": [
       "   2⋅s    \n",
       "──────────\n",
       " 2        \n",
       "s  + s + 1"
      ]
     },
     "execution_count": 36,
     "metadata": {},
     "output_type": "execute_result"
    }
   ],
   "source": [
    "s*X2"
   ]
  },
  {
   "cell_type": "code",
   "execution_count": 37,
   "metadata": {},
   "outputs": [
    {
     "data": {
      "image/png": "[encoded data removed]",
      "text/latex": [
       "$\\displaystyle \\frac{4 \\sqrt{3} e^{- \\frac{t}{2}} \\sin{\\left(\\frac{\\sqrt{3} t}{2} \\right)} \\theta\\left(t\\right)}{3}$"
      ],
      "text/plain": [
       "      -t                \n",
       "      ───               \n",
       "       2     ⎛√3⋅t⎞     \n",
       "4⋅√3⋅ℯ   ⋅sin⎜────⎟⋅θ(t)\n",
       "             ⎝ 2  ⎠     \n",
       "────────────────────────\n",
       "           3            "
      ]
     },
     "execution_count": 37,
     "metadata": {},
     "output_type": "execute_result"
    }
   ],
   "source": [
    "x2 = sympy.inverse_laplace_transform(X2, s, t).expand(complex=True)\n",
    "x2"
   ]
  },
  {
   "cell_type": "code",
   "execution_count": 38,
   "metadata": {},
   "outputs": [
    {
     "data": {
      "image/png": "[encoded data removed]",
      "text/plain": [
       "<Figure size 432x288 with 1 Axes>"
      ]
     },
     "metadata": {
      "needs_background": "light"
     },
     "output_type": "display_data"
    },
    {
     "data": {
      "text/plain": [
       "<sympy.plotting.plot.Plot at 0x7f6f78d4e1c0>"
      ]
     },
     "execution_count": 38,
     "metadata": {},
     "output_type": "execute_result"
    }
   ],
   "source": [
    "sympy.plot(x2, x2_final, (t, eps, 10))"
   ]
  }
 ],
 "metadata": {
  "kernelspec": {
   "display_name": "Python 3",
   "language": "python",
   "name": "python3"
  },
  "language_info": {
   "codemirror_mode": {
    "name": "ipython",
    "version": 3
   },
   "file_extension": ".py",
   "mimetype": "text/x-python",
   "name": "python",
   "nbconvert_exporter": "python",
   "pygments_lexer": "ipython3",
   "version": "3.8.8"
  }
 },
 "nbformat": 4,
 "nbformat_minor": 4
}
