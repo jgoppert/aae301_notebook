{
 "cells": [
  {
   "cell_type": "code",
   "execution_count": 1,
   "id": "controversial-statement",
   "metadata": {},
   "outputs": [],
   "source": [
    "from pylab import *"
   ]
  },
  {
   "cell_type": "markdown",
   "id": "western-staff",
   "metadata": {},
   "source": [
    "## Python ranges and conditionals"
   ]
  },
  {
   "cell_type": "code",
   "execution_count": 2,
   "id": "german-digit",
   "metadata": {},
   "outputs": [
    {
     "data": {
      "text/plain": [
       "range(1, 6, 2)"
      ]
     },
     "execution_count": 2,
     "metadata": {},
     "output_type": "execute_result"
    }
   ],
   "source": [
    "range(1, 3)   # like matlab [1:2]\n",
    "range(1, 5+1, 2)   # like matlab [1:2:5]"
   ]
  },
  {
   "cell_type": "code",
   "execution_count": 3,
   "id": "civilian-allah",
   "metadata": {},
   "outputs": [],
   "source": [
    "a = 2\n",
    "if a > 3:\n",
    "    print('hello')\n",
    "elif a == 2:\n",
    "    pass\n",
    "else:\n",
    "    print('stuff')"
   ]
  },
  {
   "cell_type": "markdown",
   "id": "dying-taiwan",
   "metadata": {},
   "source": [
    "## Computer approximations $p_n$"
   ]
  },
  {
   "cell_type": "code",
   "execution_count": 4,
   "id": "opposite-elder",
   "metadata": {},
   "outputs": [],
   "source": [
    "t = linspace(0, 2*pi, 1000)\n",
    "a0 = 0\n",
    "approx = a0*1\n",
    "n = 10\n",
    "# note to get n, you need to use range k+1\n",
    "for k in range(1, n+1, 2):\n",
    "    approx = approx + (4/pi)*sin(k*t)/k"
   ]
  },
  {
   "cell_type": "code",
   "execution_count": 5,
   "id": "serial-setting",
   "metadata": {},
   "outputs": [
    {
     "data": {
      "text/plain": [
       "Text(0.5, 0, 't')"
      ]
     },
     "execution_count": 5,
     "metadata": {},
     "output_type": "execute_result"
    },
    {
     "data": {
      "image/png": "[encoded data removed]",
      "text/plain": [
       "<Figure size 432x288 with 1 Axes>"
      ]
     },
     "metadata": {
      "needs_background": "light"
     },
     "output_type": "display_data"
    }
   ],
   "source": [
    "f = where(t > pi, -1, 1)\n",
    "\n",
    "plot(t, f)\n",
    "plot(t, approx)\n",
    "grid()\n",
    "xlabel('t')"
   ]
  },
  {
   "cell_type": "markdown",
   "id": "overall-marketing",
   "metadata": {},
   "source": [
    "## Power Spectrum"
   ]
  },
  {
   "cell_type": "code",
   "execution_count": 6,
   "id": "contained-rehabilitation",
   "metadata": {},
   "outputs": [],
   "source": [
    "ak_list = []\n",
    "n = 100\n",
    "k_list = range(-n, n+1)\n",
    "    \n",
    "for k in k_list:\n",
    "    if k == 0:\n",
    "        ak_list.append(0)\n",
    "    elif k % 2 == 0:  #even\n",
    "        ak_list.append(0)\n",
    "    else:  # odd and non-zero\n",
    "        ak_list.append(2*1j/(pi*k))\n",
    "\n",
    "# turn list into \n",
    "ak_list = np.array(ak_list)"
   ]
  },
  {
   "cell_type": "code",
   "execution_count": 7,
   "id": "liberal-watson",
   "metadata": {},
   "outputs": [
    {
     "data": {
      "image/png": "[encoded data removed]",
      "text/plain": [
       "<Figure size 432x288 with 1 Axes>"
      ]
     },
     "metadata": {
      "needs_background": "light"
     },
     "output_type": "display_data"
    }
   ],
   "source": [
    "power = abs(ak_list)**2\n",
    "bar(k_list, power)\n",
    "xlabel('k')\n",
    "ylabel('power')\n",
    "title('power spectrum')\n",
    "grid()"
   ]
  },
  {
   "cell_type": "markdown",
   "id": "devoted-information",
   "metadata": {},
   "source": [
    "## Computing || f - p_n ||^2"
   ]
  },
  {
   "cell_type": "code",
   "execution_count": 8,
   "id": "steady-arrival",
   "metadata": {},
   "outputs": [
    {
     "name": "stdout",
     "output_type": "stream",
     "text": [
      "should converge to zero as n approaches infinity\n"
     ]
    },
    {
     "data": {
      "text/plain": [
       "0.004052712269689609"
      ]
     },
     "execution_count": 8,
     "metadata": {},
     "output_type": "execute_result"
    }
   ],
   "source": [
    "from pylab import *\n",
    "\n",
    "norm_f_sq = 1\n",
    "\n",
    "norm_error_sq = norm_f_sq\n",
    "n = 100\n",
    "for k in range(-n, n+1):  # always range uses n+1\n",
    "    if k == 0: # a0\n",
    "        ak = 0\n",
    "    elif k%2 != 0: # odd terms\n",
    "        ak = 2*1j/(pi*k)\n",
    "    elif k%2 == 0: # even\n",
    "        ak = 0\n",
    "    # same as: norm_error_sq = norm_error_sq - abs(ak)**2\n",
    "    norm_error_sq -= abs(ak)**2\n",
    "\n",
    "print('should converge to zero as n approaches infinity')\n",
    "norm_error_sq"
   ]
  },
  {
   "cell_type": "markdown",
   "id": "skilled-effect",
   "metadata": {},
   "source": [
    "# Example from Class 2/12/21"
   ]
  },
  {
   "cell_type": "code",
   "execution_count": 14,
   "id": "flush-istanbul",
   "metadata": {},
   "outputs": [
    {
     "data": {
      "text/plain": [
       "6.014654969650223e-05"
      ]
     },
     "execution_count": 14,
     "metadata": {},
     "output_type": "execute_result"
    }
   ],
   "source": [
    "norm_f_sq = 1/3\n",
    "\n",
    "norm_error_sq = norm_f_sq\n",
    "n  = 5\n",
    "for k in range(-n, n+1):\n",
    "    if k == 0:\n",
    "        ak = 1/2\n",
    "    elif k %2 == 0:\n",
    "        ak = 0\n",
    "    else:\n",
    "        ak = -2/(k**2*pi**2)\n",
    "    norm_error_sq -= abs(ak)**2\n",
    "\n",
    "norm_error_sq"
   ]
  },
  {
   "cell_type": "code",
   "execution_count": 15,
   "id": "damaged-vietnamese",
   "metadata": {},
   "outputs": [
    {
     "data": {
      "text/plain": [
       "6.014654969650212e-05"
      ]
     },
     "execution_count": 15,
     "metadata": {},
     "output_type": "execute_result"
    }
   ],
   "source": [
    "error_sq = 1/3 - 1/4  # ||f||^2 - |a0|^2\n",
    "for k in range(-n, n+1):\n",
    "    if k != 0 and k % 2 == 1:  # k non zeros and k odd\n",
    "        error_sq -= (4/(k**4*pi**4))  # |ak|^2\n",
    "error_sq"
   ]
  },
  {
   "cell_type": "code",
   "execution_count": 16,
   "id": "activated-tribe",
   "metadata": {},
   "outputs": [
    {
     "data": {
      "image/png": "[encoded data removed]",
      "text/plain": [
       "<Figure size 432x288 with 1 Axes>"
      ]
     },
     "metadata": {
      "needs_background": "light"
     },
     "output_type": "display_data"
    }
   ],
   "source": [
    "t = linspace(0, 2, 1000)\n",
    "f = where(t < 1, t, 2 - t)\n",
    "plot(t, f)\n",
    "\n",
    "pn = 1/2\n",
    "\n",
    "for k in range(1, n+1, 2):\n",
    "    pn -= (4/(pi**2))*cos(k*pi*t)/k**2\n",
    "    \n",
    "plot(t, pn)\n",
    "grid()"
   ]
  },
  {
   "cell_type": "code",
   "execution_count": null,
   "id": "found-parcel",
   "metadata": {},
   "outputs": [],
   "source": [
    "a9"
   ]
  }
 ],
 "metadata": {
  "kernelspec": {
   "display_name": "Python 3",
   "language": "python",
   "name": "python3"
  },
  "language_info": {
   "codemirror_mode": {
    "name": "ipython",
    "version": 3
   },
   "file_extension": ".py",
   "mimetype": "text/x-python",
   "name": "python",
   "nbconvert_exporter": "python",
   "pygments_lexer": "ipython3",
   "version": "3.8.6"
  }
 },
 "nbformat": 4,
 "nbformat_minor": 5
}
