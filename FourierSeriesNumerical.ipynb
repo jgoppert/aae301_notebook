{
 "cells": [
  {
   "cell_type": "code",
   "execution_count": 1,
   "id": "olympic-storage",
   "metadata": {},
   "outputs": [],
   "source": [
    "from pylab import *"
   ]
  },
  {
   "cell_type": "code",
   "execution_count": 2,
   "id": "mounted-recall",
   "metadata": {},
   "outputs": [
    {
     "data": {
      "text/plain": [
       "range(1, 6, 2)"
      ]
     },
     "execution_count": 2,
     "metadata": {},
     "output_type": "execute_result"
    }
   ],
   "source": [
    "range(1, 3)   # like matlab [1:2]\n",
    "range(1, 5+1, 2)   # like matlab [1:2:5]"
   ]
  },
  {
   "cell_type": "code",
   "execution_count": 3,
   "id": "champion-strand",
   "metadata": {},
   "outputs": [
    {
     "name": "stdout",
     "output_type": "stream",
     "text": [
      "1\n",
      "3\n",
      "5\n",
      "7\n",
      "9\n"
     ]
    }
   ],
   "source": [
    "t = linspace(0, 2*pi, 1000)\n",
    "a0 = 0\n",
    "\n",
    "approx = a0*1\n",
    "\n",
    "n = 10\n",
    "# note to get n, you need to use range k+1\n",
    "for k in range(1, n+1, 2):\n",
    "    approx = approx + (4/pi)*sin(k*t)/k\n",
    "    print(k)"
   ]
  },
  {
   "cell_type": "code",
   "execution_count": 4,
   "id": "registered-steering",
   "metadata": {},
   "outputs": [
    {
     "data": {
      "text/plain": [
       "[<matplotlib.lines.Line2D at 0x7f9da27054f0>]"
      ]
     },
     "execution_count": 4,
     "metadata": {},
     "output_type": "execute_result"
    },
    {
     "data": {
      "image/png": "[encoded data removed]",
      "text/plain": [
       "<Figure size 432x288 with 1 Axes>"
      ]
     },
     "metadata": {
      "needs_background": "light"
     },
     "output_type": "display_data"
    }
   ],
   "source": [
    "f = where(t > pi, -1, 1)\n",
    "\n",
    "plot(t, f)\n",
    "plot(t, approx)"
   ]
  },
  {
   "cell_type": "code",
   "execution_count": 5,
   "id": "whole-personal",
   "metadata": {},
   "outputs": [],
   "source": [
    "a = 2\n",
    "if a > 3:\n",
    "    print('hello')\n",
    "elif a == 2:\n",
    "    pass\n",
    "else:\n",
    "    print('stuff')"
   ]
  },
  {
   "cell_type": "code",
   "execution_count": 6,
   "id": "mounted-gossip",
   "metadata": {},
   "outputs": [],
   "source": [
    "ak_list = []\n",
    "n = 100\n",
    "k_list = range(-n, n+1)\n",
    "    \n",
    "for k in k_list:\n",
    "    if k == 0:\n",
    "        ak_list.append(0)\n",
    "    elif k % 2 == 0:  #even\n",
    "        ak_list.append(0)\n",
    "    else:  # odd and non-zero\n",
    "        ak_list.append(2*1j/(pi*k))\n",
    "\n",
    "# turn list into \n",
    "ak_list = np.array(ak_list)"
   ]
  },
  {
   "cell_type": "code",
   "execution_count": 7,
   "id": "focused-louis",
   "metadata": {},
   "outputs": [
    {
     "data": {
      "image/png": "[encoded data removed]",
      "text/plain": [
       "<Figure size 432x288 with 1 Axes>"
      ]
     },
     "metadata": {
      "needs_background": "light"
     },
     "output_type": "display_data"
    }
   ],
   "source": [
    "power = abs(ak_list)**2\n",
    "bar(k_list, power)\n",
    "xlabel('k')\n",
    "ylabel('power')\n",
    "title('power spectrum')\n",
    "grid()"
   ]
  }
 ],
 "metadata": {
  "kernelspec": {
   "display_name": "Python 3",
   "language": "python",
   "name": "python3"
  },
  "language_info": {
   "codemirror_mode": {
    "name": "ipython",
    "version": 3
   },
   "file_extension": ".py",
   "mimetype": "text/x-python",
   "name": "python",
   "nbconvert_exporter": "python",
   "pygments_lexer": "ipython3",
   "version": "3.8.6"
  }
 },
 "nbformat": 4,
 "nbformat_minor": 5
}
