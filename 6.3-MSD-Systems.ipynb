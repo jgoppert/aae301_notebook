{
 "cells": [
  {
   "cell_type": "markdown",
   "metadata": {},
   "source": [
    "# Mass Spring Damper Systems"
   ]
  },
  {
   "cell_type": "markdown",
   "metadata": {},
   "source": [
    "An square matrix, $P \\in \\mathbb{R}^{n\\times n}$,  such that $\\vec{x}^T P \\vec{x} > 0$ for all $\\vec{x} \\in \\mathbb{R}^n$ is called **positive definite**."
   ]
  },
  {
   "cell_type": "markdown",
   "metadata": {},
   "source": [
    "A matrix is **positive definite** if and only if:\n",
    "\n",
    "1. The matrix is **Hermitian** (self-adjoint).\n",
    "    * **Hermitian** $P=\\bar{P}^T$, where $\\bar{P}^T$ is often denoted as $P^*$\n",
    "    * This can be thought of the extension of *symmetric* to complex matrices. A Hermitian matrix is garunteed to have *real* eigenvalues.\n",
    "2. The matrix is **diagonally dominant** with a **positive diagonal**.\n",
    "    * A diagonally dominant matrix will have eigen values with positive real part if the diagonal is positive.\n",
    "    * If the diagonal is negative, it will have eigenvalues with negative real part.\n",
    "3. The matrix is invertible."
   ]
  },
  {
   "cell_type": "markdown",
   "metadata": {},
   "source": [
    "**Question 1**\n",
    "\n",
    "Is the matrix $\\begin{bmatrix}\n",
    "-1 & 0 \\\\\n",
    "0 & 2\n",
    "\\end{bmatrix}$ positive definite?"
   ]
  },
  {
   "cell_type": "markdown",
   "metadata": {},
   "source": [
    "**Question 2**\n",
    "\n",
    "Is the matrix $\\begin{bmatrix}\n",
    "2 & 1 \\\\\n",
    "1 & 3\n",
    "\\end{bmatrix}$ positive definite?"
   ]
  },
  {
   "cell_type": "markdown",
   "metadata": {},
   "source": [
    "**Question 3**\n",
    "\n",
    "Show that the matrix: $\\begin{bmatrix}\n",
    "1 & 1 \\\\\n",
    "1 & 1\n",
    "\\end{bmatrix}$ is not positive definite."
   ]
  },
  {
   "cell_type": "code",
   "execution_count": 1,
   "metadata": {},
   "outputs": [
    {
     "data": {
      "text/plain": [
       "array([[0.]])"
      ]
     },
     "execution_count": 1,
     "metadata": {},
     "output_type": "execute_result"
    }
   ],
   "source": [
    "import numpy as np\n",
    "A = np.array([\n",
    "    [1, 3],\n",
    "    [0, 2]\n",
    "], dtype=float)\n",
    "np.linalg.eig(A)\n",
    "\n",
    "x = np.array([[2], [-1]], dtype=float)\n",
    "x.T.dot(A).dot(x)"
   ]
  },
  {
   "cell_type": "code",
   "execution_count": 2,
   "metadata": {},
   "outputs": [
    {
     "data": {
      "text/latex": [
       "$\\displaystyle \\left[\\begin{matrix}x_{0}\\\\x_{1}\\end{matrix}\\right]$"
      ],
      "text/plain": [
       "⎡x₀⎤\n",
       "⎢  ⎥\n",
       "⎣x₁⎦"
      ]
     },
     "execution_count": 2,
     "metadata": {},
     "output_type": "execute_result"
    }
   ],
   "source": [
    "import sympy\n",
    "sympy.init_printing()\n",
    "x = sympy.Matrix(sympy.symbols('x_0:2'))\n",
    "x"
   ]
  },
  {
   "cell_type": "code",
   "execution_count": 3,
   "metadata": {},
   "outputs": [
    {
     "data": {
      "text/latex": [
       "$\\displaystyle \\left[\\begin{matrix}A_{0} & A_{1}\\\\A_{2} & A_{3}\\end{matrix}\\right]$"
      ],
      "text/plain": [
       "⎡A₀  A₁⎤\n",
       "⎢      ⎥\n",
       "⎣A₂  A₃⎦"
      ]
     },
     "execution_count": 3,
     "metadata": {},
     "output_type": "execute_result"
    }
   ],
   "source": [
    "A = sympy.Matrix(sympy.symbols('A_0:4')).reshape(2, 2)\n",
    "A"
   ]
  },
  {
   "cell_type": "code",
   "execution_count": 4,
   "metadata": {},
   "outputs": [
    {
     "data": {
      "image/png": "[encoded data removed]",
      "text/latex": [
       "$\\displaystyle A_{0} x_{0}^{2} + A_{3} x_{1}^{2} + x_{0} x_{1} \\left(A_{1} + A_{2}\\right)$"
      ],
      "text/plain": [
       "     2        2                  \n",
       "A₀⋅x₀  + A₃⋅x₁  + x₀⋅x₁⋅(A₁ + A₂)"
      ]
     },
     "execution_count": 4,
     "metadata": {},
     "output_type": "execute_result"
    }
   ],
   "source": [
    "(x.T*A*x)[0].expand().collect(x[0]*x[1])"
   ]
  },
  {
   "cell_type": "code",
   "execution_count": 6,
   "metadata": {
    "scrolled": true
   },
   "outputs": [
    {
     "data": {
      "text/latex": [
       "$\\displaystyle \\left( \\left[\\begin{matrix}1 & 0\\\\0 & 2\\end{matrix}\\right], \\  \\left[\\begin{matrix}3 & 0\\\\0 & 4\\end{matrix}\\right], \\  \\left[\\begin{matrix}11 & -5\\\\-5 & 5\\end{matrix}\\right]\\right)$"
      ],
      "text/plain": [
       "⎛⎡1  0⎤  ⎡3  0⎤  ⎡11  -5⎤⎞\n",
       "⎜⎢    ⎥, ⎢    ⎥, ⎢      ⎥⎟\n",
       "⎝⎣0  2⎦  ⎣0  4⎦  ⎣-5  5 ⎦⎠"
      ]
     },
     "execution_count": 6,
     "metadata": {},
     "output_type": "execute_result"
    }
   ],
   "source": [
    "m1 = 1\n",
    "m2 = 2\n",
    "c1 = 3\n",
    "c2 = 4\n",
    "k1 = 6\n",
    "k2 = 5\n",
    "k3 = 7\n",
    "\n",
    "M = sympy.Matrix([\n",
    "    [m1, 0],\n",
    "    [0, m2]\n",
    "])\n",
    "MI = M.inv()\n",
    "\n",
    "Phi = sympy.Matrix([\n",
    "    [c1, 0],\n",
    "    [0, c2]\n",
    "])\n",
    "\n",
    "K = sympy.Matrix([\n",
    "    [k1 + k2, -k2],\n",
    "    [-k2, k2]\n",
    "])\n",
    "M, Phi, K"
   ]
  },
  {
   "cell_type": "code",
   "execution_count": 23,
   "metadata": {},
   "outputs": [
    {
     "data": {
      "image/png": "[encoded data removed]",
      "text/latex": [
       "$\\displaystyle s^{4} + 5 s^{3} + \\frac{39 s^{2}}{2} + \\frac{59 s}{2} + 15$"
      ],
      "text/plain": [
       "                2            \n",
       " 4      3   39⋅s    59⋅s     \n",
       "s  + 5⋅s  + ───── + ──── + 15\n",
       "              2      2       "
      ]
     },
     "execution_count": 23,
     "metadata": {},
     "output_type": "execute_result"
    }
   ],
   "source": [
    "Z = sympy.zeros(2, 2)\n",
    "I = sympy.eye(2)\n",
    "A = sympy.Matrix.vstack(\n",
    "    sympy.Matrix.hstack(Z, I),\n",
    "    sympy.Matrix.hstack(-MI*K, -MI*Phi)\n",
    ")\n",
    "b = sympy.Matrix([[0], [1]])\n",
    "B = sympy.Matrix.vstack(sympy.Matrix([[0], [1]]), MI@b)\n",
    "C = sympy.Matrix.hstack(I, Z)  # output is y = [x1, x2]\n",
    "D = sympy.Matrix([[0], [0]])\n",
    "s = sympy.symbols('s')\n",
    "\n",
    "# G = C(sI-A)^{-1}B + D\n",
    "(s*sympy.eye(4) - A).det()  # roots must have negative real part to be stable"
   ]
  },
  {
   "cell_type": "code",
   "execution_count": 24,
   "metadata": {},
   "outputs": [
    {
     "data": {
      "text/latex": [
       "$\\displaystyle \\left[\\begin{matrix}\\frac{10 s + 20}{2 s^{4} + 10 s^{3} + 39 s^{2} + 59 s + 30} + \\frac{5}{2 s^{4} + 10 s^{3} + 39 s^{2} + 59 s + 30}\\\\\\frac{2 s^{2} + 6 s + 22}{2 \\cdot \\left(2 s^{4} + 10 s^{3} + 39 s^{2} + 59 s + 30\\right)} + \\frac{2 s^{3} + 10 s^{2} + 34 s + 44}{2 s^{4} + 10 s^{3} + 39 s^{2} + 59 s + 30}\\end{matrix}\\right]$"
      ],
      "text/plain": [
       "⎡             10⋅s + 20                              5                  ⎤\n",
       "⎢  ──────────────────────────────── + ────────────────────────────────  ⎥\n",
       "⎢     4       3       2                  4       3       2              ⎥\n",
       "⎢  2⋅s  + 10⋅s  + 39⋅s  + 59⋅s + 30   2⋅s  + 10⋅s  + 39⋅s  + 59⋅s + 30  ⎥\n",
       "⎢                                                                       ⎥\n",
       "⎢             2                                3       2                ⎥\n",
       "⎢          2⋅s  + 6⋅s + 22                  2⋅s  + 10⋅s  + 34⋅s + 44    ⎥\n",
       "⎢──────────────────────────────────── + ────────────────────────────────⎥\n",
       "⎢  ⎛   4       3       2            ⎞      4       3       2            ⎥\n",
       "⎣2⋅⎝2⋅s  + 10⋅s  + 39⋅s  + 59⋅s + 30⎠   2⋅s  + 10⋅s  + 39⋅s  + 59⋅s + 30⎦"
      ]
     },
     "execution_count": 24,
     "metadata": {},
     "output_type": "execute_result"
    }
   ],
   "source": [
    "G = C@(s*sympy.eye(4) - A).inv()@B + D\n",
    "G"
   ]
  },
  {
   "cell_type": "code",
   "execution_count": 25,
   "metadata": {},
   "outputs": [
    {
     "data": {
      "text/latex": [
       "\\[\n",
       "\\left(\\begin{array}{rllrllrllrll|rll}\n",
       "0\\phantom{.}&\\hspace{-1em}&\\hspace{-1em}\\phantom{\\cdot}&0\\phantom{.}&\\hspace{-1em}&\\hspace{-1em}\\phantom{\\cdot}&1\\phantom{.}&\\hspace{-1em}&\\hspace{-1em}\\phantom{\\cdot}&0\\phantom{.}&\\hspace{-1em}&\\hspace{-1em}\\phantom{\\cdot}&0\\phantom{.}&\\hspace{-1em}&\\hspace{-1em}\\phantom{\\cdot}\\\\\n",
       "0\\phantom{.}&\\hspace{-1em}&\\hspace{-1em}\\phantom{\\cdot}&0\\phantom{.}&\\hspace{-1em}&\\hspace{-1em}\\phantom{\\cdot}&0\\phantom{.}&\\hspace{-1em}&\\hspace{-1em}\\phantom{\\cdot}&1\\phantom{.}&\\hspace{-1em}&\\hspace{-1em}\\phantom{\\cdot}&1\\phantom{.}&\\hspace{-1em}&\\hspace{-1em}\\phantom{\\cdot}\\\\\n",
       "-11\\phantom{.}&\\hspace{-1em}&\\hspace{-1em}\\phantom{\\cdot}&5\\phantom{.}&\\hspace{-1em}&\\hspace{-1em}\\phantom{\\cdot}&-3\\phantom{.}&\\hspace{-1em}&\\hspace{-1em}\\phantom{\\cdot}&0\\phantom{.}&\\hspace{-1em}&\\hspace{-1em}\\phantom{\\cdot}&0\\phantom{.}&\\hspace{-1em}&\\hspace{-1em}\\phantom{\\cdot}\\\\\n",
       "2.&\\hspace{-1em}5&\\hspace{-1em}\\phantom{\\cdot}&-2.&\\hspace{-1em}5&\\hspace{-1em}\\phantom{\\cdot}&0\\phantom{.}&\\hspace{-1em}&\\hspace{-1em}\\phantom{\\cdot}&-2\\phantom{.}&\\hspace{-1em}&\\hspace{-1em}\\phantom{\\cdot}&0.&\\hspace{-1em}5&\\hspace{-1em}\\phantom{\\cdot}\\\\\n",
       "\\hline\n",
       "1\\phantom{.}&\\hspace{-1em}&\\hspace{-1em}\\phantom{\\cdot}&0\\phantom{.}&\\hspace{-1em}&\\hspace{-1em}\\phantom{\\cdot}&0\\phantom{.}&\\hspace{-1em}&\\hspace{-1em}\\phantom{\\cdot}&0\\phantom{.}&\\hspace{-1em}&\\hspace{-1em}\\phantom{\\cdot}&0\\phantom{.}&\\hspace{-1em}&\\hspace{-1em}\\phantom{\\cdot}\\\\\n",
       "0\\phantom{.}&\\hspace{-1em}&\\hspace{-1em}\\phantom{\\cdot}&1\\phantom{.}&\\hspace{-1em}&\\hspace{-1em}\\phantom{\\cdot}&0\\phantom{.}&\\hspace{-1em}&\\hspace{-1em}\\phantom{\\cdot}&0\\phantom{.}&\\hspace{-1em}&\\hspace{-1em}\\phantom{\\cdot}&0\\phantom{.}&\\hspace{-1em}&\\hspace{-1em}\\phantom{\\cdot}\\\\\n",
       "\\end{array}\\right)\n",
       "\\]"
      ],
      "text/plain": [
       "<LinearIOSystem:sys[2]:['u[0]']->['y[0]', 'y[1]']>"
      ]
     },
     "execution_count": 25,
     "metadata": {},
     "output_type": "execute_result"
    }
   ],
   "source": [
    "import control\n",
    "sys = control.ss(A, B, C, D)\n",
    "sys"
   ]
  },
  {
   "cell_type": "code",
   "execution_count": 26,
   "metadata": {},
   "outputs": [
    {
     "data": {
      "text/latex": [
       "$$\\begin{bmatrix}\\frac{2.54 \\times 10^{-17} s^2 + 5 s + 12.5}{s^4 + 5 s^3 + 19.5 s^2 + 29.5 s + 15}&\\\\\\frac{s^3 + 5.5 s^2 + 18.5 s + 27.5}{s^4 + 5 s^3 + 19.5 s^2 + 29.5 s + 15}&\\\\ \\end{bmatrix}$$"
      ],
      "text/plain": [
       "TransferFunction([[array([2.54026633e-17, 5.00000000e+00, 1.25000000e+01])], [array([ 1. ,  5.5, 18.5, 27.5])]], [[array([ 1. ,  5. , 19.5, 29.5, 15. ])], [array([ 1. ,  5. , 19.5, 29.5, 15. ])]])"
      ]
     },
     "execution_count": 26,
     "metadata": {},
     "output_type": "execute_result"
    }
   ],
   "source": [
    "G = control.ss2tf(sys)\n",
    "G"
   ]
  },
  {
   "cell_type": "markdown",
   "metadata": {},
   "source": [
    "U = 1/s\n",
    "\n",
    "Y = GU\n",
    "\n",
    "$y(\\infty) = \\lim_{s \\rightarrow 0} s Y(s)$ "
   ]
  },
  {
   "cell_type": "code",
   "execution_count": 27,
   "metadata": {},
   "outputs": [
    {
     "data": {
      "text/latex": [
       "$$\\begin{bmatrix}\\frac{2.54 \\times 10^{-17} s^2 + 5 s + 12.5}{s^4 + 5 s^3 + 19.5 s^2 + 29.5 s + 15}&\\\\\\frac{s^3 + 5.5 s^2 + 18.5 s + 27.5}{s^4 + 5 s^3 + 19.5 s^2 + 29.5 s + 15}&\\\\ \\end{bmatrix}$$"
      ],
      "text/plain": [
       "TransferFunction([[array([2.54026633e-17, 5.00000000e+00, 1.25000000e+01])], [array([ 1. ,  5.5, 18.5, 27.5])]], [[array([ 1. ,  5. , 19.5, 29.5, 15. ])], [array([ 1. ,  5. , 19.5, 29.5, 15. ])]])"
      ]
     },
     "execution_count": 27,
     "metadata": {},
     "output_type": "execute_result"
    }
   ],
   "source": [
    "G"
   ]
  },
  {
   "cell_type": "code",
   "execution_count": 29,
   "metadata": {},
   "outputs": [
    {
     "data": {
      "text/latex": [
       "$$\\frac{2.54 \\times 10^{-17} s^2 + 5 s + 12.5}{s^4 + 5 s^3 + 19.5 s^2 + 29.5 s + 15}$$"
      ],
      "text/plain": [
       "TransferFunction(array([2.54026633e-17, 5.00000000e+00, 1.25000000e+01]), array([ 1. ,  5. , 19.5, 29.5, 15. ]))"
      ]
     },
     "execution_count": 29,
     "metadata": {},
     "output_type": "execute_result"
    }
   ],
   "source": [
    "G[0, 0]"
   ]
  },
  {
   "cell_type": "code",
   "execution_count": 47,
   "metadata": {},
   "outputs": [
    {
     "data": {
      "image/png": "[encoded data removed]",
      "text/latex": [
       "$\\displaystyle 1.83333333333334$"
      ],
      "text/plain": [
       "1.8333333333333375"
      ]
     },
     "execution_count": 47,
     "metadata": {},
     "output_type": "execute_result"
    }
   ],
   "source": [
    "np.real(G[1, 0](0))"
   ]
  },
  {
   "cell_type": "code",
   "execution_count": 48,
   "metadata": {},
   "outputs": [
    {
     "data": {
      "image/png": "[encoded data removed]",
      "text/plain": [
       "<Figure size 640x480 with 1 Axes>"
      ]
     },
     "metadata": {},
     "output_type": "display_data"
    }
   ],
   "source": [
    "import matplotlib.pyplot as plt\n",
    "t, y = control.step_response(G[1, 0], T=np.linspace(0, 20, 1000))  # x1 due to u\n",
    "plt.plot(t, y)\n",
    "plt.hlines(np.real(G[1, 0](0)), 0, 20, linestyle='--')\n",
    "#plt.hlines(6/53.5, t[0], t[-1])\n",
    "plt.grid()"
   ]
  },
  {
   "cell_type": "code",
   "execution_count": 51,
   "metadata": {},
   "outputs": [
    {
     "data": {
      "text/plain": [
       "array([[0.83333333],\n",
       "       [1.83333333]])"
      ]
     },
     "execution_count": 51,
     "metadata": {},
     "output_type": "execute_result"
    }
   ],
   "source": [
    "u0 = 1\n",
    "yinf = np.real(G(0)*u0)\n",
    "yinf"
   ]
  },
  {
   "cell_type": "code",
   "execution_count": null,
   "metadata": {},
   "outputs": [],
   "source": []
  }
 ],
 "metadata": {
  "kernelspec": {
   "display_name": "Python 3 (ipykernel)",
   "language": "python",
   "name": "python3"
  },
  "language_info": {
   "codemirror_mode": {
    "name": "ipython",
    "version": 3
   },
   "file_extension": ".py",
   "mimetype": "text/x-python",
   "name": "python",
   "nbconvert_exporter": "python",
   "pygments_lexer": "ipython3",
   "version": "3.9.13"
  }
 },
 "nbformat": 4,
 "nbformat_minor": 4
}
