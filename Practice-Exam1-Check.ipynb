{
 "cells": [
  {
   "cell_type": "code",
   "execution_count": 1,
   "id": "404b32d2-4141-4c27-a9ef-fb4edee22c45",
   "metadata": {},
   "outputs": [],
   "source": [
    "import sympy"
   ]
  },
  {
   "cell_type": "markdown",
   "id": "8d843733-7063-4b01-8657-82786eca6743",
   "metadata": {},
   "source": [
    "# Problem 2"
   ]
  },
  {
   "cell_type": "code",
   "execution_count": 2,
   "id": "fb70e52d-e361-49e9-8360-3c70f0fd3f8a",
   "metadata": {},
   "outputs": [
    {
     "data": {
      "text/latex": [
       "$\\displaystyle \\frac{a^{2}}{2}$"
      ],
      "text/plain": [
       "a**2/2"
      ]
     },
     "execution_count": 2,
     "metadata": {},
     "output_type": "execute_result"
    }
   ],
   "source": [
    "t, a, b, phi = sympy.symbols('t, a, b, phi', real=True)\n",
    "psi_0 = a*sympy.cos(2*sympy.pi*t)\n",
    "psi_1 = b*sympy.cos(2*sympy.pi*t + phi)\n",
    "tau = 1\n",
    "norm_psi_0_sq = sympy.Rational(1,tau)*sympy.integrate(\n",
    "    psi_0*sympy.conjugate(psi_0), (t, 0, tau))\n",
    "norm_psi_0_sq"
   ]
  },
  {
   "cell_type": "code",
   "execution_count": 3,
   "id": "2d25fb11-4cef-4134-b3dd-014962688924",
   "metadata": {},
   "outputs": [
    {
     "data": {
      "text/latex": [
       "$\\displaystyle \\frac{a b \\cos{\\left(\\phi \\right)}}{2}$"
      ],
      "text/plain": [
       "a*b*cos(phi)/2"
      ]
     },
     "execution_count": 3,
     "metadata": {},
     "output_type": "execute_result"
    }
   ],
   "source": [
    "sympy.Rational(1,tau)*sympy.integrate(\n",
    "    psi_0*sympy.conjugate(psi_1), (t, 0, tau)).simplify()"
   ]
  },
  {
   "cell_type": "code",
   "execution_count": 4,
   "id": "7f0d5e43-dfc3-4d8a-8a39-be6f34b438b5",
   "metadata": {},
   "outputs": [
    {
     "data": {
      "text/latex": [
       "$\\displaystyle \\frac{b^{2}}{2}$"
      ],
      "text/plain": [
       "b**2/2"
      ]
     },
     "execution_count": 4,
     "metadata": {},
     "output_type": "execute_result"
    }
   ],
   "source": [
    "norm_psi_1_sq = sympy.Rational(1,tau)*sympy.integrate(\n",
    "    psi_1*sympy.conjugate(psi_1), (t, 0, tau))\n",
    "norm_psi_1_sq.simplify()\n",
    "norm_psi_1_sq.subs(phi, 0)"
   ]
  },
  {
   "cell_type": "markdown",
   "id": "67082910-d4fd-4139-af2a-68ad6e303f0b",
   "metadata": {},
   "source": [
    "# Problem 3"
   ]
  },
  {
   "cell_type": "code",
   "execution_count": 5,
   "id": "5e574e27-8148-4644-aa88-de6f1210b1e4",
   "metadata": {},
   "outputs": [
    {
     "data": {
      "image/png": "[encoded data removed]",
      "text/plain": [
       "<Figure size 640x480 with 1 Axes>"
      ]
     },
     "metadata": {},
     "output_type": "display_data"
    },
    {
     "data": {
      "text/plain": [
       "<sympy.plotting.plot.Plot at 0x7f1cffb963a0>"
      ]
     },
     "execution_count": 5,
     "metadata": {},
     "output_type": "execute_result"
    }
   ],
   "source": [
    "t = sympy.symbols('t')\n",
    "f = sympy.sin(t/2)\n",
    "sympy.plot(f, (t, 0, 2*sympy.pi))"
   ]
  },
  {
   "cell_type": "code",
   "execution_count": 6,
   "id": "a1cdbd76-e5ed-43b4-ae07-404e5ec01596",
   "metadata": {},
   "outputs": [
    {
     "data": {
      "text/latex": [
       "$\\displaystyle \\frac{\\int\\limits_{0}^{2 \\pi} e^{i k \\overline{t}} \\sin{\\left(\\frac{t}{2} \\right)}\\, dt}{2 \\pi}$"
      ],
      "text/plain": [
       "Integral(exp(I*k*conjugate(t))*sin(t/2), (t, 0, 2*pi))/(2*pi)"
      ]
     },
     "execution_count": 6,
     "metadata": {},
     "output_type": "execute_result"
    }
   ],
   "source": [
    "tau = 2*sympy.pi\n",
    "w0 = 2*sympy.pi/tau\n",
    "k = sympy.symbols('k', integer=True)\n",
    "psi_k = sympy.exp(-sympy.I*k*w0*t)\n",
    "\n",
    "ak = (1/tau)*sympy.Integral(\n",
    "    f*sympy.conjugate(psi_k), (t, 0, tau))\n",
    "\n",
    "ak"
   ]
  },
  {
   "cell_type": "code",
   "execution_count": 7,
   "id": "c45a7354-a21c-40b2-9c2e-c7ade92dabcb",
   "metadata": {},
   "outputs": [
    {
     "data": {
      "text/latex": [
       "$\\displaystyle - \\frac{2}{\\pi \\left(4 k^{2} - 1\\right)}$"
      ],
      "text/plain": [
       "-2/(pi*(4*k**2 - 1))"
      ]
     },
     "execution_count": 7,
     "metadata": {},
     "output_type": "execute_result"
    }
   ],
   "source": [
    "ak = ak.doit().simplify()\n",
    "ak"
   ]
  },
  {
   "cell_type": "code",
   "execution_count": 8,
   "id": "4ed70c47-1e75-4d0e-a55b-57d35bd33e46",
   "metadata": {},
   "outputs": [
    {
     "data": {
      "text/latex": [
       "$\\displaystyle \\frac{4}{\\pi^{2}}$"
      ],
      "text/plain": [
       "4/pi**2"
      ]
     },
     "execution_count": 8,
     "metadata": {},
     "output_type": "execute_result"
    }
   ],
   "source": [
    "ak.subs(k, 0)**2"
   ]
  },
  {
   "cell_type": "code",
   "execution_count": 9,
   "id": "fd6dd3e0-af6a-43a6-b284-4ee810beb6d5",
   "metadata": {},
   "outputs": [
    {
     "data": {
      "text/latex": [
       "$\\displaystyle \\frac{4}{9 \\pi^{2}}$"
      ],
      "text/plain": [
       "4/(9*pi**2)"
      ]
     },
     "execution_count": 9,
     "metadata": {},
     "output_type": "execute_result"
    }
   ],
   "source": [
    "ak.subs(k, 1)**2"
   ]
  },
  {
   "cell_type": "code",
   "execution_count": 10,
   "id": "ebdf6a6e-0c87-4d48-893c-25b0301e4e65",
   "metadata": {},
   "outputs": [
    {
     "data": {
      "text/latex": [
       "$\\displaystyle \\frac{4}{225 \\pi^{2}}$"
      ],
      "text/plain": [
       "4/(225*pi**2)"
      ]
     },
     "execution_count": 10,
     "metadata": {},
     "output_type": "execute_result"
    }
   ],
   "source": [
    "ak.subs(k, 2)**2"
   ]
  },
  {
   "cell_type": "markdown",
   "id": "149f6b6e-ab72-4866-8803-742fd66d478d",
   "metadata": {},
   "source": [
    "# Problem 4"
   ]
  },
  {
   "cell_type": "code",
   "execution_count": 11,
   "id": "ff328dc3-2adf-4916-a94e-978753a1da4d",
   "metadata": {},
   "outputs": [
    {
     "data": {
      "text/latex": [
       "$\\displaystyle \\begin{cases} \\frac{2 \\left(-1\\right)^{k}}{\\pi^{2} k^{2}} - \\frac{2}{\\pi^{2} k^{2}} & \\text{for}\\: k \\neq 0 \\\\1 & \\text{otherwise} \\end{cases}$"
      ],
      "text/plain": [
       "Piecewise((2*(-1)**k/(pi**2*k**2) - 2/(pi**2*k**2), Ne(k, 0)), (1, True))"
      ]
     },
     "execution_count": 11,
     "metadata": {},
     "output_type": "execute_result"
    }
   ],
   "source": [
    "f = sympy.Piecewise(\n",
    "    (t, t<1),\n",
    "    (2-t, True))\n",
    "tau = 2\n",
    "w0 = 2*sympy.pi/tau\n",
    "k = sympy.symbols('k', integer=True)\n",
    "psi_k = sympy.exp(-sympy.I*k*w0*t)\n",
    "\n",
    "alpha_k = sympy.Rational(2,tau)*sympy.integrate(\n",
    "    f*sympy.cos(k*w0*t), (t, 0, tau))\n",
    "alpha_k"
   ]
  },
  {
   "cell_type": "code",
   "execution_count": 12,
   "id": "148e02ed-545b-4212-a1de-b7cbe45668e5",
   "metadata": {},
   "outputs": [
    {
     "data": {
      "text/latex": [
       "$\\displaystyle \\frac{1}{2}$"
      ],
      "text/plain": [
       "1/2"
      ]
     },
     "execution_count": 12,
     "metadata": {},
     "output_type": "execute_result"
    }
   ],
   "source": [
    "a0 = sympy.Rational(1, tau)*sympy.integrate(\n",
    "    f, (t, 0, tau))\n",
    "a0"
   ]
  },
  {
   "cell_type": "code",
   "execution_count": 13,
   "id": "162fca67-89b6-4a2b-8a79-695d64286e62",
   "metadata": {},
   "outputs": [
    {
     "data": {
      "text/latex": [
       "$\\displaystyle \\frac{1}{3}$"
      ],
      "text/plain": [
       "1/3"
      ]
     },
     "execution_count": 13,
     "metadata": {},
     "output_type": "execute_result"
    }
   ],
   "source": [
    "f_norm_sq = sympy.Rational(1, tau)*sympy.integrate(\n",
    "    sympy.Abs(f)**2, (t, 0, tau))\n",
    "f_norm_sq"
   ]
  },
  {
   "cell_type": "code",
   "execution_count": 14,
   "id": "9b7d2685-c27b-4e31-b973-1d2ac7b924c2",
   "metadata": {},
   "outputs": [
    {
     "data": {
      "text/latex": [
       "$\\displaystyle - \\frac{4}{\\pi^{2}}$"
      ],
      "text/plain": [
       "-4/pi**2"
      ]
     },
     "execution_count": 14,
     "metadata": {},
     "output_type": "execute_result"
    }
   ],
   "source": [
    "alpha_1 = alpha_k.subs(k, 1)\n",
    "alpha_1"
   ]
  },
  {
   "cell_type": "code",
   "execution_count": 15,
   "id": "83ea69f1-0bf4-4d29-8215-c3361dc4a7c6",
   "metadata": {},
   "outputs": [
    {
     "data": {
      "text/latex": [
       "$\\displaystyle \\frac{8}{\\pi^{4}} + \\frac{1}{4}$"
      ],
      "text/plain": [
       "8/pi**4 + 1/4"
      ]
     },
     "execution_count": 15,
     "metadata": {},
     "output_type": "execute_result"
    }
   ],
   "source": [
    "p2_norm_sq = sympy.Abs(a0)**2 + sympy.Rational(1, 2)*(\n",
    "    sympy.Abs(alpha_1)**2)\n",
    "p2_norm_sq"
   ]
  },
  {
   "cell_type": "code",
   "execution_count": 16,
   "id": "18cb309b-90b2-48ac-ad0a-7bb2feb7a116",
   "metadata": {},
   "outputs": [
    {
     "data": {
      "text/latex": [
       "$\\displaystyle \\frac{1}{12} - \\frac{8}{\\pi^{4}}$"
      ],
      "text/plain": [
       "1/12 - 8/pi**4"
      ]
     },
     "execution_count": 16,
     "metadata": {},
     "output_type": "execute_result"
    }
   ],
   "source": [
    "eror_norm_sq = f_norm_sq - p2_norm_sq\n",
    "eror_norm_sq"
   ]
  }
 ],
 "metadata": {
  "kernelspec": {
   "display_name": "Python 3 (ipykernel)",
   "language": "python",
   "name": "python3"
  },
  "language_info": {
   "codemirror_mode": {
    "name": "ipython",
    "version": 3
   },
   "file_extension": ".py",
   "mimetype": "text/x-python",
   "name": "python",
   "nbconvert_exporter": "python",
   "pygments_lexer": "ipython3",
   "version": "3.9.13"
  }
 },
 "nbformat": 4,
 "nbformat_minor": 5
}
