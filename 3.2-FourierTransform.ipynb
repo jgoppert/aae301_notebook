{
 "cells": [
  {
   "cell_type": "markdown",
   "metadata": {},
   "source": [
    "This notebook presents the relationship between the Fourier Series and Fourier Transform."
   ]
  },
  {
   "cell_type": "code",
   "execution_count": 1,
   "metadata": {},
   "outputs": [],
   "source": [
    "import sympy\n",
    "sympy.init_printing()\n",
    "t = sympy.symbols('t', real=True)\n",
    "k = sympy.symbols('k', integer=True, real=True)"
   ]
  },
  {
   "cell_type": "markdown",
   "metadata": {},
   "source": [
    "The Fourier Series is given by:\n",
    "    \n",
    "$a_k = \\frac{1}{\\tau} \\int_0^\\tau f(t) e^{ik2\\pi t/\\tau} dt$\n",
    "\n",
    "$p(t) = \\sum\\limits_{k=-\\infty}^{\\infty} a_k e^{-ik2\\pi t/\\tau}$\n",
    "\n",
    "If we substitute $a_k$ in the the summation, and then take the limit at $\\tau \\rightarrow \\infty$:\n",
    "\n",
    "$p(t) = \\sum\\limits_{k=-\\infty}^{\\infty} \\left[\n",
    "    \\frac{1}{\\tau} \\int_0^\\tau f(t) e^{ik2\\pi t/\\tau} dt\\right]  e^{-ik2\\pi t/\\tau}$\n",
    "\n",
    "$p(t) = \\sum\\limits_{k=-\\infty}^{\\infty} \\left[\n",
    "    \\frac{1}{\\tau} \\int_0^\\tau f(t) e^{ik2\\pi t/\\tau} dt\\right]  e^{-ik2\\pi t/\\tau}$\n",
    "\n",
    "$p(t) = \\lim\\limits_{\\tau \\rightarrow \\infty} \\left[ \\sum\\limits_{k=-\\infty}^{\\infty} \\left[\n",
    "    \\frac{1}{\\tau} \\int_0^\\tau f(t) e^{ik2\\pi t/\\tau} dt\\right]  e^{-ik2\\pi t/\\tau} \\right]$\n",
    "    \n",
    "$\\Delta\\omega \\equiv 2\\pi/\\tau$"
   ]
  },
  {
   "cell_type": "markdown",
   "metadata": {},
   "source": [
    "$p(t) = \\sum\\limits_{k=-\\infty}^{\\infty} \\Delta \\omega \\left[\\frac{1}{2\\pi}   \\int_0^{\\infty} f(t) e^{i k\\Delta \\omega t} dt \\right] e^{-ik\\Delta \\omega t}$\n",
    "\n",
    "This summation becomes the definition of an integral over $\\omega$ where:\n",
    "\n",
    "$k \\Delta\\omega \\rightarrow \\omega$\n",
    "\n",
    "\n",
    "$\\Delta \\omega \\rightarrow d\\omega$\n",
    "\n",
    "This is the Fourier transform:\n",
    "\n",
    "$X(\\omega) \\equiv \\frac{1}{2\\pi}   \\int_0^{\\infty} f(t) e^{i\\omega t} dt$\n",
    "\n",
    "This is the inverse Fourier transform:\n",
    "\n",
    "$p(t) = \\int_{-\\infty}^{\\infty}  X(\\omega)  e^{-i \\omega t} d\\omega$"
   ]
  },
  {
   "cell_type": "code",
   "execution_count": 2,
   "metadata": {},
   "outputs": [
    {
     "data": {
      "image/png": "[encoded data removed]",
      "text/latex": [
       "$\\displaystyle \\left( - \\frac{i k \\left(1 - e^{6 \\pi}\\right)}{2 \\pi \\left(k^{2} + 9\\right) e^{6 \\pi}} - \\frac{3 - 3 e^{6 \\pi}}{2 \\pi \\left(k^{2} + 9\\right) e^{6 \\pi}}, \\  \\frac{- 2 e^{6 \\pi} + 1 + e^{12 \\pi}}{4 \\pi^{2} \\left(k^{2} + 9\\right) e^{12 \\pi}}\\right)$"
      ],
      "text/plain": [
       "⎛      ⎛     6⋅π⎞  -6⋅π   ⎛       6⋅π⎞  -6⋅π  ⎛     6⋅π        12⋅π⎞  -12⋅π⎞\n",
       "⎜  ⅈ⋅k⋅⎝1 - ℯ   ⎠⋅ℯ       ⎝3 - 3⋅ℯ   ⎠⋅ℯ      ⎝- 2⋅ℯ    + 1 + ℯ    ⎠⋅ℯ     ⎟\n",
       "⎜- ──────────────────── - ──────────────────, ─────────────────────────────⎟\n",
       "⎜          ⎛ 2    ⎞              ⎛ 2    ⎞                2 ⎛ 2    ⎞        ⎟\n",
       "⎝      2⋅π⋅⎝k  + 9⎠          2⋅π⋅⎝k  + 9⎠             4⋅π ⋅⎝k  + 9⎠        ⎠"
      ]
     },
     "execution_count": 2,
     "metadata": {},
     "output_type": "execute_result"
    }
   ],
   "source": [
    "T = 2*sympy.pi\n",
    "f = sympy.exp(-3*t)*sympy.Heaviside(t)\n",
    "psik = sympy.exp(-sympy.I*k*2*sympy.pi*t/T)\n",
    "ak = (1/T)*sympy.integrate(f*sympy.conjugate(psik), (t, 0, T))\n",
    "real, imag = ak.as_real_imag()\n",
    "ak = sympy.simplify(real) + sympy.simplify(imag)*sympy.I\n",
    "p = (real**2 + imag**2).simplify()\n",
    "ak, p"
   ]
  },
  {
   "cell_type": "code",
   "execution_count": 3,
   "metadata": {},
   "outputs": [
    {
     "data": {
      "image/png": "[encoded data removed]",
      "text/latex": [
       "$\\displaystyle - \\frac{\\left(1 - e^{6 \\pi}\\right) \\left(2 i \\pi \\omega + 3\\right)}{\\left(4 \\pi^{2} \\omega^{2} + 9\\right) e^{6 \\pi}}$"
      ],
      "text/plain": [
       " ⎛     6⋅π⎞                -6⋅π \n",
       "-⎝1 - ℯ   ⎠⋅(2⋅ⅈ⋅π⋅ω + 3)⋅ℯ     \n",
       "────────────────────────────────\n",
       "             2  2               \n",
       "          4⋅π ⋅ω  + 9           "
      ]
     },
     "execution_count": 3,
     "metadata": {},
     "output_type": "execute_result"
    }
   ],
   "source": [
    "omega = sympy.symbols('omega', real=True)\n",
    "ak_omega = (T*ak.subs(k, omega*T)).simplify()\n",
    "ak_omega"
   ]
  },
  {
   "cell_type": "code",
   "execution_count": 4,
   "metadata": {},
   "outputs": [
    {
     "data": {
      "image/png": "[encoded data removed]",
      "text/latex": [
       "$\\displaystyle e^{- 3 t} \\theta\\left(t\\right)$"
      ],
      "text/plain": [
       " -3⋅t             \n",
       "ℯ    ⋅Heaviside(t)"
      ]
     },
     "execution_count": 4,
     "metadata": {},
     "output_type": "execute_result"
    }
   ],
   "source": [
    "f"
   ]
  },
  {
   "cell_type": "code",
   "execution_count": 5,
   "metadata": {},
   "outputs": [
    {
     "data": {
      "text/plain": [
       "[<matplotlib.lines.Line2D at 0x7fa84de07cc0>]"
      ]
     },
     "execution_count": 5,
     "metadata": {},
     "output_type": "execute_result"
    },
    {
     "data": {
      "image/png": "[encoded data removed]",
      "text/plain": [
       "<Figure size 432x288 with 1 Axes>"
      ]
     },
     "metadata": {
      "needs_background": "light"
     },
     "output_type": "display_data"
    }
   ],
   "source": [
    "g = sympy.fourier_transform(f, t, omega)\n",
    "import numpy as np\n",
    "import matplotlib.pyplot as plt\n",
    "%matplotlib inline\n",
    "k_eval = np.arange(-3, 3, 0.1)\n",
    "k_discr_eval = np.arange(-3, 3, 1)\n",
    "\n",
    "g_eval = sympy.lambdify((omega), g)(k_eval)\n",
    "p_eval = sympy.lambdify((omega), ak_omega)(k_discr_eval)\n",
    "\n",
    "#sympy.plot(sympy.Abs(g)**2, sympy.Abs(ak_omega)**2, (omega, -2, 2))\n",
    "plt.bar(k_discr_eval, np.abs(p_eval)**2, width=0.1)\n",
    "plt.plot(k_eval, np.abs(g_eval)**2, 'k')"
   ]
  }
 ],
 "metadata": {
  "kernelspec": {
   "display_name": "Python 3",
   "language": "python",
   "name": "python3"
  },
  "language_info": {
   "codemirror_mode": {
    "name": "ipython",
    "version": 3
   },
   "file_extension": ".py",
   "mimetype": "text/x-python",
   "name": "python",
   "nbconvert_exporter": "python",
   "pygments_lexer": "ipython3",
   "version": "3.8.8"
  }
 },
 "nbformat": 4,
 "nbformat_minor": 4
}
