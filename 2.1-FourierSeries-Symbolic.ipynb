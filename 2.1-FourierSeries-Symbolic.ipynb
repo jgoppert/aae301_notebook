{
 "cells": [
  {
   "cell_type": "code",
   "execution_count": 1,
   "id": "tested-stupid",
   "metadata": {},
   "outputs": [],
   "source": [
    "from sympy import *\n",
    "import numpy as np\n",
    "\n",
    "import matplotlib.pyplot as plt\n",
    "\n",
    "def L2_inner_product(f, g, tau):\n",
    "    # you can define t here to not rely on a global definition\n",
    "    t = symbols('t', real=True)\n",
    "    return (integrate(f*conjugate(g), (t, 0, tau))/tau).simplify()\n",
    "\n",
    "def L2_norm(f, tau):\n",
    "    return sqrt(L2_inner_product(f, f, tau))\n",
    "\n",
    "def L2_coefficient(f, g, tau):\n",
    "    return (L2_inner_product(f, g, tau)/L2_norm(g, tau)**2).simplify()"
   ]
  },
  {
   "cell_type": "markdown",
   "id": "robust-poison",
   "metadata": {},
   "source": [
    "# Function to Approximate"
   ]
  },
  {
   "cell_type": "code",
   "execution_count": 2,
   "id": "middle-launch",
   "metadata": {},
   "outputs": [
    {
     "data": {
      "image/png": "[encoded data removed]",
      "text/plain": [
       "<Figure size 432x288 with 1 Axes>"
      ]
     },
     "metadata": {
      "needs_background": "light"
     },
     "output_type": "display_data"
    },
    {
     "data": {
      "text/plain": [
       "<sympy.plotting.plot.Plot at 0x7f4940328b50>"
      ]
     },
     "execution_count": 2,
     "metadata": {},
     "output_type": "execute_result"
    }
   ],
   "source": [
    "t = symbols('t', real=True)\n",
    "f = Piecewise(\n",
    "    (t/pi, t < pi),   # t is zero before time pi\n",
    "    (1, t < 2*pi),      # otherwise, t is 1\n",
    ")\n",
    "plot(f, (t, 0, 2*pi))"
   ]
  },
  {
   "cell_type": "markdown",
   "id": "accepted-priority",
   "metadata": {},
   "source": [
    "# Fourier Series using $\\{e^{-ikt}\\}$, $k=[-\\infty, \\dots, \\infty]$ as Basis"
   ]
  },
  {
   "cell_type": "code",
   "execution_count": 3,
   "id": "reflected-fever",
   "metadata": {},
   "outputs": [
    {
     "data": {
      "text/latex": [
       "$\\displaystyle \\begin{cases} \\frac{\\left(-1\\right)^{k} - i \\pi k - 1}{2 \\pi^{2} k^{2}} & \\text{for}\\: k \\neq 0 \\\\\\frac{3}{4} & \\text{otherwise} \\end{cases}$"
      ],
      "text/plain": [
       "Piecewise((((-1)**k - I*pi*k - 1)/(2*pi**2*k**2), Ne(k, 0)), (3/4, True))"
      ]
     },
     "execution_count": 3,
     "metadata": {},
     "output_type": "execute_result"
    }
   ],
   "source": [
    "k = symbols('k', real=True, integer=True)\n",
    "tau = 2*pi\n",
    "w0 = 2*pi/tau\n",
    "psi_k = exp(-I*k*w0*t)\n",
    "\n",
    "ak = L2_coefficient(f, psi_k, tau)\n",
    "\n",
    "ak"
   ]
  },
  {
   "cell_type": "code",
   "execution_count": 4,
   "id": "alternative-narrow",
   "metadata": {},
   "outputs": [
    {
     "data": {
      "text/latex": [
       "$\\displaystyle \\begin{cases} \\frac{i \\pi k - 1 + \\left(-1\\right)^{- k}}{2 \\pi^{2} k^{2}} & \\text{for}\\: k \\neq 0 \\\\\\frac{3}{4} & \\text{otherwise} \\end{cases}$"
      ],
      "text/plain": [
       "Piecewise(((I*pi*k - 1 + (-1)**(-k))/(2*pi**2*k**2), Ne(k, 0)), (3/4, True))"
      ]
     },
     "execution_count": 4,
     "metadata": {},
     "output_type": "execute_result"
    }
   ],
   "source": [
    "ak.subs(k, -k)"
   ]
  },
  {
   "cell_type": "code",
   "execution_count": 5,
   "id": "rental-comparison",
   "metadata": {},
   "outputs": [
    {
     "data": {
      "text/latex": [
       "$\\displaystyle \\begin{cases} \\frac{\\left(-1\\right)^{k} - 1}{\\pi^{2} k^{2}} & \\text{for}\\: k \\neq 0 \\\\\\frac{3}{2} & \\text{otherwise} \\end{cases}$"
      ],
      "text/plain": [
       "Piecewise((((-1)**k - 1)/(pi**2*k**2), Ne(k, 0)), (3/2, True))"
      ]
     },
     "execution_count": 5,
     "metadata": {},
     "output_type": "execute_result"
    }
   ],
   "source": [
    "alpha_k = (ak.subs(k, -k) + ak).simplify()\n",
    "alpha_k"
   ]
  },
  {
   "cell_type": "code",
   "execution_count": 6,
   "id": "personal-material",
   "metadata": {},
   "outputs": [
    {
     "data": {
      "text/latex": [
       "$\\displaystyle \\begin{cases} - \\frac{1}{\\pi k} & \\text{for}\\: k \\neq 0 \\\\0 & \\text{otherwise} \\end{cases}$"
      ],
      "text/plain": [
       "Piecewise((-1/(pi*k), Ne(k, 0)), (0, True))"
      ]
     },
     "execution_count": 6,
     "metadata": {},
     "output_type": "execute_result"
    }
   ],
   "source": [
    "beta_k =(I*(ak.subs(k, -k) - ak)).simplify()\n",
    "beta_k"
   ]
  },
  {
   "cell_type": "code",
   "execution_count": 7,
   "id": "organizational-module",
   "metadata": {},
   "outputs": [
    {
     "data": {
      "text/latex": [
       "$\\displaystyle \\frac{3}{4}$"
      ],
      "text/plain": [
       "3/4"
      ]
     },
     "execution_count": 7,
     "metadata": {},
     "output_type": "execute_result"
    }
   ],
   "source": [
    "a0 = L2_coefficient(f, 1, tau)\n",
    "a0"
   ]
  },
  {
   "cell_type": "code",
   "execution_count": 8,
   "id": "respiratory-witness",
   "metadata": {},
   "outputs": [
    {
     "data": {
      "text/latex": [
       "$\\displaystyle \\psi_{k} = e^{- i k t}$"
      ],
      "text/plain": [
       "Eq(\\psi_k, exp(-I*k*t))"
      ]
     },
     "execution_count": 8,
     "metadata": {},
     "output_type": "execute_result"
    }
   ],
   "source": [
    "# this is just a fancy way to make sympy print the left hand side of the equation \"a_k = \"\n",
    "# otherwise if will just print the right hand side\n",
    "\n",
    "Eq(symbols('\\psi_k'), psi_k)"
   ]
  },
  {
   "cell_type": "code",
   "execution_count": 9,
   "id": "ongoing-checkout",
   "metadata": {},
   "outputs": [
    {
     "data": {
      "text/latex": [
       "$\\displaystyle a_{k} = \\begin{cases} \\frac{\\left(-1\\right)^{k} - i \\pi k - 1}{2 \\pi^{2} k^{2}} & \\text{for}\\: k \\neq 0 \\\\\\frac{3}{4} & \\text{otherwise} \\end{cases}$"
      ],
      "text/plain": [
       "Eq(a_k, Piecewise((((-1)**k - I*pi*k - 1)/(2*pi**2*k**2), Ne(k, 0)), (3/4, True)))"
      ]
     },
     "execution_count": 9,
     "metadata": {},
     "output_type": "execute_result"
    }
   ],
   "source": [
    "Eq(symbols('a_k'), ak)"
   ]
  },
  {
   "cell_type": "markdown",
   "id": "attractive-specialist",
   "metadata": {},
   "source": [
    "$approx = a_0*\\psi_0 + a_1*\\psi_1 + a_{-1}*\\psi_{-1} + \\ldots$"
   ]
  },
  {
   "cell_type": "markdown",
   "id": "korean-expression",
   "metadata": {},
   "source": [
    "$\\alpha_k = a_k + a_{-k}$"
   ]
  },
  {
   "cell_type": "code",
   "execution_count": 10,
   "id": "english-brisbane",
   "metadata": {},
   "outputs": [
    {
     "data": {
      "text/latex": [
       "$\\displaystyle \\begin{cases} \\frac{\\left(-1\\right)^{k} - i \\pi k - 1}{2 \\pi^{2} k^{2}} & \\text{for}\\: k \\neq 0 \\\\\\frac{3}{4} & \\text{otherwise} \\end{cases} + \\begin{cases} \\frac{i \\pi k - 1 + \\left(-1\\right)^{- k}}{2 \\pi^{2} k^{2}} & \\text{for}\\: k \\neq 0 \\\\\\frac{3}{4} & \\text{otherwise} \\end{cases}$"
      ],
      "text/plain": [
       "Piecewise((((-1)**k - I*pi*k - 1)/(2*pi**2*k**2), Ne(k, 0)), (3/4, True)) + Piecewise(((I*pi*k - 1 + (-1)**(-k))/(2*pi**2*k**2), Ne(k, 0)), (3/4, True))"
      ]
     },
     "execution_count": 10,
     "metadata": {},
     "output_type": "execute_result"
    }
   ],
   "source": [
    "alpha_k = ak + ak.subs(k, -k)\n",
    "alpha_k"
   ]
  },
  {
   "cell_type": "markdown",
   "id": "electoral-postage",
   "metadata": {},
   "source": [
    "$\\beta_k = i(a_{-k} - a_{k})$"
   ]
  },
  {
   "cell_type": "code",
   "execution_count": 11,
   "id": "genuine-paint",
   "metadata": {},
   "outputs": [
    {
     "data": {
      "text/latex": [
       "$\\displaystyle i \\left(- \\begin{cases} \\frac{\\left(-1\\right)^{k} - i \\pi k - 1}{2 \\pi^{2} k^{2}} & \\text{for}\\: k \\neq 0 \\\\\\frac{3}{4} & \\text{otherwise} \\end{cases} + \\begin{cases} \\frac{i \\pi k - 1 + \\left(-1\\right)^{- k}}{2 \\pi^{2} k^{2}} & \\text{for}\\: k \\neq 0 \\\\\\frac{3}{4} & \\text{otherwise} \\end{cases}\\right)$"
      ],
      "text/plain": [
       "I*(-Piecewise((((-1)**k - I*pi*k - 1)/(2*pi**2*k**2), Ne(k, 0)), (3/4, True)) + Piecewise(((I*pi*k - 1 + (-1)**(-k))/(2*pi**2*k**2), Ne(k, 0)), (3/4, True)))"
      ]
     },
     "execution_count": 11,
     "metadata": {},
     "output_type": "execute_result"
    }
   ],
   "source": [
    "beta_k = I*(ak.subs(k, -k) - ak)\n",
    "beta_k"
   ]
  },
  {
   "cell_type": "markdown",
   "id": "abstract-champagne",
   "metadata": {},
   "source": [
    "# Power Spectrum"
   ]
  },
  {
   "cell_type": "code",
   "execution_count": 12,
   "id": "reverse-louisville",
   "metadata": {},
   "outputs": [
    {
     "data": {
      "text/latex": [
       "$\\displaystyle \\begin{cases} \\frac{\\left(-1\\right)^{k} - i \\pi k - 1}{2 \\pi^{2} k^{2}} & \\text{for}\\: k \\neq 0 \\\\\\frac{3}{4} & \\text{otherwise} \\end{cases}$"
      ],
      "text/plain": [
       "Piecewise((((-1)**k - I*pi*k - 1)/(2*pi**2*k**2), Ne(k, 0)), (3/4, True))"
      ]
     },
     "execution_count": 12,
     "metadata": {},
     "output_type": "execute_result"
    }
   ],
   "source": [
    "ak"
   ]
  },
  {
   "cell_type": "code",
   "execution_count": 13,
   "id": "bibliographic-lecture",
   "metadata": {},
   "outputs": [
    {
     "data": {
      "text/latex": [
       "$\\displaystyle \\frac{3}{4}$"
      ],
      "text/plain": [
       "3/4"
      ]
     },
     "execution_count": 13,
     "metadata": {},
     "output_type": "execute_result"
    }
   ],
   "source": [
    "ak.subs(k, 0)"
   ]
  },
  {
   "cell_type": "code",
   "execution_count": 14,
   "id": "trained-middle",
   "metadata": {},
   "outputs": [
    {
     "data": {
      "image/png": "[encoded data removed]",
      "text/plain": [
       "<Figure size 432x288 with 1 Axes>"
      ]
     },
     "metadata": {
      "needs_background": "light"
     },
     "output_type": "display_data"
    }
   ],
   "source": [
    "# there isn't a great way to do scatter plots in sympy, so we will plot our \n",
    "# power spectrum using the matplotlib library, imported at the top of this\n",
    "# notebook\n",
    "k = symbols('k', real=True, integer=True)\n",
    "n = 5\n",
    "k_values = np.arange(-n, n+1)\n",
    "ak_list = np.array([N(ak.subs(k, ki)) for ki in k_values], dtype=complex)\n",
    "power = abs(ak_list)**2\n",
    "\n",
    "# this is building a list of power values evaluating the function\n",
    "# using list comprehension, a short way to write for loops\n",
    "# https://www.programiz.com/python-programming/list-comprehension\n",
    "plt.bar(k_values, power)\n",
    "plt.xlabel('k')\n",
    "plt.ylabel('power: $|a_k|^2$')\n",
    "plt.title('power spectrum')\n",
    "plt.grid()"
   ]
  },
  {
   "cell_type": "markdown",
   "id": "continent-norway",
   "metadata": {},
   "source": [
    "# Using $\\{1, \\cos(2\\pi k t/\\tau), \\sin(2\\pi k t/\\tau\\}$ as Basis"
   ]
  },
  {
   "cell_type": "code",
   "execution_count": 15,
   "id": "arctic-modern",
   "metadata": {},
   "outputs": [
    {
     "data": {
      "text/latex": [
       "$\\displaystyle \\psi_{1k} = \\cos{\\left(k t \\right)}$"
      ],
      "text/plain": [
       "Eq(\\psi_1k, cos(k*t))"
      ]
     },
     "execution_count": 15,
     "metadata": {},
     "output_type": "execute_result"
    }
   ],
   "source": [
    "psi_1k = cos(k*t*2*pi/tau)\n",
    "Eq(symbols('\\psi_1k'), psi_1k)"
   ]
  },
  {
   "cell_type": "code",
   "execution_count": 16,
   "id": "egyptian-number",
   "metadata": {},
   "outputs": [
    {
     "data": {
      "text/latex": [
       "$\\displaystyle \\alpha_{k} = \\begin{cases} \\frac{\\left(-1\\right)^{k} - 1}{\\pi^{2} k^{2}} & \\text{for}\\: k \\neq 0 \\\\\\frac{3}{4} & \\text{otherwise} \\end{cases}$"
      ],
      "text/plain": [
       "Eq(alpha_k, Piecewise((((-1)**k - 1)/(pi**2*k**2), Ne(k, 0)), (3/4, True)))"
      ]
     },
     "execution_count": 16,
     "metadata": {},
     "output_type": "execute_result"
    }
   ],
   "source": [
    "alpha_k = L2_coefficient(f, psi_1k, tau)\n",
    "Eq(symbols('alpha_k'), alpha_k)"
   ]
  },
  {
   "cell_type": "code",
   "execution_count": 17,
   "id": "lightweight-listening",
   "metadata": {},
   "outputs": [
    {
     "data": {
      "text/latex": [
       "$\\displaystyle \\psi_{2k} = \\sin{\\left(k t \\right)}$"
      ],
      "text/plain": [
       "Eq(\\psi_2k, sin(k*t))"
      ]
     },
     "execution_count": 17,
     "metadata": {},
     "output_type": "execute_result"
    }
   ],
   "source": [
    "psi_2k = sin(k*t*2*pi/tau)\n",
    "Eq(symbols('\\psi_2k'), psi_2k)"
   ]
  },
  {
   "cell_type": "code",
   "execution_count": 18,
   "id": "careful-therapy",
   "metadata": {},
   "outputs": [
    {
     "data": {
      "text/latex": [
       "$\\displaystyle \\beta_{k} = \\begin{cases} - \\frac{1}{\\pi k} & \\text{for}\\: k \\neq 0 \\\\\\text{NaN} & \\text{otherwise} \\end{cases}$"
      ],
      "text/plain": [
       "Eq(beta_k, Piecewise((-1/(pi*k), Ne(k, 0)), (nan, True)))"
      ]
     },
     "execution_count": 18,
     "metadata": {},
     "output_type": "execute_result"
    }
   ],
   "source": [
    "beta_k = L2_coefficient(f, psi_2k, tau)\n",
    "Eq(symbols('beta_k'), beta_k)"
   ]
  },
  {
   "cell_type": "code",
   "execution_count": 19,
   "id": "significant-picture",
   "metadata": {},
   "outputs": [
    {
     "data": {
      "text/latex": [
       "$\\displaystyle a_{0} = \\frac{3}{4}$"
      ],
      "text/plain": [
       "Eq(a_0, 3/4)"
      ]
     },
     "execution_count": 19,
     "metadata": {},
     "output_type": "execute_result"
    }
   ],
   "source": [
    "psi_1 = 1\n",
    "a_0 = L2_coefficient(f, psi_1, tau)\n",
    "Eq(symbols('a_0'), a_0)"
   ]
  },
  {
   "cell_type": "code",
   "execution_count": 20,
   "id": "engaged-tiffany",
   "metadata": {},
   "outputs": [
    {
     "name": "stdout",
     "output_type": "stream",
     "text": [
      "-sin(t)/pi - 2*cos(t)/pi**2 + 3/4\n",
      "-sin(t)/pi - sin(2*t)/(2*pi) - 2*cos(t)/pi**2 + 3/4\n",
      "-sin(t)/pi - sin(2*t)/(2*pi) - sin(3*t)/(3*pi) - 2*cos(t)/pi**2 - 2*cos(3*t)/(9*pi**2) + 3/4\n",
      "-sin(t)/pi - sin(2*t)/(2*pi) - sin(3*t)/(3*pi) - sin(4*t)/(4*pi) - 2*cos(t)/pi**2 - 2*cos(3*t)/(9*pi**2) + 3/4\n",
      "-sin(t)/pi - sin(2*t)/(2*pi) - sin(3*t)/(3*pi) - sin(4*t)/(4*pi) - sin(5*t)/(5*pi) - 2*cos(t)/pi**2 - 2*cos(3*t)/(9*pi**2) - 2*cos(5*t)/(25*pi**2) + 3/4\n"
     ]
    }
   ],
   "source": [
    "approx = a_0\n",
    "for k_i in range(1, n+1):\n",
    "    approx += (alpha_k*psi_1k + beta_k*psi_2k).subs(k, k_i)\n",
    "    print(approx)"
   ]
  },
  {
   "cell_type": "code",
   "execution_count": 21,
   "id": "familiar-guard",
   "metadata": {},
   "outputs": [
    {
     "data": {
      "image/png": "[encoded data removed]",
      "text/plain": [
       "<Figure size 432x288 with 1 Axes>"
      ]
     },
     "metadata": {
      "needs_background": "light"
     },
     "output_type": "display_data"
    }
   ],
   "source": [
    "fig = plot(approx, f, (t, 0, 4*pi), legend=True, show=False)\n",
    "fig[0].line_color='r'\n",
    "fig[0].label = 'p_' + str(n)\n",
    "fig[1].label = 'f'\n",
    "fig.show()"
   ]
  },
  {
   "cell_type": "code",
   "execution_count": 22,
   "id": "yellow-communications",
   "metadata": {},
   "outputs": [
    {
     "data": {
      "text/latex": [
       "$\\displaystyle - \\frac{\\sin{\\left(t \\right)}}{\\pi} - \\frac{\\sin{\\left(2 t \\right)}}{2 \\pi} - \\frac{\\sin{\\left(3 t \\right)}}{3 \\pi} - \\frac{\\sin{\\left(4 t \\right)}}{4 \\pi} - \\frac{\\sin{\\left(5 t \\right)}}{5 \\pi} - \\frac{2 \\cos{\\left(t \\right)}}{\\pi^{2}} - \\frac{2 \\cos{\\left(3 t \\right)}}{9 \\pi^{2}} - \\frac{2 \\cos{\\left(5 t \\right)}}{25 \\pi^{2}} + \\frac{3}{4}$"
      ],
      "text/plain": [
       "-sin(t)/pi - sin(2*t)/(2*pi) - sin(3*t)/(3*pi) - sin(4*t)/(4*pi) - sin(5*t)/(5*pi) - 2*cos(t)/pi**2 - 2*cos(3*t)/(9*pi**2) - 2*cos(5*t)/(25*pi**2) + 3/4"
      ]
     },
     "execution_count": 22,
     "metadata": {},
     "output_type": "execute_result"
    }
   ],
   "source": [
    "approx"
   ]
  }
 ],
 "metadata": {
  "kernelspec": {
   "display_name": "Python 3",
   "language": "python",
   "name": "python3"
  },
  "language_info": {
   "codemirror_mode": {
    "name": "ipython",
    "version": 3
   },
   "file_extension": ".py",
   "mimetype": "text/x-python",
   "name": "python",
   "nbconvert_exporter": "python",
   "pygments_lexer": "ipython3",
   "version": "3.8.8"
  }
 },
 "nbformat": 4,
 "nbformat_minor": 5
}
