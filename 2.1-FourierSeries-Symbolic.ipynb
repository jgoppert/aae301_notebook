{
 "cells": [
  {
   "cell_type": "code",
   "execution_count": 1,
   "id": "colonial-insider",
   "metadata": {},
   "outputs": [],
   "source": [
    "from sympy import *\n",
    "import numpy as np\n",
    "\n",
    "import matplotlib.pyplot as plt\n",
    "\n",
    "def L2_inner_product(f, g, tau):\n",
    "    # you can define t here to not rely on a global definition\n",
    "    t = symbols('t', real=True)\n",
    "    return (integrate(f*conjugate(g), (t, 0, tau))/tau).simplify()\n",
    "\n",
    "def L2_norm(f, tau):\n",
    "    return sqrt(L2_inner_product(f, f, tau))\n",
    "\n",
    "def L2_coefficient(f, g, tau):\n",
    "    return (L2_inner_product(f, g, tau)/L2_norm(g, tau)**2).simplify()"
   ]
  },
  {
   "cell_type": "markdown",
   "id": "closing-tenant",
   "metadata": {},
   "source": [
    "# Function to Approximate"
   ]
  },
  {
   "cell_type": "code",
   "execution_count": 49,
   "id": "reserved-timothy",
   "metadata": {},
   "outputs": [
    {
     "data": {
      "image/png": "[encoded data removed]",
      "text/plain": [
       "<Figure size 640x480 with 1 Axes>"
      ]
     },
     "metadata": {},
     "output_type": "display_data"
    },
    {
     "data": {
      "text/plain": [
       "<sympy.plotting.plot.Plot at 0x7f6568338eb0>"
      ]
     },
     "execution_count": 49,
     "metadata": {},
     "output_type": "execute_result"
    }
   ],
   "source": [
    "t = symbols('t', real=True)\n",
    "f = Piecewise(\n",
    "    (t, t < pi),   # t is zero before time pi\n",
    "    (t - pi, True),      # otherwise, t is 1\n",
    ")\n",
    "plot(f, (t, 0, 2*pi))"
   ]
  },
  {
   "cell_type": "markdown",
   "id": "stretch-miracle",
   "metadata": {},
   "source": [
    "# Fourier Series using $\\{e^{-ikt}\\}$, $k=[-\\infty, \\dots, \\infty]$ as Basis"
   ]
  },
  {
   "cell_type": "code",
   "execution_count": 48,
   "id": "utility-level",
   "metadata": {},
   "outputs": [
    {
     "data": {
      "text/latex": [
       "$\\displaystyle \\begin{cases} \\frac{\\left(-1\\right)^{k} - 1}{\\pi k^{2}} & \\text{for}\\: k > 0 \\vee k < 0 \\\\\\frac{\\pi}{2} & \\text{otherwise} \\end{cases}$"
      ],
      "text/plain": [
       "Piecewise((((-1)**k - 1)/(pi*k**2), (k > 0) | (k < 0)), (pi/2, True))"
      ]
     },
     "execution_count": 48,
     "metadata": {},
     "output_type": "execute_result"
    }
   ],
   "source": [
    "k = symbols('k', real=True, integer=True)\n",
    "tau = 2*pi\n",
    "w0 = 2*pi/tau\n",
    "psi_k = exp(-I*k*w0*t)\n",
    "\n",
    "ak = L2_coefficient(f, psi_k, tau)\n",
    "\n",
    "ak"
   ]
  },
  {
   "cell_type": "code",
   "execution_count": 23,
   "id": "17dc734a-9ee6-422e-9cdf-7b0e7a51c070",
   "metadata": {},
   "outputs": [
    {
     "data": {
      "text/latex": [
       "$\\displaystyle \\frac{\\pi^{2}}{3}$"
      ],
      "text/plain": [
       "pi**2/3"
      ]
     },
     "execution_count": 23,
     "metadata": {},
     "output_type": "execute_result"
    }
   ],
   "source": [
    "integrate(f*conjugate(f), (t, 0, 2*pi))/(2*pi)"
   ]
  },
  {
   "cell_type": "code",
   "execution_count": 44,
   "id": "dfb5d6a5-a1ce-4e70-a711-abd7084e18da",
   "metadata": {},
   "outputs": [
    {
     "data": {
      "text/plain": [
       "0.04348026911390171"
      ]
     },
     "execution_count": 44,
     "metadata": {},
     "output_type": "execute_result"
    }
   ],
   "source": [
    "# creating ak list\n",
    "n = 3\n",
    "ak_list = []\n",
    "for k in range(-n, n+1):\n",
    "    if k == 0:\n",
    "        ak = np.pi/2\n",
    "    elif k % 2 == 0: # even\n",
    "        ak = 0\n",
    "    else:\n",
    "        ak = -2/(np.pi*k**2)\n",
    "    ak_list.append(ak)\n",
    "\n",
    "# compute error in approx p_n(t)\n",
    "norm_f_sq = np.pi**2/3\n",
    "error_norm_sq = norm_f_sq\n",
    "for ak in ak_list:\n",
    "    error_norm_sq = error_norm_sq - np.abs(ak)**2\n",
    "\n",
    "error_norm = np.sqrt(error_norm_sq)\n",
    "error_norm"
   ]
  },
  {
   "cell_type": "code",
   "execution_count": 29,
   "id": "29923832-2fbb-4981-bfb5-0874f6ca8332",
   "metadata": {},
   "outputs": [
    {
     "data": {
      "text/plain": [
       "[-0.0707355302630646,\n",
       " 0,\n",
       " -0.6366197723675814,\n",
       " 1.5707963267948966,\n",
       " -0.6366197723675814,\n",
       " 0,\n",
       " -0.0707355302630646]"
      ]
     },
     "execution_count": 29,
     "metadata": {},
     "output_type": "execute_result"
    }
   ],
   "source": [
    "ak_list"
   ]
  }
 ],
 "metadata": {
  "kernelspec": {
   "display_name": "Python 3 (ipykernel)",
   "language": "python",
   "name": "python3"
  },
  "language_info": {
   "codemirror_mode": {
    "name": "ipython",
    "version": 3
   },
   "file_extension": ".py",
   "mimetype": "text/x-python",
   "name": "python",
   "nbconvert_exporter": "python",
   "pygments_lexer": "ipython3",
   "version": "3.9.13"
  }
 },
 "nbformat": 4,
 "nbformat_minor": 5
}
