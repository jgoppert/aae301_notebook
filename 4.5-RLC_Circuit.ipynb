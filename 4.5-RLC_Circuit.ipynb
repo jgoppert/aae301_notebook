{
 "cells": [
  {
   "cell_type": "code",
   "execution_count": 1,
   "id": "effective-cartoon",
   "metadata": {},
   "outputs": [],
   "source": [
    "import sympy\n",
    "import scipy.signal\n",
    "import numpy as np\n",
    "import matplotlib.pyplot as plt"
   ]
  },
  {
   "cell_type": "markdown",
   "id": "separate-shuttle",
   "metadata": {},
   "source": [
    "![Circuit](fig/circuit.png)"
   ]
  },
  {
   "cell_type": "markdown",
   "id": "prepared-mandate",
   "metadata": {},
   "source": [
    "Define your variables"
   ]
  },
  {
   "cell_type": "code",
   "execution_count": 2,
   "id": "collected-earthquake",
   "metadata": {},
   "outputs": [],
   "source": [
    "R_1, R_2, L, C, I_1, I_2, I_3, U, s, t = sympy.symbols('R_1, R_2, L, C, I_1, I_2, I_3, U, s, t')"
   ]
  },
  {
   "cell_type": "markdown",
   "id": "sharp-boston",
   "metadata": {},
   "source": [
    "Setup your equations based on loop laws."
   ]
  },
  {
   "cell_type": "code",
   "execution_count": 3,
   "id": "differential-palestinian",
   "metadata": {},
   "outputs": [
    {
     "data": {
      "text/latex": [
       "$\\displaystyle - I_{1} R_{1} + U - \\frac{I_{1} - I_{2}}{C s}$"
      ],
      "text/plain": [
       "-I_1*R_1 + U - (I_1 - I_2)/(C*s)"
      ]
     },
     "execution_count": 3,
     "metadata": {},
     "output_type": "execute_result"
    }
   ],
   "source": [
    "eq1 = U - R_1*I_1 - (1/C)*(I_1 - I_2)/s\n",
    "eq1"
   ]
  },
  {
   "cell_type": "code",
   "execution_count": 4,
   "id": "allied-pride",
   "metadata": {},
   "outputs": [
    {
     "data": {
      "text/latex": [
       "$\\displaystyle I_{2} L s + I_{2} R_{2} - \\frac{I_{1} - I_{2}}{C s}$"
      ],
      "text/plain": [
       "I_2*L*s + I_2*R_2 - (I_1 - I_2)/(C*s)"
      ]
     },
     "execution_count": 4,
     "metadata": {},
     "output_type": "execute_result"
    }
   ],
   "source": [
    "eq2 = R_2*I_2 + L*I_2*s - (1/(C*s))*(I_1 - I_2)\n",
    "eq2"
   ]
  },
  {
   "cell_type": "markdown",
   "id": "bronze-position",
   "metadata": {},
   "source": [
    "Solve your equations."
   ]
  },
  {
   "cell_type": "code",
   "execution_count": 5,
   "id": "right-adult",
   "metadata": {},
   "outputs": [
    {
     "data": {
      "text/latex": [
       "$\\displaystyle \\frac{C L U s^{2} + C R_{2} U s + U}{C L R_{1} s^{2} + C R_{1} R_{2} s + L s + R_{1} + R_{2}}$"
      ],
      "text/plain": [
       "(C*L*U*s**2 + C*R_2*U*s + U)/(C*L*R_1*s**2 + C*R_1*R_2*s + L*s + R_1 + R_2)"
      ]
     },
     "execution_count": 5,
     "metadata": {},
     "output_type": "execute_result"
    }
   ],
   "source": [
    "sol = sympy.solve([eq1, eq2], [I_1, I_2])\n",
    "sol[I_1]"
   ]
  },
  {
   "cell_type": "code",
   "execution_count": 6,
   "id": "fantastic-species",
   "metadata": {},
   "outputs": [
    {
     "data": {
      "text/latex": [
       "$\\displaystyle \\frac{U}{C L R_{1} s^{2} + C R_{1} R_{2} s + L s + R_{1} + R_{2}}$"
      ],
      "text/plain": [
       "U/(C*L*R_1*s**2 + C*R_1*R_2*s + L*s + R_1 + R_2)"
      ]
     },
     "execution_count": 6,
     "metadata": {},
     "output_type": "execute_result"
    }
   ],
   "source": [
    "sol[I_2]"
   ]
  },
  {
   "cell_type": "markdown",
   "id": "caring-butterfly",
   "metadata": {},
   "source": [
    "Find the transfer function for the voltage drop across the inductor."
   ]
  },
  {
   "cell_type": "code",
   "execution_count": 7,
   "id": "disciplinary-driving",
   "metadata": {},
   "outputs": [
    {
     "data": {
      "text/latex": [
       "$\\displaystyle - \\frac{L s}{C L R_{1} s^{2} + C R_{1} R_{2} s + L s + R_{1} + R_{2}}$"
      ],
      "text/plain": [
       "-L*s/(C*L*R_1*s**2 + C*R_1*R_2*s + L*s + R_1 + R_2)"
      ]
     },
     "execution_count": 7,
     "metadata": {},
     "output_type": "execute_result"
    }
   ],
   "source": [
    "G = (-L*s*sol[I_2])/U\n",
    "G"
   ]
  },
  {
   "cell_type": "code",
   "execution_count": 8,
   "id": "million-manor",
   "metadata": {},
   "outputs": [],
   "source": [
    "component_values = {\n",
    "    R_1: 1,\n",
    "    R_2: 5,\n",
    "    L: 1,\n",
    "    C: sympy.Rational(1, 3)\n",
    "}"
   ]
  },
  {
   "cell_type": "code",
   "execution_count": 9,
   "id": "removed-defendant",
   "metadata": {},
   "outputs": [
    {
     "data": {
      "text/latex": [
       "$\\displaystyle - \\frac{s}{\\frac{s^{2}}{3} + \\frac{8 s}{3} + 6}$"
      ],
      "text/plain": [
       "-s/(s**2/3 + 8*s/3 + 6)"
      ]
     },
     "execution_count": 9,
     "metadata": {},
     "output_type": "execute_result"
    }
   ],
   "source": [
    "G1 = G.subs(component_values)\n",
    "G1"
   ]
  },
  {
   "cell_type": "code",
   "execution_count": 10,
   "id": "sporting-highlight",
   "metadata": {},
   "outputs": [
    {
     "data": {
      "image/png": "[encoded data removed]",
      "text/plain": [
       "<Figure size 640x480 with 1 Axes>"
      ]
     },
     "metadata": {},
     "output_type": "display_data"
    },
    {
     "data": {
      "text/plain": [
       "<sympy.plotting.plot.Plot at 0x7f3208fc1ca0>"
      ]
     },
     "execution_count": 10,
     "metadata": {},
     "output_type": "execute_result"
    }
   ],
   "source": [
    "sympy.plot(sympy.Heaviside(t), title='unit step')"
   ]
  },
  {
   "cell_type": "code",
   "execution_count": 11,
   "id": "threatened-prospect",
   "metadata": {},
   "outputs": [
    {
     "data": {
      "text/latex": [
       "$\\displaystyle g{\\left(t \\right)} = 3 \\cdot \\left(2 \\sqrt{2} \\sin{\\left(\\sqrt{2} t \\right)} - \\cos{\\left(\\sqrt{2} t \\right)}\\right) e^{- 4 t} \\theta\\left(t\\right)$"
      ],
      "text/plain": [
       "Eq(g(t), 3*(2*sqrt(2)*sin(sqrt(2)*t) - cos(sqrt(2)*t))*exp(-4*t)*Heaviside(t))"
      ]
     },
     "execution_count": 11,
     "metadata": {},
     "output_type": "execute_result"
    }
   ],
   "source": [
    "g = sympy.inverse_laplace_transform(sympy.apart(G1), s, t)\n",
    "sympy.Eq(sympy.Function('g')(t), g)"
   ]
  },
  {
   "cell_type": "code",
   "execution_count": 12,
   "id": "179fd260-d146-4a74-a0c9-4bc24a615193",
   "metadata": {},
   "outputs": [
    {
     "data": {
      "text/latex": [
       "$\\displaystyle - \\frac{s}{\\frac{s^{2}}{2} + \\frac{3 s}{2} + 2}$"
      ],
      "text/plain": [
       "-s/(s**2/2 + 3*s/2 + 2)"
      ]
     },
     "execution_count": 12,
     "metadata": {},
     "output_type": "execute_result"
    }
   ],
   "source": [
    "G1"
   ]
  },
  {
   "cell_type": "code",
   "execution_count": 13,
   "id": "39330099-770f-4816-a6cf-229442ee9f98",
   "metadata": {},
   "outputs": [
    {
     "data": {
      "text/latex": [
       "$\\displaystyle - \\frac{2 s}{s^{2} + 3 s + 4}$"
      ],
      "text/plain": [
       "-2*s/(s**2 + 3*s + 4)"
      ]
     },
     "execution_count": 13,
     "metadata": {},
     "output_type": "execute_result"
    }
   ],
   "source": [
    "sympy.simplify(G1)"
   ]
  },
  {
   "cell_type": "code",
   "execution_count": 12,
   "id": "weird-cassette",
   "metadata": {},
   "outputs": [
    {
     "data": {
      "image/png": "[encoded data removed]",
      "text/plain": [
       "<Figure size 432x288 with 1 Axes>"
      ]
     },
     "metadata": {
      "needs_background": "light"
     },
     "output_type": "display_data"
    },
    {
     "data": {
      "text/plain": [
       "<sympy.plotting.plot.Plot at 0x7f03e22ea400>"
      ]
     },
     "execution_count": 12,
     "metadata": {},
     "output_type": "execute_result"
    }
   ],
   "source": [
    "sympy.plot(g, (t, -1, 10))"
   ]
  },
  {
   "cell_type": "code",
   "execution_count": 16,
   "id": "worthy-injury",
   "metadata": {},
   "outputs": [
    {
     "data": {
      "text/plain": [
       "[1, 2, 3]"
      ]
     },
     "execution_count": 16,
     "metadata": {},
     "output_type": "execute_result"
    }
   ],
   "source": [
    "num, den = sympy.fraction(G1)\n",
    "sympy.Poly(s**2 + 2*s  +3, s).all_coeffs()"
   ]
  },
  {
   "cell_type": "code",
   "execution_count": 17,
   "id": "complimentary-yacht",
   "metadata": {},
   "outputs": [
    {
     "ename": "TypeError",
     "evalue": "<lambda>() takes 1 positional argument but 2 were given",
     "output_type": "error",
     "traceback": [
      "\u001b[0;31m---------------------------------------------------------------------------\u001b[0m",
      "\u001b[0;31mTypeError\u001b[0m                                 Traceback (most recent call last)",
      "Input \u001b[0;32mIn [17]\u001b[0m, in \u001b[0;36m<cell line: 37>\u001b[0;34m()\u001b[0m\n\u001b[1;32m     34\u001b[0m     plt\u001b[38;5;241m.\u001b[39mxlabel(\u001b[38;5;124m'\u001b[39m\u001b[38;5;124mt, sec\u001b[39m\u001b[38;5;124m'\u001b[39m)\n\u001b[1;32m     35\u001b[0m     plt\u001b[38;5;241m.\u001b[39mlegend()\n\u001b[0;32m---> 37\u001b[0m \u001b[43msympy_vs_numerical\u001b[49m\u001b[43m(\u001b[49m\u001b[43m)\u001b[49m\n",
      "Input \u001b[0;32mIn [17]\u001b[0m, in \u001b[0;36msympy_vs_numerical\u001b[0;34m()\u001b[0m\n\u001b[1;32m     28\u001b[0m plt\u001b[38;5;241m.\u001b[39mfigure(figsize\u001b[38;5;241m=\u001b[39m(\u001b[38;5;241m10\u001b[39m, \u001b[38;5;241m5\u001b[39m))\n\u001b[1;32m     29\u001b[0m plt\u001b[38;5;241m.\u001b[39mplot(t_vals, y, linewidth\u001b[38;5;241m=\u001b[39m\u001b[38;5;241m10\u001b[39m, label\u001b[38;5;241m=\u001b[39m\u001b[38;5;124m'\u001b[39m\u001b[38;5;124mresidue\u001b[39m\u001b[38;5;124m'\u001b[39m)\n\u001b[0;32m---> 30\u001b[0m plt\u001b[38;5;241m.\u001b[39mplot(t_vals, \u001b[43mf_eval\u001b[49m\u001b[43m(\u001b[49m\u001b[43mt_vals\u001b[49m\u001b[43m)\u001b[49m, linewidth\u001b[38;5;241m=\u001b[39m\u001b[38;5;241m4\u001b[39m, label\u001b[38;5;241m=\u001b[39m\u001b[38;5;124m'\u001b[39m\u001b[38;5;124manalytical\u001b[39m\u001b[38;5;124m'\u001b[39m)\n\u001b[1;32m     31\u001b[0m plt\u001b[38;5;241m.\u001b[39mgrid()\n\u001b[1;32m     32\u001b[0m plt\u001b[38;5;241m.\u001b[39mtitle(\u001b[38;5;124m'\u001b[39m\u001b[38;5;124mVoltage Drop Across Inductor for a Unit Impulse\u001b[39m\u001b[38;5;124m'\u001b[39m)\n",
      "File \u001b[0;32m<lambdifygenerated-2>:2\u001b[0m, in \u001b[0;36m_lambdifygenerated\u001b[0;34m(t)\u001b[0m\n\u001b[1;32m      1\u001b[0m \u001b[38;5;28;01mdef\u001b[39;00m \u001b[38;5;21m_lambdifygenerated\u001b[39m(t):\n\u001b[0;32m----> 2\u001b[0m     \u001b[38;5;28;01mreturn\u001b[39;00m (\u001b[38;5;241m2\u001b[39m\u001b[38;5;241m/\u001b[39m\u001b[38;5;241m7\u001b[39m)\u001b[38;5;241m*\u001b[39msqrt(\u001b[38;5;241m7\u001b[39m)\u001b[38;5;241m*\u001b[39m(\u001b[38;5;241m3\u001b[39m\u001b[38;5;241m*\u001b[39msin((\u001b[38;5;241m1\u001b[39m\u001b[38;5;241m/\u001b[39m\u001b[38;5;241m2\u001b[39m)\u001b[38;5;241m*\u001b[39msqrt(\u001b[38;5;241m7\u001b[39m)\u001b[38;5;241m*\u001b[39mt) \u001b[38;5;241m-\u001b[39m sqrt(\u001b[38;5;241m7\u001b[39m)\u001b[38;5;241m*\u001b[39mcos((\u001b[38;5;241m1\u001b[39m\u001b[38;5;241m/\u001b[39m\u001b[38;5;241m2\u001b[39m)\u001b[38;5;241m*\u001b[39msqrt(\u001b[38;5;241m7\u001b[39m)\u001b[38;5;241m*\u001b[39mt))\u001b[38;5;241m*\u001b[39mexp(\u001b[38;5;241m-\u001b[39m\u001b[38;5;241m3\u001b[39m\u001b[38;5;241m/\u001b[39m\u001b[38;5;241m2\u001b[39m\u001b[38;5;241m*\u001b[39mt)\u001b[38;5;241m*\u001b[39m\u001b[43mHeaviside\u001b[49m\u001b[43m(\u001b[49m\u001b[43mt\u001b[49m\u001b[43m,\u001b[49m\u001b[43m \u001b[49m\u001b[38;5;241;43m1\u001b[39;49m\u001b[38;5;241;43m/\u001b[39;49m\u001b[38;5;241;43m2\u001b[39;49m\u001b[43m)\u001b[49m\n",
      "\u001b[0;31mTypeError\u001b[0m: <lambda>() takes 1 positional argument but 2 were given"
     ]
    },
    {
     "data": {
      "image/png": "[encoded data removed]",
      "text/plain": [
       "<Figure size 1000x500 with 1 Axes>"
      ]
     },
     "metadata": {},
     "output_type": "display_data"
    }
   ],
   "source": [
    "def sympy_vs_numerical():\n",
    "    t_vals = np.linspace(0, 4, 1000)\n",
    "    \n",
    "    dirac_delta = lambda t: scipy.signal.unit_impulse(len(t))\n",
    "    unit_step = lambda t: np.heaviside(t, 1)\n",
    "    \n",
    "    f_eval = sympy.lambdify([t], g, modules = [{\n",
    "        'Heaviside': unit_step,\n",
    "        'DiracDelta': dirac_delta,\n",
    "    }, 'numpy'])\n",
    "\n",
    "    num, den = sympy.fraction(G1)\n",
    "    num_coeffs = sympy.Poly(num, s).all_coeffs()\n",
    "    den_coeffs = sympy.Poly(den, s).all_coeffs()\n",
    "    \n",
    "    r, p, k = scipy.signal.residue(num_coeffs, den_coeffs)\n",
    "    \n",
    "    y = 0\n",
    "    \n",
    "    if len(k) > 0:\n",
    "        y = k[0]*dirac_delta(t_vals)\n",
    "\n",
    "    for i in range(len(r)):\n",
    "        y += r[i]*np.exp(p[i]*t_vals)\n",
    "\n",
    "    assert np.linalg.norm(np.imag(y)) < 1e-5 # should have small imaginary part\n",
    "    y = np.real(y)\n",
    "    plt.figure(figsize=(10, 5))\n",
    "    plt.plot(t_vals, y, linewidth=10, label='residue')\n",
    "    plt.plot(t_vals, f_eval(t_vals), linewidth=4, label='analytical')\n",
    "    plt.grid()\n",
    "    plt.title('Voltage Drop Across Inductor for a Unit Impulse')\n",
    "    plt.ylabel('Volts')\n",
    "    plt.xlabel('t, sec')\n",
    "    plt.legend()\n",
    "    \n",
    "sympy_vs_numerical()"
   ]
  },
  {
   "cell_type": "markdown",
   "id": "incorporate-mercy",
   "metadata": {},
   "source": [
    "$$ y(t) = \\int_0^{t} g(t) u(t - \\tau) d\\tau$$"
   ]
  },
  {
   "cell_type": "code",
   "execution_count": null,
   "id": "8b63cadb-19b0-4675-808c-8093f53311c8",
   "metadata": {},
   "outputs": [],
   "source": []
  }
 ],
 "metadata": {
  "kernelspec": {
   "display_name": "Python 3 (ipykernel)",
   "language": "python",
   "name": "python3"
  },
  "language_info": {
   "codemirror_mode": {
    "name": "ipython",
    "version": 3
   },
   "file_extension": ".py",
   "mimetype": "text/x-python",
   "name": "python",
   "nbconvert_exporter": "python",
   "pygments_lexer": "ipython3",
   "version": "3.9.13"
  }
 },
 "nbformat": 4,
 "nbformat_minor": 5
}
