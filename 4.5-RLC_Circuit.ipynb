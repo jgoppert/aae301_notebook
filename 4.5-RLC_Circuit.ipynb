{
 "cells": [
  {
   "cell_type": "code",
   "execution_count": 1,
   "id": "essential-maker",
   "metadata": {},
   "outputs": [],
   "source": [
    "import sympy\n",
    "import scipy.signal\n",
    "import numpy as np\n",
    "import matplotlib.pyplot as plt"
   ]
  },
  {
   "cell_type": "markdown",
   "id": "interracial-packing",
   "metadata": {},
   "source": [
    "![Circuit](fig/circuit.png)"
   ]
  },
  {
   "cell_type": "markdown",
   "id": "interested-slovenia",
   "metadata": {},
   "source": [
    "Define your variables"
   ]
  },
  {
   "cell_type": "code",
   "execution_count": 2,
   "id": "seeing-nylon",
   "metadata": {},
   "outputs": [],
   "source": [
    "R_1, R_2, L, C, I_1, I_2, I_3, U, s, t = sympy.symbols('R_1, R_2, L, C, I_1, I_2, I_3, U, s, t')"
   ]
  },
  {
   "cell_type": "markdown",
   "id": "drawn-twelve",
   "metadata": {},
   "source": [
    "Setup your equations based on loop laws."
   ]
  },
  {
   "cell_type": "code",
   "execution_count": 3,
   "id": "human-variable",
   "metadata": {},
   "outputs": [
    {
     "data": {
      "text/latex": [
       "$\\displaystyle - I_{1} R_{1} + U - \\frac{I_{1} - I_{2}}{C s}$"
      ],
      "text/plain": [
       "-I_1*R_1 + U - (I_1 - I_2)/(C*s)"
      ]
     },
     "execution_count": 3,
     "metadata": {},
     "output_type": "execute_result"
    }
   ],
   "source": [
    "eq1 = U - R_1*I_1 - (1/C)*(I_1 - I_2)/s\n",
    "eq1"
   ]
  },
  {
   "cell_type": "code",
   "execution_count": 4,
   "id": "social-poison",
   "metadata": {},
   "outputs": [
    {
     "data": {
      "text/latex": [
       "$\\displaystyle I_{2} L s + I_{2} R_{2} - \\frac{I_{1} - I_{2}}{C s}$"
      ],
      "text/plain": [
       "I_2*L*s + I_2*R_2 - (I_1 - I_2)/(C*s)"
      ]
     },
     "execution_count": 4,
     "metadata": {},
     "output_type": "execute_result"
    }
   ],
   "source": [
    "eq2 = R_2*I_2 + L*I_2*s - (1/(C*s))*(I_1 - I_2)\n",
    "eq2"
   ]
  },
  {
   "cell_type": "markdown",
   "id": "stone-salon",
   "metadata": {},
   "source": [
    "Solve your equations."
   ]
  },
  {
   "cell_type": "code",
   "execution_count": 5,
   "id": "engaged-interface",
   "metadata": {},
   "outputs": [
    {
     "data": {
      "text/latex": [
       "$\\displaystyle \\frac{C L U s^{2} + C R_{2} U s + U}{C L R_{1} s^{2} + C R_{1} R_{2} s + L s + R_{1} + R_{2}}$"
      ],
      "text/plain": [
       "(C*L*U*s**2 + C*R_2*U*s + U)/(C*L*R_1*s**2 + C*R_1*R_2*s + L*s + R_1 + R_2)"
      ]
     },
     "execution_count": 5,
     "metadata": {},
     "output_type": "execute_result"
    }
   ],
   "source": [
    "sol = sympy.solve([eq1, eq2], [I_1, I_2])\n",
    "sol[I_1]"
   ]
  },
  {
   "cell_type": "code",
   "execution_count": 6,
   "id": "administrative-information",
   "metadata": {},
   "outputs": [
    {
     "data": {
      "text/latex": [
       "$\\displaystyle \\frac{U}{C L R_{1} s^{2} + C R_{1} R_{2} s + L s + R_{1} + R_{2}}$"
      ],
      "text/plain": [
       "U/(C*L*R_1*s**2 + C*R_1*R_2*s + L*s + R_1 + R_2)"
      ]
     },
     "execution_count": 6,
     "metadata": {},
     "output_type": "execute_result"
    }
   ],
   "source": [
    "sol[I_2]"
   ]
  },
  {
   "cell_type": "markdown",
   "id": "literary-summer",
   "metadata": {},
   "source": [
    "Find the transfer function for the voltage drop across the inductor."
   ]
  },
  {
   "cell_type": "code",
   "execution_count": 7,
   "id": "nutritional-uncle",
   "metadata": {},
   "outputs": [
    {
     "data": {
      "text/latex": [
       "$\\displaystyle - \\frac{L s}{C L R_{1} s^{2} + C R_{1} R_{2} s + L s + R_{1} + R_{2}}$"
      ],
      "text/plain": [
       "-L*s/(C*L*R_1*s**2 + C*R_1*R_2*s + L*s + R_1 + R_2)"
      ]
     },
     "execution_count": 7,
     "metadata": {},
     "output_type": "execute_result"
    }
   ],
   "source": [
    "G = (-L*s*sol[I_2])/U\n",
    "G"
   ]
  },
  {
   "cell_type": "code",
   "execution_count": 8,
   "id": "facial-yeast",
   "metadata": {},
   "outputs": [],
   "source": [
    "component_values = {\n",
    "    R_1: 1,\n",
    "    R_2: 1,\n",
    "    L: 1,\n",
    "    C: sympy.Rational(1, 2)\n",
    "}"
   ]
  },
  {
   "cell_type": "code",
   "execution_count": 9,
   "id": "reflected-methodology",
   "metadata": {},
   "outputs": [
    {
     "data": {
      "text/latex": [
       "$\\displaystyle - \\frac{s}{\\frac{s^{2}}{2} + \\frac{3 s}{2} + 2}$"
      ],
      "text/plain": [
       "-s/(s**2/2 + 3*s/2 + 2)"
      ]
     },
     "execution_count": 9,
     "metadata": {},
     "output_type": "execute_result"
    }
   ],
   "source": [
    "G1 = G.subs(component_values)\n",
    "G1"
   ]
  },
  {
   "cell_type": "code",
   "execution_count": 10,
   "id": "catholic-visiting",
   "metadata": {},
   "outputs": [
    {
     "data": {
      "image/png": "[encoded data removed]",
      "text/plain": [
       "<Figure size 432x288 with 1 Axes>"
      ]
     },
     "metadata": {
      "needs_background": "light"
     },
     "output_type": "display_data"
    },
    {
     "data": {
      "text/plain": [
       "<sympy.plotting.plot.Plot at 0x7fbf87a8d0a0>"
      ]
     },
     "execution_count": 10,
     "metadata": {},
     "output_type": "execute_result"
    }
   ],
   "source": [
    "sympy.plot(sympy.Heaviside(t), title='unit step')"
   ]
  },
  {
   "cell_type": "code",
   "execution_count": 11,
   "id": "available-rebate",
   "metadata": {},
   "outputs": [
    {
     "data": {
      "text/latex": [
       "$\\displaystyle g{\\left(t \\right)} = \\frac{2 \\left(3 \\sqrt{7} \\sin{\\left(\\frac{\\sqrt{7} t}{2} \\right)} - 7 \\cos{\\left(\\frac{\\sqrt{7} t}{2} \\right)}\\right) e^{- \\frac{3 t}{2}} \\theta\\left(t\\right)}{7}$"
      ],
      "text/plain": [
       "Eq(g(t), 2*(3*sqrt(7)*sin(sqrt(7)*t/2) - 7*cos(sqrt(7)*t/2))*exp(-3*t/2)*Heaviside(t)/7)"
      ]
     },
     "execution_count": 11,
     "metadata": {},
     "output_type": "execute_result"
    }
   ],
   "source": [
    "g = sympy.inverse_laplace_transform(sympy.apart(G1), s, t)\n",
    "sympy.Eq(sympy.Function('g')(t), g)"
   ]
  },
  {
   "cell_type": "code",
   "execution_count": 12,
   "id": "surface-husband",
   "metadata": {},
   "outputs": [
    {
     "data": {
      "image/png": "[encoded data removed]",
      "text/plain": [
       "<Figure size 432x288 with 1 Axes>"
      ]
     },
     "metadata": {
      "needs_background": "light"
     },
     "output_type": "display_data"
    },
    {
     "data": {
      "text/plain": [
       "<sympy.plotting.plot.Plot at 0x7fbf7f6d0670>"
      ]
     },
     "execution_count": 12,
     "metadata": {},
     "output_type": "execute_result"
    }
   ],
   "source": [
    "sympy.plot(g, (t, -1, 10))"
   ]
  },
  {
   "cell_type": "code",
   "execution_count": 13,
   "id": "attached-substance",
   "metadata": {},
   "outputs": [
    {
     "data": {
      "text/plain": [
       "[1, 2, 3]"
      ]
     },
     "execution_count": 13,
     "metadata": {},
     "output_type": "execute_result"
    }
   ],
   "source": [
    "num, den = sympy.fraction(G1)\n",
    "sympy.Poly(s**2 + 2*s  +3, s).all_coeffs()"
   ]
  },
  {
   "cell_type": "code",
   "execution_count": 14,
   "id": "laughing-prior",
   "metadata": {},
   "outputs": [
    {
     "data": {
      "image/png": "[encoded data removed]",
      "text/plain": [
       "<Figure size 720x360 with 1 Axes>"
      ]
     },
     "metadata": {
      "needs_background": "light"
     },
     "output_type": "display_data"
    }
   ],
   "source": [
    "def sympy_vs_numerical():\n",
    "    t_vals = np.linspace(0, 4, 1000)\n",
    "    \n",
    "    dirac_delta = lambda t: scipy.signal.unit_impulse(len(t))\n",
    "    unit_step = lambda t: np.heaviside(t, 1)\n",
    "    \n",
    "    f_eval = sympy.lambdify([t], g, modules = [{\n",
    "        'Heaviside': unit_step,\n",
    "        'DiracDelta': dirac_delta,\n",
    "    }, 'numpy'])\n",
    "\n",
    "    num, den = sympy.fraction(G1)\n",
    "    num_coeffs = sympy.Poly(num, s).all_coeffs()\n",
    "    den_coeffs = sympy.Poly(den, s).all_coeffs()\n",
    "    \n",
    "    r, p, k = scipy.signal.residue(num_coeffs, den_coeffs)\n",
    "    \n",
    "    y = 0\n",
    "    \n",
    "    if len(k) > 0:\n",
    "        y = k[0]*dirac_delta(t_vals)\n",
    "\n",
    "    for i in range(len(r)):\n",
    "        y += r[i]*np.exp(p[i]*t_vals)\n",
    "\n",
    "    assert np.linalg.norm(np.imag(y)) < 1e-5 # should have small imaginary part\n",
    "    y = np.real(y)\n",
    "    plt.figure(figsize=(10, 5))\n",
    "    plt.plot(t_vals, y, linewidth=10, label='residue')\n",
    "    plt.plot(t_vals, f_eval(t_vals), linewidth=4, label='analytical')\n",
    "    plt.grid()\n",
    "    plt.title('Voltage Drop Across Inductor for a Unit Impulse')\n",
    "    plt.ylabel('Volts')\n",
    "    plt.xlabel('t, sec')\n",
    "    plt.legend()\n",
    "    \n",
    "sympy_vs_numerical()"
   ]
  },
  {
   "cell_type": "markdown",
   "id": "faced-cache",
   "metadata": {},
   "source": [
    "$$ y(t) = \\int_0^{t} g(t) u(t - \\tau) d\\tau$$"
   ]
  }
 ],
 "metadata": {
  "kernelspec": {
   "display_name": "Python 3",
   "language": "python",
   "name": "python3"
  },
  "language_info": {
   "codemirror_mode": {
    "name": "ipython",
    "version": 3
   },
   "file_extension": ".py",
   "mimetype": "text/x-python",
   "name": "python",
   "nbconvert_exporter": "python",
   "pygments_lexer": "ipython3",
   "version": "3.8.8"
  }
 },
 "nbformat": 4,
 "nbformat_minor": 5
}
