{
 "cells": [
  {
   "cell_type": "code",
   "execution_count": 1,
   "id": "comfortable-alabama",
   "metadata": {},
   "outputs": [],
   "source": [
    "from sympy import *\n",
    "import numpy as np\n",
    "\n",
    "import matplotlib.pyplot as plt\n",
    "\n",
    "def L2_inner_product(f, g, tau):\n",
    "    # you can define t here to not rely on a global definition\n",
    "    t = symbols('t', real=True)\n",
    "    return (integrate(f*conjugate(g), (t, 0, tau))/tau).simplify()\n",
    "\n",
    "def L2_norm(f, tau):\n",
    "    return sqrt(L2_inner_product(f, f, tau))\n",
    "\n",
    "def L2_coefficient(f, g, tau):\n",
    "    return (L2_inner_product(f, g, tau)/L2_norm(g, tau)**2).simplify()"
   ]
  },
  {
   "cell_type": "markdown",
   "id": "specific-petite",
   "metadata": {},
   "source": [
    "# Function to Approximate"
   ]
  },
  {
   "cell_type": "code",
   "execution_count": 2,
   "id": "outer-prerequisite",
   "metadata": {},
   "outputs": [
    {
     "data": {
      "image/png": "[encoded data removed]",
      "text/plain": [
       "<Figure size 432x288 with 1 Axes>"
      ]
     },
     "metadata": {
      "needs_background": "light"
     },
     "output_type": "display_data"
    },
    {
     "data": {
      "text/plain": [
       "<sympy.plotting.plot.Plot at 0x7f81f47770a0>"
      ]
     },
     "execution_count": 2,
     "metadata": {},
     "output_type": "execute_result"
    }
   ],
   "source": [
    "t = symbols('t', real=True)\n",
    "f1 = Piecewise(\n",
    "    (1, t < pi),   # t is zero before time pi\n",
    "    (-1, True)    # otherwise, t is 1\n",
    ")\n",
    "plot(f1, (t, -2*pi, 4*pi))"
   ]
  },
  {
   "cell_type": "code",
   "execution_count": 3,
   "id": "refined-connecticut",
   "metadata": {},
   "outputs": [
    {
     "data": {
      "image/png": "[encoded data removed]",
      "text/plain": [
       "<Figure size 432x288 with 1 Axes>"
      ]
     },
     "metadata": {
      "needs_background": "light"
     },
     "output_type": "display_data"
    },
    {
     "data": {
      "text/plain": [
       "<sympy.plotting.plot.Plot at 0x7f817171f490>"
      ]
     },
     "execution_count": 3,
     "metadata": {},
     "output_type": "execute_result"
    }
   ],
   "source": [
    "f2 = Piecewise(\n",
    "    (0, t < pi/2),   # t is zero before time pi\n",
    "    (1, t < pi),      # otherwise, t is 1\n",
    "    (0, True)      # otherwise, t is 1\n",
    ")\n",
    "plot(f2, (t, -pi, 4*pi))"
   ]
  },
  {
   "cell_type": "code",
   "execution_count": 4,
   "id": "intense-arena",
   "metadata": {},
   "outputs": [],
   "source": [
    "f = f1 # choose function to evaluate"
   ]
  },
  {
   "cell_type": "markdown",
   "id": "selected-contract",
   "metadata": {},
   "source": [
    "# Fourier Series using $\\{e^{-ikt}\\}$, $k=[-\\infty, \\dots, \\infty]$ as Basis"
   ]
  },
  {
   "cell_type": "code",
   "execution_count": 5,
   "id": "ruled-longitude",
   "metadata": {},
   "outputs": [],
   "source": [
    "k = symbols('k', real=True, integer=True)\n",
    "psi_k = exp(-I*k*t)\n",
    "tau = 2*pi\n",
    "\n",
    "ak = L2_coefficient(f, psi_k, tau)"
   ]
  },
  {
   "cell_type": "code",
   "execution_count": 6,
   "id": "appreciated-calculation",
   "metadata": {},
   "outputs": [
    {
     "data": {
      "text/latex": [
       "$\\displaystyle \\psi_{k} = e^{- i k t}$"
      ],
      "text/plain": [
       "Eq(\\psi_k, exp(-I*k*t))"
      ]
     },
     "execution_count": 6,
     "metadata": {},
     "output_type": "execute_result"
    }
   ],
   "source": [
    "# this is just a fancy way to make sympy print the left hand side of the equation \"a_k = \"\n",
    "# otherwise if will just print the right hand side\n",
    "\n",
    "Eq(symbols('\\psi_k'), psi_k)"
   ]
  },
  {
   "cell_type": "code",
   "execution_count": 7,
   "id": "indonesian-killer",
   "metadata": {},
   "outputs": [
    {
     "data": {
      "text/latex": [
       "$\\displaystyle a_{k} = \\begin{cases} \\frac{i \\left(1 - \\left(-1\\right)^{k}\\right)}{\\pi k} & \\text{for}\\: k \\neq 0 \\\\0 & \\text{otherwise} \\end{cases}$"
      ],
      "text/plain": [
       "Eq(a_k, Piecewise((I*(1 - (-1)**k)/(pi*k), Ne(k, 0)), (0, True)))"
      ]
     },
     "execution_count": 7,
     "metadata": {},
     "output_type": "execute_result"
    }
   ],
   "source": [
    "Eq(symbols('a_k'), ak)"
   ]
  },
  {
   "cell_type": "markdown",
   "id": "nuclear-permit",
   "metadata": {},
   "source": [
    "$approx = a_0*\\psi_0 + a_1*\\psi_1 + a_{-1}*\\psi_{-1} + \\ldots$"
   ]
  },
  {
   "cell_type": "code",
   "execution_count": 8,
   "id": "varied-sessions",
   "metadata": {},
   "outputs": [
    {
     "data": {
      "text/latex": [
       "$\\displaystyle approx = - \\frac{2 i e^{5 i t}}{5 \\pi} - \\frac{2 i e^{3 i t}}{3 \\pi} - \\frac{2 i e^{i t}}{\\pi} + \\frac{2 i e^{- i t}}{\\pi} + \\frac{2 i e^{- 3 i t}}{3 \\pi} + \\frac{2 i e^{- 5 i t}}{5 \\pi}$"
      ],
      "text/plain": [
       "Eq(approx, -2*I*exp(5*I*t)/(5*pi) - 2*I*exp(3*I*t)/(3*pi) - 2*I*exp(I*t)/pi + 2*I*exp(-I*t)/pi + 2*I*exp(-3*I*t)/(3*pi) + 2*I*exp(-5*I*t)/(5*pi))"
      ]
     },
     "execution_count": 8,
     "metadata": {},
     "output_type": "execute_result"
    }
   ],
   "source": [
    "n = 5  # onto basis functions psi_{-10} ... psi_{10}\n",
    "start = -2*pi\n",
    "stop = 4*pi\n",
    "\n",
    "approx = 0\n",
    "for k_i in range(-n, n+1):\n",
    "    approx += (ak*psi_k).subs(k, k_i)\n",
    "\n",
    "Eq(symbols('approx'), approx)"
   ]
  },
  {
   "cell_type": "code",
   "execution_count": 9,
   "id": "insured-retailer",
   "metadata": {},
   "outputs": [
    {
     "data": {
      "image/png": "[encoded data removed]",
      "text/plain": [
       "<Figure size 432x288 with 1 Axes>"
      ]
     },
     "metadata": {
      "needs_background": "light"
     },
     "output_type": "display_data"
    }
   ],
   "source": [
    "fig = plot(approx, f, (t, start, stop), legend=True, show=False)\n",
    "fig[0].line_color='r'\n",
    "fig[0].label = 'p_' + str(n)\n",
    "fig[1].label = 'f'\n",
    "fig.show()"
   ]
  },
  {
   "cell_type": "code",
   "execution_count": 10,
   "id": "blocked-mining",
   "metadata": {},
   "outputs": [
    {
     "data": {
      "image/png": "[encoded data removed]",
      "text/plain": [
       "<Figure size 432x288 with 1 Axes>"
      ]
     },
     "metadata": {
      "needs_background": "light"
     },
     "output_type": "display_data"
    }
   ],
   "source": [
    "def do_plot():\n",
    "    # how to convert symbolic functions into numerical functions\n",
    "    f_func = lambdify(t, f)\n",
    "    approx_func = lambdify(t, approx)\n",
    "    \n",
    "    # generate data\n",
    "    t_vals = np.linspace(-0.5*np.pi, 2.5*np.pi, 1000)\n",
    "    f_vals = f_func(t_vals)\n",
    "    \n",
    "    approx_vals =  np.real(approx_func(t_vals))\n",
    "    plt.plot(t_vals, f_vals)\n",
    "    plt.plot(t_vals, approx_vals)\n",
    "    \n",
    "    \n",
    "    #plt.plot(0*tau, 0.5, 'ro')\n",
    "    #plt.plot(tau, 0.5, 'ro')\n",
    "\n",
    "do_plot()"
   ]
  },
  {
   "cell_type": "code",
   "execution_count": 11,
   "id": "conceptual-brooklyn",
   "metadata": {},
   "outputs": [
    {
     "data": {
      "text/latex": [
       "$\\displaystyle - \\frac{2 i e^{5 i t}}{5 \\pi} - \\frac{2 i e^{3 i t}}{3 \\pi} - \\frac{2 i e^{i t}}{\\pi} + \\frac{2 i e^{- i t}}{\\pi} + \\frac{2 i e^{- 3 i t}}{3 \\pi} + \\frac{2 i e^{- 5 i t}}{5 \\pi}$"
      ],
      "text/plain": [
       "-2*I*exp(5*I*t)/(5*pi) - 2*I*exp(3*I*t)/(3*pi) - 2*I*exp(I*t)/pi + 2*I*exp(-I*t)/pi + 2*I*exp(-3*I*t)/(3*pi) + 2*I*exp(-5*I*t)/(5*pi)"
      ]
     },
     "execution_count": 11,
     "metadata": {},
     "output_type": "execute_result"
    }
   ],
   "source": [
    "approx"
   ]
  },
  {
   "cell_type": "code",
   "execution_count": 12,
   "id": "scheduled-inside",
   "metadata": {},
   "outputs": [
    {
     "data": {
      "text/latex": [
       "$\\displaystyle \\frac{4 \\sin{\\left(t \\right)}}{\\pi} + \\frac{4 \\sin{\\left(3 t \\right)}}{3 \\pi} + \\frac{4 \\sin{\\left(5 t \\right)}}{5 \\pi}$"
      ],
      "text/plain": [
       "4*sin(t)/pi + 4*sin(3*t)/(3*pi) + 4*sin(5*t)/(5*pi)"
      ]
     },
     "execution_count": 12,
     "metadata": {},
     "output_type": "execute_result"
    }
   ],
   "source": [
    "approx.expand(complex=True)"
   ]
  },
  {
   "cell_type": "markdown",
   "id": "exterior-transsexual",
   "metadata": {},
   "source": [
    "# Power Spectrum"
   ]
  },
  {
   "cell_type": "code",
   "execution_count": 13,
   "id": "infrared-poster",
   "metadata": {},
   "outputs": [
    {
     "data": {
      "image/png": "[encoded data removed]",
      "text/plain": [
       "<Figure size 432x288 with 1 Axes>"
      ]
     },
     "metadata": {
      "needs_background": "light"
     },
     "output_type": "display_data"
    }
   ],
   "source": [
    "# there isn't a great way to do scatter plots in sympy, so we will plot our \n",
    "# power spectrum using the matplotlib library, imported at the top of this\n",
    "# notebook\n",
    "k_values = range(-n, n+1)\n",
    "power = abs(ak)**2\n",
    "\n",
    "# this is building a list of power values evaluating the function\n",
    "# using list comprehension, a short way to write for loops\n",
    "# https://www.programiz.com/python-programming/list-comprehension\n",
    "power_values = [ power.subs(k, ki) for ki in k_values]\n",
    "plt.bar(k_values, power_values)\n",
    "plt.xlabel('k')\n",
    "plt.ylabel('power: $|a_k|^2$')\n",
    "plt.title('power spectrum')\n",
    "plt.grid()"
   ]
  },
  {
   "cell_type": "code",
   "execution_count": 14,
   "id": "tracked-oklahoma",
   "metadata": {},
   "outputs": [
    {
     "data": {
      "text/plain": [
       "<BarContainer object of 11 artists>"
      ]
     },
     "execution_count": 14,
     "metadata": {},
     "output_type": "execute_result"
    },
    {
     "data": {
      "image/png": "[encoded data removed]",
      "text/plain": [
       "<Figure size 432x288 with 1 Axes>"
      ]
     },
     "metadata": {
      "needs_background": "light"
     },
     "output_type": "display_data"
    }
   ],
   "source": [
    "plt.bar(k_values, power_values)\n"
   ]
  },
  {
   "cell_type": "markdown",
   "id": "interracial-musician",
   "metadata": {},
   "source": [
    "# Using $\\{1, \\cos(2\\pi k t/\\tau), \\sin(2\\pi k t/\\tau\\}$ as Basis"
   ]
  },
  {
   "cell_type": "code",
   "execution_count": 15,
   "id": "written-invitation",
   "metadata": {},
   "outputs": [
    {
     "data": {
      "text/latex": [
       "$\\displaystyle \\psi_{1k} = \\cos{\\left(k t \\right)}$"
      ],
      "text/plain": [
       "Eq(\\psi_1k, cos(k*t))"
      ]
     },
     "execution_count": 15,
     "metadata": {},
     "output_type": "execute_result"
    }
   ],
   "source": [
    "psi_1k = cos(k*t*2*pi/tau)\n",
    "Eq(symbols('\\psi_1k'), psi_1k)"
   ]
  },
  {
   "cell_type": "code",
   "execution_count": 16,
   "id": "tribal-termination",
   "metadata": {},
   "outputs": [
    {
     "data": {
      "text/latex": [
       "$\\displaystyle \\alpha_{k} = 0$"
      ],
      "text/plain": [
       "Eq(alpha_k, 0)"
      ]
     },
     "execution_count": 16,
     "metadata": {},
     "output_type": "execute_result"
    }
   ],
   "source": [
    "alpha_k = L2_coefficient(f, psi_1k, tau)\n",
    "Eq(symbols('alpha_k'), alpha_k)"
   ]
  },
  {
   "cell_type": "code",
   "execution_count": 17,
   "id": "soviet-procurement",
   "metadata": {},
   "outputs": [
    {
     "data": {
      "text/latex": [
       "$\\displaystyle \\psi_{2k} = \\sin{\\left(k t \\right)}$"
      ],
      "text/plain": [
       "Eq(\\psi_2k, sin(k*t))"
      ]
     },
     "execution_count": 17,
     "metadata": {},
     "output_type": "execute_result"
    }
   ],
   "source": [
    "psi_2k = sin(k*t*2*pi/tau)\n",
    "Eq(symbols('\\psi_2k'), psi_2k)"
   ]
  },
  {
   "cell_type": "code",
   "execution_count": 18,
   "id": "overhead-tulsa",
   "metadata": {},
   "outputs": [
    {
     "data": {
      "text/latex": [
       "$\\displaystyle \\beta_{k} = \\begin{cases} \\frac{2 \\left(1 - \\left(-1\\right)^{k}\\right)}{\\pi k} & \\text{for}\\: k \\neq 0 \\\\\\text{NaN} & \\text{otherwise} \\end{cases}$"
      ],
      "text/plain": [
       "Eq(beta_k, Piecewise((2*(1 - (-1)**k)/(pi*k), Ne(k, 0)), (nan, True)))"
      ]
     },
     "execution_count": 18,
     "metadata": {},
     "output_type": "execute_result"
    }
   ],
   "source": [
    "beta_k = L2_coefficient(f, psi_2k, tau)\n",
    "Eq(symbols('beta_k'), beta_k)"
   ]
  },
  {
   "cell_type": "code",
   "execution_count": 19,
   "id": "reserved-abraham",
   "metadata": {},
   "outputs": [
    {
     "data": {
      "text/latex": [
       "$\\displaystyle a_{0} = 0$"
      ],
      "text/plain": [
       "Eq(a_0, 0)"
      ]
     },
     "execution_count": 19,
     "metadata": {},
     "output_type": "execute_result"
    }
   ],
   "source": [
    "psi_1 = 1\n",
    "a_0 = L2_coefficient(f, psi_1, tau)\n",
    "Eq(symbols('a_0'), a_0)"
   ]
  },
  {
   "cell_type": "code",
   "execution_count": 20,
   "id": "immediate-dependence",
   "metadata": {},
   "outputs": [
    {
     "name": "stdout",
     "output_type": "stream",
     "text": [
      "4*sin(t)/pi\n",
      "4*sin(t)/pi\n",
      "4*sin(t)/pi + 4*sin(3*t)/(3*pi)\n",
      "4*sin(t)/pi + 4*sin(3*t)/(3*pi)\n",
      "4*sin(t)/pi + 4*sin(3*t)/(3*pi) + 4*sin(5*t)/(5*pi)\n"
     ]
    }
   ],
   "source": [
    "approx = a_0\n",
    "for k_i in range(1, n+1):\n",
    "    approx += (alpha_k*psi_1k + beta_k*psi_2k).subs(k, k_i)\n",
    "    print(approx)"
   ]
  },
  {
   "cell_type": "code",
   "execution_count": 21,
   "id": "finnish-bargain",
   "metadata": {},
   "outputs": [
    {
     "data": {
      "image/png": "[encoded data removed]",
      "text/plain": [
       "<Figure size 432x288 with 1 Axes>"
      ]
     },
     "metadata": {
      "needs_background": "light"
     },
     "output_type": "display_data"
    }
   ],
   "source": [
    "fig = plot(approx, f, (t, start, stop), legend=True, show=False)\n",
    "fig[0].line_color='r'\n",
    "fig[0].label = 'p_' + str(n)\n",
    "fig[1].label = 'f'\n",
    "fig.show()"
   ]
  },
  {
   "cell_type": "code",
   "execution_count": 22,
   "id": "studied-table",
   "metadata": {},
   "outputs": [
    {
     "data": {
      "text/latex": [
       "$\\displaystyle \\frac{4 \\sin{\\left(t \\right)}}{\\pi} + \\frac{4 \\sin{\\left(3 t \\right)}}{3 \\pi} + \\frac{4 \\sin{\\left(5 t \\right)}}{5 \\pi}$"
      ],
      "text/plain": [
       "4*sin(t)/pi + 4*sin(3*t)/(3*pi) + 4*sin(5*t)/(5*pi)"
      ]
     },
     "execution_count": 22,
     "metadata": {},
     "output_type": "execute_result"
    }
   ],
   "source": [
    "approx"
   ]
  }
 ],
 "metadata": {
  "kernelspec": {
   "display_name": "Python 3",
   "language": "python",
   "name": "python3"
  },
  "language_info": {
   "codemirror_mode": {
    "name": "ipython",
    "version": 3
   },
   "file_extension": ".py",
   "mimetype": "text/x-python",
   "name": "python",
   "nbconvert_exporter": "python",
   "pygments_lexer": "ipython3",
   "version": "3.8.6"
  }
 },
 "nbformat": 4,
 "nbformat_minor": 5
}
