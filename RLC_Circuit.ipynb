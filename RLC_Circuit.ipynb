{
 "cells": [
  {
   "cell_type": "code",
   "execution_count": 1,
   "id": "logical-glance",
   "metadata": {},
   "outputs": [],
   "source": [
    "import sympy\n",
    "import scipy.signal\n",
    "import numpy as np\n",
    "import matplotlib.pyplot as plt"
   ]
  },
  {
   "cell_type": "markdown",
   "id": "vocal-giving",
   "metadata": {},
   "source": [
    "![Circuit](fig/circuit.png)"
   ]
  },
  {
   "cell_type": "markdown",
   "id": "combined-training",
   "metadata": {},
   "source": [
    "Define your variables"
   ]
  },
  {
   "cell_type": "code",
   "execution_count": 2,
   "id": "optimum-noise",
   "metadata": {},
   "outputs": [],
   "source": [
    "R_1, R_2, L, C, I_1, I_2, I_3, U, s, t = sympy.symbols('R_1, R_2, L, C, I_1, I_2, I_3, U, s, t')"
   ]
  },
  {
   "cell_type": "markdown",
   "id": "front-peeing",
   "metadata": {},
   "source": [
    "Setup your equations based on loop laws."
   ]
  },
  {
   "cell_type": "code",
   "execution_count": 3,
   "id": "incident-landing",
   "metadata": {},
   "outputs": [
    {
     "data": {
      "text/latex": [
       "$\\displaystyle - I_{1} R_{1} + U - \\frac{I_{1} - I_{2}}{C s}$"
      ],
      "text/plain": [
       "-I_1*R_1 + U - (I_1 - I_2)/(C*s)"
      ]
     },
     "execution_count": 3,
     "metadata": {},
     "output_type": "execute_result"
    }
   ],
   "source": [
    "eq1 = U - R_1*I_1 - (1/C)*(I_1 - I_2)/s\n",
    "eq1"
   ]
  },
  {
   "cell_type": "code",
   "execution_count": 4,
   "id": "employed-thomson",
   "metadata": {},
   "outputs": [
    {
     "data": {
      "text/latex": [
       "$\\displaystyle \\frac{I_{2} L}{s} + I_{2} R_{2} - \\frac{I_{1} - I_{2}}{C s}$"
      ],
      "text/plain": [
       "I_2*L/s + I_2*R_2 - (I_1 - I_2)/(C*s)"
      ]
     },
     "execution_count": 4,
     "metadata": {},
     "output_type": "execute_result"
    }
   ],
   "source": [
    "eq2 = R_2*I_2 + L*(I_2/s) - (1/(C*s))*(I_1 - I_2)\n",
    "eq2"
   ]
  },
  {
   "cell_type": "markdown",
   "id": "dutch-tuning",
   "metadata": {},
   "source": [
    "Solve your equations."
   ]
  },
  {
   "cell_type": "code",
   "execution_count": 5,
   "id": "front-command",
   "metadata": {},
   "outputs": [
    {
     "data": {
      "text/latex": [
       "$\\displaystyle \\frac{C L U s + C R_{2} U s^{2} + U s}{C L R_{1} s + C R_{1} R_{2} s^{2} + L + R_{1} s + R_{2} s}$"
      ],
      "text/plain": [
       "(C*L*U*s + C*R_2*U*s**2 + U*s)/(C*L*R_1*s + C*R_1*R_2*s**2 + L + R_1*s + R_2*s)"
      ]
     },
     "execution_count": 5,
     "metadata": {},
     "output_type": "execute_result"
    }
   ],
   "source": [
    "sol = sympy.solve([eq1, eq2], [I_1, I_2])\n",
    "sol[I_1]"
   ]
  },
  {
   "cell_type": "code",
   "execution_count": 6,
   "id": "stretch-right",
   "metadata": {},
   "outputs": [
    {
     "data": {
      "text/latex": [
       "$\\displaystyle \\frac{U s}{C L R_{1} s + C R_{1} R_{2} s^{2} + L + R_{1} s + R_{2} s}$"
      ],
      "text/plain": [
       "U*s/(C*L*R_1*s + C*R_1*R_2*s**2 + L + R_1*s + R_2*s)"
      ]
     },
     "execution_count": 6,
     "metadata": {},
     "output_type": "execute_result"
    }
   ],
   "source": [
    "sol[I_2]"
   ]
  },
  {
   "cell_type": "markdown",
   "id": "quarterly-boating",
   "metadata": {},
   "source": [
    "Find the transfer function for the voltage drop across the inductor."
   ]
  },
  {
   "cell_type": "code",
   "execution_count": 7,
   "id": "static-vault",
   "metadata": {},
   "outputs": [
    {
     "data": {
      "text/latex": [
       "$\\displaystyle - \\frac{L s^{2}}{C L R_{1} s + C R_{1} R_{2} s^{2} + L + R_{1} s + R_{2} s}$"
      ],
      "text/plain": [
       "-L*s**2/(C*L*R_1*s + C*R_1*R_2*s**2 + L + R_1*s + R_2*s)"
      ]
     },
     "execution_count": 7,
     "metadata": {},
     "output_type": "execute_result"
    }
   ],
   "source": [
    "G = (-L*s*sol[I_2])/U\n",
    "G"
   ]
  },
  {
   "cell_type": "code",
   "execution_count": 8,
   "id": "faced-flavor",
   "metadata": {},
   "outputs": [],
   "source": [
    "component_values = {\n",
    "    R_1: 1,\n",
    "    R_2: 1,\n",
    "    L: 1,\n",
    "    C: sympy.Rational(1, 2)\n",
    "}"
   ]
  },
  {
   "cell_type": "code",
   "execution_count": 9,
   "id": "bronze-nursing",
   "metadata": {},
   "outputs": [
    {
     "data": {
      "text/latex": [
       "$\\displaystyle - \\frac{s^{2}}{\\frac{s^{2}}{2} + \\frac{5 s}{2} + 1}$"
      ],
      "text/plain": [
       "-s**2/(s**2/2 + 5*s/2 + 1)"
      ]
     },
     "execution_count": 9,
     "metadata": {},
     "output_type": "execute_result"
    }
   ],
   "source": [
    "G1 = G.subs(component_values)\n",
    "G1"
   ]
  },
  {
   "cell_type": "code",
   "execution_count": 10,
   "id": "global-acrobat",
   "metadata": {},
   "outputs": [
    {
     "data": {
      "image/png": "[encoded data removed]",
      "text/plain": [
       "<Figure size 432x288 with 1 Axes>"
      ]
     },
     "metadata": {
      "needs_background": "light"
     },
     "output_type": "display_data"
    },
    {
     "data": {
      "text/plain": [
       "<sympy.plotting.plot.Plot at 0x7fe3b770c520>"
      ]
     },
     "execution_count": 10,
     "metadata": {},
     "output_type": "execute_result"
    }
   ],
   "source": [
    "sympy.plot(sympy.Heaviside(t), title='unit step')"
   ]
  },
  {
   "cell_type": "code",
   "execution_count": 11,
   "id": "terminal-champagne",
   "metadata": {},
   "outputs": [
    {
     "data": {
      "text/latex": [
       "$\\displaystyle g{\\left(t \\right)} = \\frac{\\left(- 21 \\sqrt{17} e^{\\sqrt{17} t} + 85 e^{\\sqrt{17} t} + 85 + 21 \\sqrt{17}\\right) e^{- \\frac{5 t}{2} - \\frac{\\sqrt{17} t}{2}} \\theta\\left(t\\right)}{17} - 2 \\delta\\left(t\\right)$"
      ],
      "text/plain": [
       "Eq(g(t), (-21*sqrt(17)*exp(sqrt(17)*t) + 85*exp(sqrt(17)*t) + 85 + 21*sqrt(17))*exp(-5*t/2 - sqrt(17)*t/2)*Heaviside(t)/17 - 2*DiracDelta(t))"
      ]
     },
     "execution_count": 11,
     "metadata": {},
     "output_type": "execute_result"
    }
   ],
   "source": [
    "g = sympy.inverse_laplace_transform(sympy.apart(G1), s, t)\n",
    "sympy.Eq(sympy.Function('g')(t), g)"
   ]
  },
  {
   "cell_type": "code",
   "execution_count": 12,
   "id": "liberal-stanford",
   "metadata": {},
   "outputs": [
    {
     "data": {
      "image/png": "[encoded data removed]",
      "text/plain": [
       "<Figure size 432x288 with 1 Axes>"
      ]
     },
     "metadata": {
      "needs_background": "light"
     },
     "output_type": "display_data"
    },
    {
     "data": {
      "text/plain": [
       "<sympy.plotting.plot.Plot at 0x7fe3b7786400>"
      ]
     },
     "execution_count": 12,
     "metadata": {},
     "output_type": "execute_result"
    }
   ],
   "source": [
    "sympy.plot(g, (t, -1, 10))"
   ]
  },
  {
   "cell_type": "code",
   "execution_count": 13,
   "id": "reduced-bahamas",
   "metadata": {},
   "outputs": [
    {
     "data": {
      "text/plain": [
       "[1, 2, 3]"
      ]
     },
     "execution_count": 13,
     "metadata": {},
     "output_type": "execute_result"
    }
   ],
   "source": [
    "num, den = sympy.fraction(G1)\n",
    "sympy.Poly(s**2 + 2*s  +3, s).all_coeffs()"
   ]
  },
  {
   "cell_type": "code",
   "execution_count": 14,
   "id": "sitting-karma",
   "metadata": {},
   "outputs": [
    {
     "data": {
      "image/png": "[encoded data removed]",
      "text/plain": [
       "<Figure size 720x360 with 1 Axes>"
      ]
     },
     "metadata": {
      "needs_background": "light"
     },
     "output_type": "display_data"
    }
   ],
   "source": [
    "def sympy_vs_numerical():\n",
    "    t_vals = np.linspace(0, 4, 1000)\n",
    "    \n",
    "    dirac_delta = lambda t: scipy.signal.unit_impulse(len(t))\n",
    "    unit_step = lambda t: np.heaviside(t, 1)\n",
    "    \n",
    "    f_eval = sympy.lambdify([t], g, modules = [{\n",
    "        'Heaviside': unit_step,\n",
    "        'DiracDelta': dirac_delta,\n",
    "    }, 'numpy'])\n",
    "\n",
    "    num, den = sympy.fraction(G1)\n",
    "    num_coeffs = sympy.Poly(num, s).all_coeffs()\n",
    "    den_coeffs = sympy.Poly(den, s).all_coeffs()\n",
    "    \n",
    "    r, p, k = scipy.signal.residue(num_coeffs, den_coeffs)\n",
    "    \n",
    "    y = 0\n",
    "    \n",
    "    if len(k) > 0:\n",
    "        y = k[0]*dirac_delta(t_vals)\n",
    "\n",
    "    for i in range(len(r)):\n",
    "        y += r[i]*np.exp(p[i]*t_vals)\n",
    "\n",
    "    plt.figure(figsize=(10, 5))\n",
    "    plt.plot(t_vals, y, linewidth=10, label='residue')\n",
    "    plt.plot(t_vals, f_eval(t_vals), linewidth=4, label='analytical')\n",
    "    plt.grid()\n",
    "    plt.title('Voltage Drop Across Inductor for a Unit Impulse')\n",
    "    plt.ylabel('Volts')\n",
    "    plt.xlabel('t, sec')\n",
    "    plt.legend()\n",
    "    \n",
    "sympy_vs_numerical()"
   ]
  },
  {
   "cell_type": "markdown",
   "id": "dedicated-header",
   "metadata": {},
   "source": [
    "$$ y(t) = \\int_0^{t} g(t) u(t - \\tau) d\\tau$$"
   ]
  }
 ],
 "metadata": {
  "kernelspec": {
   "display_name": "Python 3",
   "language": "python",
   "name": "python3"
  },
  "language_info": {
   "codemirror_mode": {
    "name": "ipython",
    "version": 3
   },
   "file_extension": ".py",
   "mimetype": "text/x-python",
   "name": "python",
   "nbconvert_exporter": "python",
   "pygments_lexer": "ipython3",
   "version": "3.8.6"
  }
 },
 "nbformat": 4,
 "nbformat_minor": 5
}
